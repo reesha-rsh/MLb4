{
  "cells": [
    {
      "cell_type": "markdown",
      "metadata": {
        "id": "view-in-github",
        "colab_type": "text"
      },
      "source": [
        "<a href=\"https://colab.research.google.com/github/reesha-rsh/MLb4/blob/main/Homework/Homework_4__pawpularity.ipynb\" target=\"_parent\"><img src=\"https://colab.research.google.com/assets/colab-badge.svg\" alt=\"Open In Colab\"/></a>"
      ]
    },
    {
      "cell_type": "markdown",
      "metadata": {
        "id": "pHZHYxSZZlXa"
      },
      "source": [
        "# Homework 4 - Pawpularity\n",
        "\n",
        "It's time to train your first model on ~cats~ real data. The dataset of cute pets is avaialble here -  [Pawpularity Contest - Predict the popularity of shelter pet photos](https://www.kaggle.com/c/petfinder-pawpularity-score/data)\n",
        "\n",
        "\n",
        "Your task is to predict engagement with a pet's profile based on the photograph for that profile. You are also provided with hand-labelled metadata for each photo. The dataset for this competition therefore comprises both images and tabular data.\n",
        "\n",
        "In this homework we'll only use tabular meta data. Our goal is to fit linear reggresion on binary features. Let's see if we can do it better than predicting a constant.\n",
        "![PetFinder.my - Pawpularity Contest](https://www.petfinder.my/images/cuteness_meter-showcase.jpg)"
      ]
    },
    {
      "cell_type": "code",
      "execution_count": 47,
      "metadata": {
        "id": "N2bFunnAZlXf"
      },
      "outputs": [],
      "source": [
        "import pandas as pd\n",
        "import numpy as np\n",
        "\n",
        "import matplotlib.pyplot as plt\n",
        "import seaborn as sns\n",
        "sns.set(rc={'figure.figsize':(10,5)})\n",
        "%matplotlib inline"
      ]
    },
    {
      "cell_type": "code",
      "source": [
        "from google.colab import drive\n",
        "drive.mount('/content/drive')"
      ],
      "metadata": {
        "colab": {
          "base_uri": "https://localhost:8080/"
        },
        "id": "l2cQjguoR4Ri",
        "outputId": "8cd09b35-fe4d-4941-d42f-1ddf7e04e7b2"
      },
      "execution_count": 3,
      "outputs": [
        {
          "output_type": "stream",
          "name": "stdout",
          "text": [
            "Mounted at /content/drive\n"
          ]
        }
      ]
    },
    {
      "cell_type": "code",
      "execution_count": 21,
      "metadata": {
        "id": "vTT_5xo5ZlXh"
      },
      "outputs": [],
      "source": [
        "data = pd.read_csv(\"/content/drive/MyDrive/MLb4/Homework/Homework_4__pawpularity/train.csv\") # you can downloand only train.csv from https://www.kaggle.com/c/petfinder-pawpularity-score/data"
      ]
    },
    {
      "cell_type": "code",
      "execution_count": 12,
      "metadata": {
        "id": "p0_TaGVzZlXi",
        "colab": {
          "base_uri": "https://localhost:8080/",
          "height": 424
        },
        "outputId": "cd054fee-32a0-4eb0-db75-f86a0fdc129b"
      },
      "outputs": [
        {
          "output_type": "execute_result",
          "data": {
            "text/plain": [
              "                                    Id  Subject Focus  Eyes  Face  Near  \\\n",
              "0     0007de18844b0dbbb5e1f607da0606e0              0     1     1     1   \n",
              "1     0009c66b9439883ba2750fb825e1d7db              0     1     1     0   \n",
              "2     0013fd999caf9a3efe1352ca1b0d937e              0     1     1     1   \n",
              "3     0018df346ac9c1d8413cfcc888ca8246              0     1     1     1   \n",
              "4     001dc955e10590d3ca4673f034feeef2              0     0     0     1   \n",
              "...                                ...            ...   ...   ...   ...   \n",
              "9907  ffbfa0383c34dc513c95560d6e1fdb57              0     0     0     1   \n",
              "9908  ffcc8532d76436fc79e50eb2e5238e45              0     1     1     1   \n",
              "9909  ffdf2e8673a1da6fb80342fa3b119a20              0     1     1     1   \n",
              "9910  fff19e2ce11718548fa1c5d039a5192a              0     1     1     1   \n",
              "9911  fff8e47c766799c9e12f3cb3d66ad228              0     1     1     1   \n",
              "\n",
              "      Action  Accessory  Group  Collage  Human  Occlusion  Info  Blur  \\\n",
              "0          0          0      1        0      0          0     0     0   \n",
              "1          0          0      0        0      0          0     0     0   \n",
              "2          0          0      0        0      1          1     0     0   \n",
              "3          0          0      0        0      0          0     0     0   \n",
              "4          0          0      1        0      0          0     0     0   \n",
              "...      ...        ...    ...      ...    ...        ...   ...   ...   \n",
              "9907       0          0      0        0      0          0     0     1   \n",
              "9908       0          0      0        0      0          0     0     0   \n",
              "9909       0          0      0        0      1          1     0     0   \n",
              "9910       0          0      0        0      1          0     0     0   \n",
              "9911       0          0      0        0      0          0     0     0   \n",
              "\n",
              "      Pawpularity  \n",
              "0              63  \n",
              "1              42  \n",
              "2              28  \n",
              "3              15  \n",
              "4              72  \n",
              "...           ...  \n",
              "9907           15  \n",
              "9908           70  \n",
              "9909           20  \n",
              "9910           20  \n",
              "9911           30  \n",
              "\n",
              "[9912 rows x 14 columns]"
            ],
            "text/html": [
              "\n",
              "\n",
              "  <div id=\"df-7471a456-37b2-4de3-8d7e-fc87d21dad0b\">\n",
              "    <div class=\"colab-df-container\">\n",
              "      <div>\n",
              "<style scoped>\n",
              "    .dataframe tbody tr th:only-of-type {\n",
              "        vertical-align: middle;\n",
              "    }\n",
              "\n",
              "    .dataframe tbody tr th {\n",
              "        vertical-align: top;\n",
              "    }\n",
              "\n",
              "    .dataframe thead th {\n",
              "        text-align: right;\n",
              "    }\n",
              "</style>\n",
              "<table border=\"1\" class=\"dataframe\">\n",
              "  <thead>\n",
              "    <tr style=\"text-align: right;\">\n",
              "      <th></th>\n",
              "      <th>Id</th>\n",
              "      <th>Subject Focus</th>\n",
              "      <th>Eyes</th>\n",
              "      <th>Face</th>\n",
              "      <th>Near</th>\n",
              "      <th>Action</th>\n",
              "      <th>Accessory</th>\n",
              "      <th>Group</th>\n",
              "      <th>Collage</th>\n",
              "      <th>Human</th>\n",
              "      <th>Occlusion</th>\n",
              "      <th>Info</th>\n",
              "      <th>Blur</th>\n",
              "      <th>Pawpularity</th>\n",
              "    </tr>\n",
              "  </thead>\n",
              "  <tbody>\n",
              "    <tr>\n",
              "      <th>0</th>\n",
              "      <td>0007de18844b0dbbb5e1f607da0606e0</td>\n",
              "      <td>0</td>\n",
              "      <td>1</td>\n",
              "      <td>1</td>\n",
              "      <td>1</td>\n",
              "      <td>0</td>\n",
              "      <td>0</td>\n",
              "      <td>1</td>\n",
              "      <td>0</td>\n",
              "      <td>0</td>\n",
              "      <td>0</td>\n",
              "      <td>0</td>\n",
              "      <td>0</td>\n",
              "      <td>63</td>\n",
              "    </tr>\n",
              "    <tr>\n",
              "      <th>1</th>\n",
              "      <td>0009c66b9439883ba2750fb825e1d7db</td>\n",
              "      <td>0</td>\n",
              "      <td>1</td>\n",
              "      <td>1</td>\n",
              "      <td>0</td>\n",
              "      <td>0</td>\n",
              "      <td>0</td>\n",
              "      <td>0</td>\n",
              "      <td>0</td>\n",
              "      <td>0</td>\n",
              "      <td>0</td>\n",
              "      <td>0</td>\n",
              "      <td>0</td>\n",
              "      <td>42</td>\n",
              "    </tr>\n",
              "    <tr>\n",
              "      <th>2</th>\n",
              "      <td>0013fd999caf9a3efe1352ca1b0d937e</td>\n",
              "      <td>0</td>\n",
              "      <td>1</td>\n",
              "      <td>1</td>\n",
              "      <td>1</td>\n",
              "      <td>0</td>\n",
              "      <td>0</td>\n",
              "      <td>0</td>\n",
              "      <td>0</td>\n",
              "      <td>1</td>\n",
              "      <td>1</td>\n",
              "      <td>0</td>\n",
              "      <td>0</td>\n",
              "      <td>28</td>\n",
              "    </tr>\n",
              "    <tr>\n",
              "      <th>3</th>\n",
              "      <td>0018df346ac9c1d8413cfcc888ca8246</td>\n",
              "      <td>0</td>\n",
              "      <td>1</td>\n",
              "      <td>1</td>\n",
              "      <td>1</td>\n",
              "      <td>0</td>\n",
              "      <td>0</td>\n",
              "      <td>0</td>\n",
              "      <td>0</td>\n",
              "      <td>0</td>\n",
              "      <td>0</td>\n",
              "      <td>0</td>\n",
              "      <td>0</td>\n",
              "      <td>15</td>\n",
              "    </tr>\n",
              "    <tr>\n",
              "      <th>4</th>\n",
              "      <td>001dc955e10590d3ca4673f034feeef2</td>\n",
              "      <td>0</td>\n",
              "      <td>0</td>\n",
              "      <td>0</td>\n",
              "      <td>1</td>\n",
              "      <td>0</td>\n",
              "      <td>0</td>\n",
              "      <td>1</td>\n",
              "      <td>0</td>\n",
              "      <td>0</td>\n",
              "      <td>0</td>\n",
              "      <td>0</td>\n",
              "      <td>0</td>\n",
              "      <td>72</td>\n",
              "    </tr>\n",
              "    <tr>\n",
              "      <th>...</th>\n",
              "      <td>...</td>\n",
              "      <td>...</td>\n",
              "      <td>...</td>\n",
              "      <td>...</td>\n",
              "      <td>...</td>\n",
              "      <td>...</td>\n",
              "      <td>...</td>\n",
              "      <td>...</td>\n",
              "      <td>...</td>\n",
              "      <td>...</td>\n",
              "      <td>...</td>\n",
              "      <td>...</td>\n",
              "      <td>...</td>\n",
              "      <td>...</td>\n",
              "    </tr>\n",
              "    <tr>\n",
              "      <th>9907</th>\n",
              "      <td>ffbfa0383c34dc513c95560d6e1fdb57</td>\n",
              "      <td>0</td>\n",
              "      <td>0</td>\n",
              "      <td>0</td>\n",
              "      <td>1</td>\n",
              "      <td>0</td>\n",
              "      <td>0</td>\n",
              "      <td>0</td>\n",
              "      <td>0</td>\n",
              "      <td>0</td>\n",
              "      <td>0</td>\n",
              "      <td>0</td>\n",
              "      <td>1</td>\n",
              "      <td>15</td>\n",
              "    </tr>\n",
              "    <tr>\n",
              "      <th>9908</th>\n",
              "      <td>ffcc8532d76436fc79e50eb2e5238e45</td>\n",
              "      <td>0</td>\n",
              "      <td>1</td>\n",
              "      <td>1</td>\n",
              "      <td>1</td>\n",
              "      <td>0</td>\n",
              "      <td>0</td>\n",
              "      <td>0</td>\n",
              "      <td>0</td>\n",
              "      <td>0</td>\n",
              "      <td>0</td>\n",
              "      <td>0</td>\n",
              "      <td>0</td>\n",
              "      <td>70</td>\n",
              "    </tr>\n",
              "    <tr>\n",
              "      <th>9909</th>\n",
              "      <td>ffdf2e8673a1da6fb80342fa3b119a20</td>\n",
              "      <td>0</td>\n",
              "      <td>1</td>\n",
              "      <td>1</td>\n",
              "      <td>1</td>\n",
              "      <td>0</td>\n",
              "      <td>0</td>\n",
              "      <td>0</td>\n",
              "      <td>0</td>\n",
              "      <td>1</td>\n",
              "      <td>1</td>\n",
              "      <td>0</td>\n",
              "      <td>0</td>\n",
              "      <td>20</td>\n",
              "    </tr>\n",
              "    <tr>\n",
              "      <th>9910</th>\n",
              "      <td>fff19e2ce11718548fa1c5d039a5192a</td>\n",
              "      <td>0</td>\n",
              "      <td>1</td>\n",
              "      <td>1</td>\n",
              "      <td>1</td>\n",
              "      <td>0</td>\n",
              "      <td>0</td>\n",
              "      <td>0</td>\n",
              "      <td>0</td>\n",
              "      <td>1</td>\n",
              "      <td>0</td>\n",
              "      <td>0</td>\n",
              "      <td>0</td>\n",
              "      <td>20</td>\n",
              "    </tr>\n",
              "    <tr>\n",
              "      <th>9911</th>\n",
              "      <td>fff8e47c766799c9e12f3cb3d66ad228</td>\n",
              "      <td>0</td>\n",
              "      <td>1</td>\n",
              "      <td>1</td>\n",
              "      <td>1</td>\n",
              "      <td>0</td>\n",
              "      <td>0</td>\n",
              "      <td>0</td>\n",
              "      <td>0</td>\n",
              "      <td>0</td>\n",
              "      <td>0</td>\n",
              "      <td>0</td>\n",
              "      <td>0</td>\n",
              "      <td>30</td>\n",
              "    </tr>\n",
              "  </tbody>\n",
              "</table>\n",
              "<p>9912 rows × 14 columns</p>\n",
              "</div>\n",
              "      <button class=\"colab-df-convert\" onclick=\"convertToInteractive('df-7471a456-37b2-4de3-8d7e-fc87d21dad0b')\"\n",
              "              title=\"Convert this dataframe to an interactive table.\"\n",
              "              style=\"display:none;\">\n",
              "\n",
              "  <svg xmlns=\"http://www.w3.org/2000/svg\" height=\"24px\"viewBox=\"0 0 24 24\"\n",
              "       width=\"24px\">\n",
              "    <path d=\"M0 0h24v24H0V0z\" fill=\"none\"/>\n",
              "    <path d=\"M18.56 5.44l.94 2.06.94-2.06 2.06-.94-2.06-.94-.94-2.06-.94 2.06-2.06.94zm-11 1L8.5 8.5l.94-2.06 2.06-.94-2.06-.94L8.5 2.5l-.94 2.06-2.06.94zm10 10l.94 2.06.94-2.06 2.06-.94-2.06-.94-.94-2.06-.94 2.06-2.06.94z\"/><path d=\"M17.41 7.96l-1.37-1.37c-.4-.4-.92-.59-1.43-.59-.52 0-1.04.2-1.43.59L10.3 9.45l-7.72 7.72c-.78.78-.78 2.05 0 2.83L4 21.41c.39.39.9.59 1.41.59.51 0 1.02-.2 1.41-.59l7.78-7.78 2.81-2.81c.8-.78.8-2.07 0-2.86zM5.41 20L4 18.59l7.72-7.72 1.47 1.35L5.41 20z\"/>\n",
              "  </svg>\n",
              "      </button>\n",
              "\n",
              "\n",
              "\n",
              "    <div id=\"df-f2cb3d27-8533-4b9d-863f-48787afa04bf\">\n",
              "      <button class=\"colab-df-quickchart\" onclick=\"quickchart('df-f2cb3d27-8533-4b9d-863f-48787afa04bf')\"\n",
              "              title=\"Suggest charts.\"\n",
              "              style=\"display:none;\">\n",
              "\n",
              "<svg xmlns=\"http://www.w3.org/2000/svg\" height=\"24px\"viewBox=\"0 0 24 24\"\n",
              "     width=\"24px\">\n",
              "    <g>\n",
              "        <path d=\"M19 3H5c-1.1 0-2 .9-2 2v14c0 1.1.9 2 2 2h14c1.1 0 2-.9 2-2V5c0-1.1-.9-2-2-2zM9 17H7v-7h2v7zm4 0h-2V7h2v10zm4 0h-2v-4h2v4z\"/>\n",
              "    </g>\n",
              "</svg>\n",
              "      </button>\n",
              "    </div>\n",
              "\n",
              "<style>\n",
              "  .colab-df-quickchart {\n",
              "    background-color: #E8F0FE;\n",
              "    border: none;\n",
              "    border-radius: 50%;\n",
              "    cursor: pointer;\n",
              "    display: none;\n",
              "    fill: #1967D2;\n",
              "    height: 32px;\n",
              "    padding: 0 0 0 0;\n",
              "    width: 32px;\n",
              "  }\n",
              "\n",
              "  .colab-df-quickchart:hover {\n",
              "    background-color: #E2EBFA;\n",
              "    box-shadow: 0px 1px 2px rgba(60, 64, 67, 0.3), 0px 1px 3px 1px rgba(60, 64, 67, 0.15);\n",
              "    fill: #174EA6;\n",
              "  }\n",
              "\n",
              "  [theme=dark] .colab-df-quickchart {\n",
              "    background-color: #3B4455;\n",
              "    fill: #D2E3FC;\n",
              "  }\n",
              "\n",
              "  [theme=dark] .colab-df-quickchart:hover {\n",
              "    background-color: #434B5C;\n",
              "    box-shadow: 0px 1px 3px 1px rgba(0, 0, 0, 0.15);\n",
              "    filter: drop-shadow(0px 1px 2px rgba(0, 0, 0, 0.3));\n",
              "    fill: #FFFFFF;\n",
              "  }\n",
              "</style>\n",
              "\n",
              "    <script>\n",
              "      async function quickchart(key) {\n",
              "        const containerElement = document.querySelector('#' + key);\n",
              "        const charts = await google.colab.kernel.invokeFunction(\n",
              "            'suggestCharts', [key], {});\n",
              "      }\n",
              "    </script>\n",
              "\n",
              "      <script>\n",
              "\n",
              "function displayQuickchartButton(domScope) {\n",
              "  let quickchartButtonEl =\n",
              "    domScope.querySelector('#df-f2cb3d27-8533-4b9d-863f-48787afa04bf button.colab-df-quickchart');\n",
              "  quickchartButtonEl.style.display =\n",
              "    google.colab.kernel.accessAllowed ? 'block' : 'none';\n",
              "}\n",
              "\n",
              "        displayQuickchartButton(document);\n",
              "      </script>\n",
              "      <style>\n",
              "    .colab-df-container {\n",
              "      display:flex;\n",
              "      flex-wrap:wrap;\n",
              "      gap: 12px;\n",
              "    }\n",
              "\n",
              "    .colab-df-convert {\n",
              "      background-color: #E8F0FE;\n",
              "      border: none;\n",
              "      border-radius: 50%;\n",
              "      cursor: pointer;\n",
              "      display: none;\n",
              "      fill: #1967D2;\n",
              "      height: 32px;\n",
              "      padding: 0 0 0 0;\n",
              "      width: 32px;\n",
              "    }\n",
              "\n",
              "    .colab-df-convert:hover {\n",
              "      background-color: #E2EBFA;\n",
              "      box-shadow: 0px 1px 2px rgba(60, 64, 67, 0.3), 0px 1px 3px 1px rgba(60, 64, 67, 0.15);\n",
              "      fill: #174EA6;\n",
              "    }\n",
              "\n",
              "    [theme=dark] .colab-df-convert {\n",
              "      background-color: #3B4455;\n",
              "      fill: #D2E3FC;\n",
              "    }\n",
              "\n",
              "    [theme=dark] .colab-df-convert:hover {\n",
              "      background-color: #434B5C;\n",
              "      box-shadow: 0px 1px 3px 1px rgba(0, 0, 0, 0.15);\n",
              "      filter: drop-shadow(0px 1px 2px rgba(0, 0, 0, 0.3));\n",
              "      fill: #FFFFFF;\n",
              "    }\n",
              "  </style>\n",
              "\n",
              "      <script>\n",
              "        const buttonEl =\n",
              "          document.querySelector('#df-7471a456-37b2-4de3-8d7e-fc87d21dad0b button.colab-df-convert');\n",
              "        buttonEl.style.display =\n",
              "          google.colab.kernel.accessAllowed ? 'block' : 'none';\n",
              "\n",
              "        async function convertToInteractive(key) {\n",
              "          const element = document.querySelector('#df-7471a456-37b2-4de3-8d7e-fc87d21dad0b');\n",
              "          const dataTable =\n",
              "            await google.colab.kernel.invokeFunction('convertToInteractive',\n",
              "                                                     [key], {});\n",
              "          if (!dataTable) return;\n",
              "\n",
              "          const docLinkHtml = 'Like what you see? Visit the ' +\n",
              "            '<a target=\"_blank\" href=https://colab.research.google.com/notebooks/data_table.ipynb>data table notebook</a>'\n",
              "            + ' to learn more about interactive tables.';\n",
              "          element.innerHTML = '';\n",
              "          dataTable['output_type'] = 'display_data';\n",
              "          await google.colab.output.renderOutput(dataTable, element);\n",
              "          const docLink = document.createElement('div');\n",
              "          docLink.innerHTML = docLinkHtml;\n",
              "          element.appendChild(docLink);\n",
              "        }\n",
              "      </script>\n",
              "    </div>\n",
              "  </div>\n"
            ]
          },
          "metadata": {},
          "execution_count": 12
        }
      ],
      "source": [
        "data"
      ]
    },
    {
      "cell_type": "markdown",
      "metadata": {
        "id": "fCYW7LrCZlXj"
      },
      "source": [
        "Let's create train/test split. We keep 20% of data for testing model performance"
      ]
    },
    {
      "cell_type": "code",
      "execution_count": 22,
      "metadata": {
        "id": "hoNXNmnmZlXj",
        "colab": {
          "base_uri": "https://localhost:8080/"
        },
        "outputId": "b04ee748-a103-47f5-cd85-61bc06aab342"
      },
      "outputs": [
        {
          "output_type": "execute_result",
          "data": {
            "text/plain": [
              "((7929, 14), (1983, 14))"
            ]
          },
          "metadata": {},
          "execution_count": 22
        }
      ],
      "source": [
        "from sklearn.model_selection import train_test_split\n",
        "train, test = train_test_split(data, test_size=0.2, random_state=42, stratify=data.Pawpularity)\n",
        "train.shape, test.shape"
      ]
    },
    {
      "cell_type": "code",
      "execution_count": 6,
      "metadata": {
        "id": "tOFBANUJZlXj"
      },
      "outputs": [],
      "source": [
        "# Check that you have the same train/test split as othersф\n",
        "assert(train.iloc[5].Pawpularity == 13)\n",
        "assert(train.iloc[-5].Face == 1)\n",
        "assert(test.iloc[5].Group == 1)\n",
        "assert(test.iloc[-5].Pawpularity == 39)"
      ]
    },
    {
      "cell_type": "markdown",
      "metadata": {
        "id": "XIgavsVgZlXk"
      },
      "source": [
        "### Baseline"
      ]
    },
    {
      "cell_type": "code",
      "execution_count": 7,
      "metadata": {
        "id": "ZyafRwfRZlXl"
      },
      "outputs": [],
      "source": [
        "from sklearn.metrics import mean_squared_error"
      ]
    },
    {
      "cell_type": "markdown",
      "metadata": {
        "id": "9OXuprKMZlXl"
      },
      "source": [
        "Create a copy for test dataset:"
      ]
    },
    {
      "cell_type": "code",
      "execution_count": 8,
      "metadata": {
        "id": "fU0oWqKOZlXm"
      },
      "outputs": [],
      "source": [
        "test = test.copy()"
      ]
    },
    {
      "cell_type": "markdown",
      "metadata": {
        "id": "TqqzCLVjZlXm"
      },
      "source": [
        "Set baseline based on mean/median/mode:"
      ]
    },
    {
      "cell_type": "code",
      "source": [
        "features = data.columns[1:-1]\n",
        "features"
      ],
      "metadata": {
        "colab": {
          "base_uri": "https://localhost:8080/"
        },
        "id": "XxRssgEmSh7C",
        "outputId": "d4611c3f-dc27-4995-cdc7-4fcb8603ea28"
      },
      "execution_count": 13,
      "outputs": [
        {
          "output_type": "execute_result",
          "data": {
            "text/plain": [
              "Index(['Subject Focus', 'Eyes', 'Face', 'Near', 'Action', 'Accessory', 'Group',\n",
              "       'Collage', 'Human', 'Occlusion', 'Info', 'Blur'],\n",
              "      dtype='object')"
            ]
          },
          "metadata": {},
          "execution_count": 13
        }
      ]
    },
    {
      "cell_type": "code",
      "source": [
        "data[features].head(3)"
      ],
      "metadata": {
        "colab": {
          "base_uri": "https://localhost:8080/",
          "height": 143
        },
        "id": "-BPRsNTlSmVh",
        "outputId": "7293cdab-55f9-4762-da86-ffc00ce66f74"
      },
      "execution_count": 16,
      "outputs": [
        {
          "output_type": "execute_result",
          "data": {
            "text/plain": [
              "   Subject Focus  Eyes  Face  Near  Action  Accessory  Group  Collage  Human  \\\n",
              "0              0     1     1     1       0          0      1        0      0   \n",
              "1              0     1     1     0       0          0      0        0      0   \n",
              "2              0     1     1     1       0          0      0        0      1   \n",
              "\n",
              "   Occlusion  Info  Blur  \n",
              "0          0     0     0  \n",
              "1          0     0     0  \n",
              "2          1     0     0  "
            ],
            "text/html": [
              "\n",
              "\n",
              "  <div id=\"df-47d64ad3-9f33-47a4-a5ea-7464e29aaa58\">\n",
              "    <div class=\"colab-df-container\">\n",
              "      <div>\n",
              "<style scoped>\n",
              "    .dataframe tbody tr th:only-of-type {\n",
              "        vertical-align: middle;\n",
              "    }\n",
              "\n",
              "    .dataframe tbody tr th {\n",
              "        vertical-align: top;\n",
              "    }\n",
              "\n",
              "    .dataframe thead th {\n",
              "        text-align: right;\n",
              "    }\n",
              "</style>\n",
              "<table border=\"1\" class=\"dataframe\">\n",
              "  <thead>\n",
              "    <tr style=\"text-align: right;\">\n",
              "      <th></th>\n",
              "      <th>Subject Focus</th>\n",
              "      <th>Eyes</th>\n",
              "      <th>Face</th>\n",
              "      <th>Near</th>\n",
              "      <th>Action</th>\n",
              "      <th>Accessory</th>\n",
              "      <th>Group</th>\n",
              "      <th>Collage</th>\n",
              "      <th>Human</th>\n",
              "      <th>Occlusion</th>\n",
              "      <th>Info</th>\n",
              "      <th>Blur</th>\n",
              "    </tr>\n",
              "  </thead>\n",
              "  <tbody>\n",
              "    <tr>\n",
              "      <th>0</th>\n",
              "      <td>0</td>\n",
              "      <td>1</td>\n",
              "      <td>1</td>\n",
              "      <td>1</td>\n",
              "      <td>0</td>\n",
              "      <td>0</td>\n",
              "      <td>1</td>\n",
              "      <td>0</td>\n",
              "      <td>0</td>\n",
              "      <td>0</td>\n",
              "      <td>0</td>\n",
              "      <td>0</td>\n",
              "    </tr>\n",
              "    <tr>\n",
              "      <th>1</th>\n",
              "      <td>0</td>\n",
              "      <td>1</td>\n",
              "      <td>1</td>\n",
              "      <td>0</td>\n",
              "      <td>0</td>\n",
              "      <td>0</td>\n",
              "      <td>0</td>\n",
              "      <td>0</td>\n",
              "      <td>0</td>\n",
              "      <td>0</td>\n",
              "      <td>0</td>\n",
              "      <td>0</td>\n",
              "    </tr>\n",
              "    <tr>\n",
              "      <th>2</th>\n",
              "      <td>0</td>\n",
              "      <td>1</td>\n",
              "      <td>1</td>\n",
              "      <td>1</td>\n",
              "      <td>0</td>\n",
              "      <td>0</td>\n",
              "      <td>0</td>\n",
              "      <td>0</td>\n",
              "      <td>1</td>\n",
              "      <td>1</td>\n",
              "      <td>0</td>\n",
              "      <td>0</td>\n",
              "    </tr>\n",
              "  </tbody>\n",
              "</table>\n",
              "</div>\n",
              "      <button class=\"colab-df-convert\" onclick=\"convertToInteractive('df-47d64ad3-9f33-47a4-a5ea-7464e29aaa58')\"\n",
              "              title=\"Convert this dataframe to an interactive table.\"\n",
              "              style=\"display:none;\">\n",
              "\n",
              "  <svg xmlns=\"http://www.w3.org/2000/svg\" height=\"24px\"viewBox=\"0 0 24 24\"\n",
              "       width=\"24px\">\n",
              "    <path d=\"M0 0h24v24H0V0z\" fill=\"none\"/>\n",
              "    <path d=\"M18.56 5.44l.94 2.06.94-2.06 2.06-.94-2.06-.94-.94-2.06-.94 2.06-2.06.94zm-11 1L8.5 8.5l.94-2.06 2.06-.94-2.06-.94L8.5 2.5l-.94 2.06-2.06.94zm10 10l.94 2.06.94-2.06 2.06-.94-2.06-.94-.94-2.06-.94 2.06-2.06.94z\"/><path d=\"M17.41 7.96l-1.37-1.37c-.4-.4-.92-.59-1.43-.59-.52 0-1.04.2-1.43.59L10.3 9.45l-7.72 7.72c-.78.78-.78 2.05 0 2.83L4 21.41c.39.39.9.59 1.41.59.51 0 1.02-.2 1.41-.59l7.78-7.78 2.81-2.81c.8-.78.8-2.07 0-2.86zM5.41 20L4 18.59l7.72-7.72 1.47 1.35L5.41 20z\"/>\n",
              "  </svg>\n",
              "      </button>\n",
              "\n",
              "\n",
              "\n",
              "    <div id=\"df-dbd8eca2-7198-4ba0-a099-8a20d9739d8c\">\n",
              "      <button class=\"colab-df-quickchart\" onclick=\"quickchart('df-dbd8eca2-7198-4ba0-a099-8a20d9739d8c')\"\n",
              "              title=\"Suggest charts.\"\n",
              "              style=\"display:none;\">\n",
              "\n",
              "<svg xmlns=\"http://www.w3.org/2000/svg\" height=\"24px\"viewBox=\"0 0 24 24\"\n",
              "     width=\"24px\">\n",
              "    <g>\n",
              "        <path d=\"M19 3H5c-1.1 0-2 .9-2 2v14c0 1.1.9 2 2 2h14c1.1 0 2-.9 2-2V5c0-1.1-.9-2-2-2zM9 17H7v-7h2v7zm4 0h-2V7h2v10zm4 0h-2v-4h2v4z\"/>\n",
              "    </g>\n",
              "</svg>\n",
              "      </button>\n",
              "    </div>\n",
              "\n",
              "<style>\n",
              "  .colab-df-quickchart {\n",
              "    background-color: #E8F0FE;\n",
              "    border: none;\n",
              "    border-radius: 50%;\n",
              "    cursor: pointer;\n",
              "    display: none;\n",
              "    fill: #1967D2;\n",
              "    height: 32px;\n",
              "    padding: 0 0 0 0;\n",
              "    width: 32px;\n",
              "  }\n",
              "\n",
              "  .colab-df-quickchart:hover {\n",
              "    background-color: #E2EBFA;\n",
              "    box-shadow: 0px 1px 2px rgba(60, 64, 67, 0.3), 0px 1px 3px 1px rgba(60, 64, 67, 0.15);\n",
              "    fill: #174EA6;\n",
              "  }\n",
              "\n",
              "  [theme=dark] .colab-df-quickchart {\n",
              "    background-color: #3B4455;\n",
              "    fill: #D2E3FC;\n",
              "  }\n",
              "\n",
              "  [theme=dark] .colab-df-quickchart:hover {\n",
              "    background-color: #434B5C;\n",
              "    box-shadow: 0px 1px 3px 1px rgba(0, 0, 0, 0.15);\n",
              "    filter: drop-shadow(0px 1px 2px rgba(0, 0, 0, 0.3));\n",
              "    fill: #FFFFFF;\n",
              "  }\n",
              "</style>\n",
              "\n",
              "    <script>\n",
              "      async function quickchart(key) {\n",
              "        const containerElement = document.querySelector('#' + key);\n",
              "        const charts = await google.colab.kernel.invokeFunction(\n",
              "            'suggestCharts', [key], {});\n",
              "      }\n",
              "    </script>\n",
              "\n",
              "      <script>\n",
              "\n",
              "function displayQuickchartButton(domScope) {\n",
              "  let quickchartButtonEl =\n",
              "    domScope.querySelector('#df-dbd8eca2-7198-4ba0-a099-8a20d9739d8c button.colab-df-quickchart');\n",
              "  quickchartButtonEl.style.display =\n",
              "    google.colab.kernel.accessAllowed ? 'block' : 'none';\n",
              "}\n",
              "\n",
              "        displayQuickchartButton(document);\n",
              "      </script>\n",
              "      <style>\n",
              "    .colab-df-container {\n",
              "      display:flex;\n",
              "      flex-wrap:wrap;\n",
              "      gap: 12px;\n",
              "    }\n",
              "\n",
              "    .colab-df-convert {\n",
              "      background-color: #E8F0FE;\n",
              "      border: none;\n",
              "      border-radius: 50%;\n",
              "      cursor: pointer;\n",
              "      display: none;\n",
              "      fill: #1967D2;\n",
              "      height: 32px;\n",
              "      padding: 0 0 0 0;\n",
              "      width: 32px;\n",
              "    }\n",
              "\n",
              "    .colab-df-convert:hover {\n",
              "      background-color: #E2EBFA;\n",
              "      box-shadow: 0px 1px 2px rgba(60, 64, 67, 0.3), 0px 1px 3px 1px rgba(60, 64, 67, 0.15);\n",
              "      fill: #174EA6;\n",
              "    }\n",
              "\n",
              "    [theme=dark] .colab-df-convert {\n",
              "      background-color: #3B4455;\n",
              "      fill: #D2E3FC;\n",
              "    }\n",
              "\n",
              "    [theme=dark] .colab-df-convert:hover {\n",
              "      background-color: #434B5C;\n",
              "      box-shadow: 0px 1px 3px 1px rgba(0, 0, 0, 0.15);\n",
              "      filter: drop-shadow(0px 1px 2px rgba(0, 0, 0, 0.3));\n",
              "      fill: #FFFFFF;\n",
              "    }\n",
              "  </style>\n",
              "\n",
              "      <script>\n",
              "        const buttonEl =\n",
              "          document.querySelector('#df-47d64ad3-9f33-47a4-a5ea-7464e29aaa58 button.colab-df-convert');\n",
              "        buttonEl.style.display =\n",
              "          google.colab.kernel.accessAllowed ? 'block' : 'none';\n",
              "\n",
              "        async function convertToInteractive(key) {\n",
              "          const element = document.querySelector('#df-47d64ad3-9f33-47a4-a5ea-7464e29aaa58');\n",
              "          const dataTable =\n",
              "            await google.colab.kernel.invokeFunction('convertToInteractive',\n",
              "                                                     [key], {});\n",
              "          if (!dataTable) return;\n",
              "\n",
              "          const docLinkHtml = 'Like what you see? Visit the ' +\n",
              "            '<a target=\"_blank\" href=https://colab.research.google.com/notebooks/data_table.ipynb>data table notebook</a>'\n",
              "            + ' to learn more about interactive tables.';\n",
              "          element.innerHTML = '';\n",
              "          dataTable['output_type'] = 'display_data';\n",
              "          await google.colab.output.renderOutput(dataTable, element);\n",
              "          const docLink = document.createElement('div');\n",
              "          docLink.innerHTML = docLinkHtml;\n",
              "          element.appendChild(docLink);\n",
              "        }\n",
              "      </script>\n",
              "    </div>\n",
              "  </div>\n"
            ]
          },
          "metadata": {},
          "execution_count": 16
        }
      ]
    },
    {
      "cell_type": "code",
      "execution_count": 23,
      "metadata": {
        "id": "MP-x3ZBwZlXn"
      },
      "outputs": [],
      "source": [
        "test['baseline'] = 0 # try to use mean/median/mode as baseline"
      ]
    },
    {
      "cell_type": "code",
      "execution_count": 24,
      "metadata": {
        "scrolled": true,
        "id": "R0Zp37vjZlXn",
        "colab": {
          "base_uri": "https://localhost:8080/"
        },
        "outputId": "cc6b7ffb-d692-48b0-bfcf-d6c8b04c1280"
      },
      "outputs": [
        {
          "output_type": "execute_result",
          "data": {
            "text/plain": [
              "43.28163641116915"
            ]
          },
          "metadata": {},
          "execution_count": 24
        }
      ],
      "source": [
        "mean_squared_error(test.Pawpularity, test.baseline, squared=False)"
      ]
    },
    {
      "cell_type": "code",
      "source": [
        "test['mean'] = test[features].mean(axis = 1)\n",
        "mean_squared_error(test.Pawpularity, test['mean'], squared=False)"
      ],
      "metadata": {
        "colab": {
          "base_uri": "https://localhost:8080/"
        },
        "id": "7t5ksUHGSLIC",
        "outputId": "474ac443-fdb1-488c-f542-db3c52cea652"
      },
      "execution_count": 27,
      "outputs": [
        {
          "output_type": "execute_result",
          "data": {
            "text/plain": [
              "43.039497368737614"
            ]
          },
          "metadata": {},
          "execution_count": 27
        }
      ]
    },
    {
      "cell_type": "code",
      "source": [
        "test['median'] = test[features].median(axis = 1)\n",
        "mean_squared_error(test.Pawpularity, test['median'], squared=False)"
      ],
      "metadata": {
        "colab": {
          "base_uri": "https://localhost:8080/"
        },
        "id": "L9QrLSZ3TXZc",
        "outputId": "5b1a568e-3486-4128-e4ea-6c9966483586"
      },
      "execution_count": 29,
      "outputs": [
        {
          "output_type": "execute_result",
          "data": {
            "text/plain": [
              "43.26942123391883"
            ]
          },
          "metadata": {},
          "execution_count": 29
        }
      ]
    },
    {
      "cell_type": "code",
      "source": [
        "test['mode'] = test[features].mode(axis = 1).iloc[0].values[0]\n",
        "mean_squared_error(test.Pawpularity, test['mode'], squared=False)"
      ],
      "metadata": {
        "colab": {
          "base_uri": "https://localhost:8080/"
        },
        "id": "Ak6A0su8TcTK",
        "outputId": "39325c4a-ba8f-4920-9849-5634941fd890"
      },
      "execution_count": 32,
      "outputs": [
        {
          "output_type": "execute_result",
          "data": {
            "text/plain": [
              "43.28163641116915"
            ]
          },
          "metadata": {},
          "execution_count": 32
        }
      ]
    },
    {
      "cell_type": "code",
      "source": [
        "test"
      ],
      "metadata": {
        "colab": {
          "base_uri": "https://localhost:8080/",
          "height": 424
        },
        "id": "oBOccpLKTx9m",
        "outputId": "0013f0ff-1405-40be-eba3-d3de9c5d593d"
      },
      "execution_count": 33,
      "outputs": [
        {
          "output_type": "execute_result",
          "data": {
            "text/plain": [
              "                                    Id  Subject Focus  Eyes  Face  Near  \\\n",
              "6600  aa46b7ed85e184850477dd773f2e01a0              0     1     1     1   \n",
              "3336  562c19b150a2ad83c75a22fb81e6513a              0     1     1     0   \n",
              "4785  7b2a921cc744aecdd5d4a77ebf3a3d9c              0     1     1     1   \n",
              "2128  36e737146cadf7efd80eb95680e7dc86              0     1     1     1   \n",
              "4162  6a3eb0bb4ff8813da1470a9137f4830d              0     1     1     1   \n",
              "...                                ...            ...   ...   ...   ...   \n",
              "1243  205be2d8e887f2fabe6ef8cd7ae122d1              0     1     1     1   \n",
              "9608  f8001843e7514bbc112f668eb6dd22b5              0     1     1     1   \n",
              "7250  ba8194b599940def5a8a36fa5c576565              0     1     1     1   \n",
              "3025  4e3c8816d95b083b870c6747a26fcb58              0     0     0     1   \n",
              "1290  21384c98092f98e016541c7d64c1f36f              0     1     1     1   \n",
              "\n",
              "      Action  Accessory  Group  Collage  Human  Occlusion  Info  Blur  \\\n",
              "6600       0          0      0        0      0          0     0     0   \n",
              "3336       0          0      0        0      0          0     0     0   \n",
              "4785       0          0      0        0      1          1     0     0   \n",
              "2128       0          0      0        0      1          0     0     0   \n",
              "4162       0          0      0        0      0          0     0     0   \n",
              "...      ...        ...    ...      ...    ...        ...   ...   ...   \n",
              "1243       0          0      0        0      0          0     0     0   \n",
              "9608       0          0      0        0      0          1     0     0   \n",
              "7250       0          0      1        0      0          0     0     0   \n",
              "3025       0          0      0        0      1          1     0     1   \n",
              "1290       0          0      0        0      1          1     0     0   \n",
              "\n",
              "      Pawpularity  baseline      mean  median  mode  \n",
              "6600           38         0  0.250000     0.0   0.0  \n",
              "3336            2         0  0.166667     0.0   0.0  \n",
              "4785           42         0  0.416667     0.0   0.0  \n",
              "2128           24         0  0.333333     0.0   0.0  \n",
              "4162           45         0  0.250000     0.0   0.0  \n",
              "...           ...       ...       ...     ...   ...  \n",
              "1243           39         0  0.250000     0.0   0.0  \n",
              "9608           33         0  0.333333     0.0   0.0  \n",
              "7250           41         0  0.333333     0.0   0.0  \n",
              "3025            2         0  0.333333     0.0   0.0  \n",
              "1290           45         0  0.416667     0.0   0.0  \n",
              "\n",
              "[1983 rows x 18 columns]"
            ],
            "text/html": [
              "\n",
              "\n",
              "  <div id=\"df-667e70c9-ac5f-4497-acfd-bf9d8d1ceb02\">\n",
              "    <div class=\"colab-df-container\">\n",
              "      <div>\n",
              "<style scoped>\n",
              "    .dataframe tbody tr th:only-of-type {\n",
              "        vertical-align: middle;\n",
              "    }\n",
              "\n",
              "    .dataframe tbody tr th {\n",
              "        vertical-align: top;\n",
              "    }\n",
              "\n",
              "    .dataframe thead th {\n",
              "        text-align: right;\n",
              "    }\n",
              "</style>\n",
              "<table border=\"1\" class=\"dataframe\">\n",
              "  <thead>\n",
              "    <tr style=\"text-align: right;\">\n",
              "      <th></th>\n",
              "      <th>Id</th>\n",
              "      <th>Subject Focus</th>\n",
              "      <th>Eyes</th>\n",
              "      <th>Face</th>\n",
              "      <th>Near</th>\n",
              "      <th>Action</th>\n",
              "      <th>Accessory</th>\n",
              "      <th>Group</th>\n",
              "      <th>Collage</th>\n",
              "      <th>Human</th>\n",
              "      <th>Occlusion</th>\n",
              "      <th>Info</th>\n",
              "      <th>Blur</th>\n",
              "      <th>Pawpularity</th>\n",
              "      <th>baseline</th>\n",
              "      <th>mean</th>\n",
              "      <th>median</th>\n",
              "      <th>mode</th>\n",
              "    </tr>\n",
              "  </thead>\n",
              "  <tbody>\n",
              "    <tr>\n",
              "      <th>6600</th>\n",
              "      <td>aa46b7ed85e184850477dd773f2e01a0</td>\n",
              "      <td>0</td>\n",
              "      <td>1</td>\n",
              "      <td>1</td>\n",
              "      <td>1</td>\n",
              "      <td>0</td>\n",
              "      <td>0</td>\n",
              "      <td>0</td>\n",
              "      <td>0</td>\n",
              "      <td>0</td>\n",
              "      <td>0</td>\n",
              "      <td>0</td>\n",
              "      <td>0</td>\n",
              "      <td>38</td>\n",
              "      <td>0</td>\n",
              "      <td>0.250000</td>\n",
              "      <td>0.0</td>\n",
              "      <td>0.0</td>\n",
              "    </tr>\n",
              "    <tr>\n",
              "      <th>3336</th>\n",
              "      <td>562c19b150a2ad83c75a22fb81e6513a</td>\n",
              "      <td>0</td>\n",
              "      <td>1</td>\n",
              "      <td>1</td>\n",
              "      <td>0</td>\n",
              "      <td>0</td>\n",
              "      <td>0</td>\n",
              "      <td>0</td>\n",
              "      <td>0</td>\n",
              "      <td>0</td>\n",
              "      <td>0</td>\n",
              "      <td>0</td>\n",
              "      <td>0</td>\n",
              "      <td>2</td>\n",
              "      <td>0</td>\n",
              "      <td>0.166667</td>\n",
              "      <td>0.0</td>\n",
              "      <td>0.0</td>\n",
              "    </tr>\n",
              "    <tr>\n",
              "      <th>4785</th>\n",
              "      <td>7b2a921cc744aecdd5d4a77ebf3a3d9c</td>\n",
              "      <td>0</td>\n",
              "      <td>1</td>\n",
              "      <td>1</td>\n",
              "      <td>1</td>\n",
              "      <td>0</td>\n",
              "      <td>0</td>\n",
              "      <td>0</td>\n",
              "      <td>0</td>\n",
              "      <td>1</td>\n",
              "      <td>1</td>\n",
              "      <td>0</td>\n",
              "      <td>0</td>\n",
              "      <td>42</td>\n",
              "      <td>0</td>\n",
              "      <td>0.416667</td>\n",
              "      <td>0.0</td>\n",
              "      <td>0.0</td>\n",
              "    </tr>\n",
              "    <tr>\n",
              "      <th>2128</th>\n",
              "      <td>36e737146cadf7efd80eb95680e7dc86</td>\n",
              "      <td>0</td>\n",
              "      <td>1</td>\n",
              "      <td>1</td>\n",
              "      <td>1</td>\n",
              "      <td>0</td>\n",
              "      <td>0</td>\n",
              "      <td>0</td>\n",
              "      <td>0</td>\n",
              "      <td>1</td>\n",
              "      <td>0</td>\n",
              "      <td>0</td>\n",
              "      <td>0</td>\n",
              "      <td>24</td>\n",
              "      <td>0</td>\n",
              "      <td>0.333333</td>\n",
              "      <td>0.0</td>\n",
              "      <td>0.0</td>\n",
              "    </tr>\n",
              "    <tr>\n",
              "      <th>4162</th>\n",
              "      <td>6a3eb0bb4ff8813da1470a9137f4830d</td>\n",
              "      <td>0</td>\n",
              "      <td>1</td>\n",
              "      <td>1</td>\n",
              "      <td>1</td>\n",
              "      <td>0</td>\n",
              "      <td>0</td>\n",
              "      <td>0</td>\n",
              "      <td>0</td>\n",
              "      <td>0</td>\n",
              "      <td>0</td>\n",
              "      <td>0</td>\n",
              "      <td>0</td>\n",
              "      <td>45</td>\n",
              "      <td>0</td>\n",
              "      <td>0.250000</td>\n",
              "      <td>0.0</td>\n",
              "      <td>0.0</td>\n",
              "    </tr>\n",
              "    <tr>\n",
              "      <th>...</th>\n",
              "      <td>...</td>\n",
              "      <td>...</td>\n",
              "      <td>...</td>\n",
              "      <td>...</td>\n",
              "      <td>...</td>\n",
              "      <td>...</td>\n",
              "      <td>...</td>\n",
              "      <td>...</td>\n",
              "      <td>...</td>\n",
              "      <td>...</td>\n",
              "      <td>...</td>\n",
              "      <td>...</td>\n",
              "      <td>...</td>\n",
              "      <td>...</td>\n",
              "      <td>...</td>\n",
              "      <td>...</td>\n",
              "      <td>...</td>\n",
              "      <td>...</td>\n",
              "    </tr>\n",
              "    <tr>\n",
              "      <th>1243</th>\n",
              "      <td>205be2d8e887f2fabe6ef8cd7ae122d1</td>\n",
              "      <td>0</td>\n",
              "      <td>1</td>\n",
              "      <td>1</td>\n",
              "      <td>1</td>\n",
              "      <td>0</td>\n",
              "      <td>0</td>\n",
              "      <td>0</td>\n",
              "      <td>0</td>\n",
              "      <td>0</td>\n",
              "      <td>0</td>\n",
              "      <td>0</td>\n",
              "      <td>0</td>\n",
              "      <td>39</td>\n",
              "      <td>0</td>\n",
              "      <td>0.250000</td>\n",
              "      <td>0.0</td>\n",
              "      <td>0.0</td>\n",
              "    </tr>\n",
              "    <tr>\n",
              "      <th>9608</th>\n",
              "      <td>f8001843e7514bbc112f668eb6dd22b5</td>\n",
              "      <td>0</td>\n",
              "      <td>1</td>\n",
              "      <td>1</td>\n",
              "      <td>1</td>\n",
              "      <td>0</td>\n",
              "      <td>0</td>\n",
              "      <td>0</td>\n",
              "      <td>0</td>\n",
              "      <td>0</td>\n",
              "      <td>1</td>\n",
              "      <td>0</td>\n",
              "      <td>0</td>\n",
              "      <td>33</td>\n",
              "      <td>0</td>\n",
              "      <td>0.333333</td>\n",
              "      <td>0.0</td>\n",
              "      <td>0.0</td>\n",
              "    </tr>\n",
              "    <tr>\n",
              "      <th>7250</th>\n",
              "      <td>ba8194b599940def5a8a36fa5c576565</td>\n",
              "      <td>0</td>\n",
              "      <td>1</td>\n",
              "      <td>1</td>\n",
              "      <td>1</td>\n",
              "      <td>0</td>\n",
              "      <td>0</td>\n",
              "      <td>1</td>\n",
              "      <td>0</td>\n",
              "      <td>0</td>\n",
              "      <td>0</td>\n",
              "      <td>0</td>\n",
              "      <td>0</td>\n",
              "      <td>41</td>\n",
              "      <td>0</td>\n",
              "      <td>0.333333</td>\n",
              "      <td>0.0</td>\n",
              "      <td>0.0</td>\n",
              "    </tr>\n",
              "    <tr>\n",
              "      <th>3025</th>\n",
              "      <td>4e3c8816d95b083b870c6747a26fcb58</td>\n",
              "      <td>0</td>\n",
              "      <td>0</td>\n",
              "      <td>0</td>\n",
              "      <td>1</td>\n",
              "      <td>0</td>\n",
              "      <td>0</td>\n",
              "      <td>0</td>\n",
              "      <td>0</td>\n",
              "      <td>1</td>\n",
              "      <td>1</td>\n",
              "      <td>0</td>\n",
              "      <td>1</td>\n",
              "      <td>2</td>\n",
              "      <td>0</td>\n",
              "      <td>0.333333</td>\n",
              "      <td>0.0</td>\n",
              "      <td>0.0</td>\n",
              "    </tr>\n",
              "    <tr>\n",
              "      <th>1290</th>\n",
              "      <td>21384c98092f98e016541c7d64c1f36f</td>\n",
              "      <td>0</td>\n",
              "      <td>1</td>\n",
              "      <td>1</td>\n",
              "      <td>1</td>\n",
              "      <td>0</td>\n",
              "      <td>0</td>\n",
              "      <td>0</td>\n",
              "      <td>0</td>\n",
              "      <td>1</td>\n",
              "      <td>1</td>\n",
              "      <td>0</td>\n",
              "      <td>0</td>\n",
              "      <td>45</td>\n",
              "      <td>0</td>\n",
              "      <td>0.416667</td>\n",
              "      <td>0.0</td>\n",
              "      <td>0.0</td>\n",
              "    </tr>\n",
              "  </tbody>\n",
              "</table>\n",
              "<p>1983 rows × 18 columns</p>\n",
              "</div>\n",
              "      <button class=\"colab-df-convert\" onclick=\"convertToInteractive('df-667e70c9-ac5f-4497-acfd-bf9d8d1ceb02')\"\n",
              "              title=\"Convert this dataframe to an interactive table.\"\n",
              "              style=\"display:none;\">\n",
              "\n",
              "  <svg xmlns=\"http://www.w3.org/2000/svg\" height=\"24px\"viewBox=\"0 0 24 24\"\n",
              "       width=\"24px\">\n",
              "    <path d=\"M0 0h24v24H0V0z\" fill=\"none\"/>\n",
              "    <path d=\"M18.56 5.44l.94 2.06.94-2.06 2.06-.94-2.06-.94-.94-2.06-.94 2.06-2.06.94zm-11 1L8.5 8.5l.94-2.06 2.06-.94-2.06-.94L8.5 2.5l-.94 2.06-2.06.94zm10 10l.94 2.06.94-2.06 2.06-.94-2.06-.94-.94-2.06-.94 2.06-2.06.94z\"/><path d=\"M17.41 7.96l-1.37-1.37c-.4-.4-.92-.59-1.43-.59-.52 0-1.04.2-1.43.59L10.3 9.45l-7.72 7.72c-.78.78-.78 2.05 0 2.83L4 21.41c.39.39.9.59 1.41.59.51 0 1.02-.2 1.41-.59l7.78-7.78 2.81-2.81c.8-.78.8-2.07 0-2.86zM5.41 20L4 18.59l7.72-7.72 1.47 1.35L5.41 20z\"/>\n",
              "  </svg>\n",
              "      </button>\n",
              "\n",
              "\n",
              "\n",
              "    <div id=\"df-e08e1e85-f737-49fd-8e6b-f0080171bcf7\">\n",
              "      <button class=\"colab-df-quickchart\" onclick=\"quickchart('df-e08e1e85-f737-49fd-8e6b-f0080171bcf7')\"\n",
              "              title=\"Suggest charts.\"\n",
              "              style=\"display:none;\">\n",
              "\n",
              "<svg xmlns=\"http://www.w3.org/2000/svg\" height=\"24px\"viewBox=\"0 0 24 24\"\n",
              "     width=\"24px\">\n",
              "    <g>\n",
              "        <path d=\"M19 3H5c-1.1 0-2 .9-2 2v14c0 1.1.9 2 2 2h14c1.1 0 2-.9 2-2V5c0-1.1-.9-2-2-2zM9 17H7v-7h2v7zm4 0h-2V7h2v10zm4 0h-2v-4h2v4z\"/>\n",
              "    </g>\n",
              "</svg>\n",
              "      </button>\n",
              "    </div>\n",
              "\n",
              "<style>\n",
              "  .colab-df-quickchart {\n",
              "    background-color: #E8F0FE;\n",
              "    border: none;\n",
              "    border-radius: 50%;\n",
              "    cursor: pointer;\n",
              "    display: none;\n",
              "    fill: #1967D2;\n",
              "    height: 32px;\n",
              "    padding: 0 0 0 0;\n",
              "    width: 32px;\n",
              "  }\n",
              "\n",
              "  .colab-df-quickchart:hover {\n",
              "    background-color: #E2EBFA;\n",
              "    box-shadow: 0px 1px 2px rgba(60, 64, 67, 0.3), 0px 1px 3px 1px rgba(60, 64, 67, 0.15);\n",
              "    fill: #174EA6;\n",
              "  }\n",
              "\n",
              "  [theme=dark] .colab-df-quickchart {\n",
              "    background-color: #3B4455;\n",
              "    fill: #D2E3FC;\n",
              "  }\n",
              "\n",
              "  [theme=dark] .colab-df-quickchart:hover {\n",
              "    background-color: #434B5C;\n",
              "    box-shadow: 0px 1px 3px 1px rgba(0, 0, 0, 0.15);\n",
              "    filter: drop-shadow(0px 1px 2px rgba(0, 0, 0, 0.3));\n",
              "    fill: #FFFFFF;\n",
              "  }\n",
              "</style>\n",
              "\n",
              "    <script>\n",
              "      async function quickchart(key) {\n",
              "        const containerElement = document.querySelector('#' + key);\n",
              "        const charts = await google.colab.kernel.invokeFunction(\n",
              "            'suggestCharts', [key], {});\n",
              "      }\n",
              "    </script>\n",
              "\n",
              "      <script>\n",
              "\n",
              "function displayQuickchartButton(domScope) {\n",
              "  let quickchartButtonEl =\n",
              "    domScope.querySelector('#df-e08e1e85-f737-49fd-8e6b-f0080171bcf7 button.colab-df-quickchart');\n",
              "  quickchartButtonEl.style.display =\n",
              "    google.colab.kernel.accessAllowed ? 'block' : 'none';\n",
              "}\n",
              "\n",
              "        displayQuickchartButton(document);\n",
              "      </script>\n",
              "      <style>\n",
              "    .colab-df-container {\n",
              "      display:flex;\n",
              "      flex-wrap:wrap;\n",
              "      gap: 12px;\n",
              "    }\n",
              "\n",
              "    .colab-df-convert {\n",
              "      background-color: #E8F0FE;\n",
              "      border: none;\n",
              "      border-radius: 50%;\n",
              "      cursor: pointer;\n",
              "      display: none;\n",
              "      fill: #1967D2;\n",
              "      height: 32px;\n",
              "      padding: 0 0 0 0;\n",
              "      width: 32px;\n",
              "    }\n",
              "\n",
              "    .colab-df-convert:hover {\n",
              "      background-color: #E2EBFA;\n",
              "      box-shadow: 0px 1px 2px rgba(60, 64, 67, 0.3), 0px 1px 3px 1px rgba(60, 64, 67, 0.15);\n",
              "      fill: #174EA6;\n",
              "    }\n",
              "\n",
              "    [theme=dark] .colab-df-convert {\n",
              "      background-color: #3B4455;\n",
              "      fill: #D2E3FC;\n",
              "    }\n",
              "\n",
              "    [theme=dark] .colab-df-convert:hover {\n",
              "      background-color: #434B5C;\n",
              "      box-shadow: 0px 1px 3px 1px rgba(0, 0, 0, 0.15);\n",
              "      filter: drop-shadow(0px 1px 2px rgba(0, 0, 0, 0.3));\n",
              "      fill: #FFFFFF;\n",
              "    }\n",
              "  </style>\n",
              "\n",
              "      <script>\n",
              "        const buttonEl =\n",
              "          document.querySelector('#df-667e70c9-ac5f-4497-acfd-bf9d8d1ceb02 button.colab-df-convert');\n",
              "        buttonEl.style.display =\n",
              "          google.colab.kernel.accessAllowed ? 'block' : 'none';\n",
              "\n",
              "        async function convertToInteractive(key) {\n",
              "          const element = document.querySelector('#df-667e70c9-ac5f-4497-acfd-bf9d8d1ceb02');\n",
              "          const dataTable =\n",
              "            await google.colab.kernel.invokeFunction('convertToInteractive',\n",
              "                                                     [key], {});\n",
              "          if (!dataTable) return;\n",
              "\n",
              "          const docLinkHtml = 'Like what you see? Visit the ' +\n",
              "            '<a target=\"_blank\" href=https://colab.research.google.com/notebooks/data_table.ipynb>data table notebook</a>'\n",
              "            + ' to learn more about interactive tables.';\n",
              "          element.innerHTML = '';\n",
              "          dataTable['output_type'] = 'display_data';\n",
              "          await google.colab.output.renderOutput(dataTable, element);\n",
              "          const docLink = document.createElement('div');\n",
              "          docLink.innerHTML = docLinkHtml;\n",
              "          element.appendChild(docLink);\n",
              "        }\n",
              "      </script>\n",
              "    </div>\n",
              "  </div>\n"
            ]
          },
          "metadata": {},
          "execution_count": 33
        }
      ]
    },
    {
      "cell_type": "markdown",
      "metadata": {
        "id": "S8_sFrqPZlXn"
      },
      "source": [
        "### Regression"
      ]
    },
    {
      "cell_type": "markdown",
      "metadata": {
        "id": "3KM9WczoZlXn"
      },
      "source": [
        "Let's try to train linear regression on binary features"
      ]
    },
    {
      "cell_type": "code",
      "execution_count": null,
      "metadata": {
        "id": "y3raVTHJZlXo"
      },
      "outputs": [],
      "source": [
        "features = data.columns[1:-1]\n",
        "features"
      ]
    },
    {
      "cell_type": "code",
      "source": [
        "X_train = train[features]\n",
        "y_train = train['Pawpularity']\n",
        "X_test = test[features]"
      ],
      "metadata": {
        "id": "U76D1FcGUV3c"
      },
      "execution_count": 38,
      "outputs": []
    },
    {
      "cell_type": "code",
      "execution_count": 34,
      "metadata": {
        "id": "ysdHKJMiZlXo"
      },
      "outputs": [],
      "source": [
        "from sklearn.linear_model import LinearRegression, Ridge, Lasso"
      ]
    },
    {
      "cell_type": "markdown",
      "source": [
        "#### Linear Regression"
      ],
      "metadata": {
        "id": "VXhvCqEdVy1H"
      }
    },
    {
      "cell_type": "code",
      "execution_count": 39,
      "metadata": {
        "id": "762xLyGTZlXo",
        "colab": {
          "base_uri": "https://localhost:8080/"
        },
        "outputId": "c878d8c9-0036-4acf-b260-b7d89ad5bfb8"
      },
      "outputs": [
        {
          "output_type": "execute_result",
          "data": {
            "text/plain": [
              "6600    37.957221\n",
              "3336    37.940408\n",
              "4785    37.928493\n",
              "2128    38.177026\n",
              "4162    37.957221\n",
              "          ...    \n",
              "1243    37.957221\n",
              "9608    37.708688\n",
              "7250    39.062426\n",
              "3025    33.787974\n",
              "1290    37.928493\n",
              "Name: pred, Length: 1983, dtype: float64"
            ]
          },
          "metadata": {},
          "execution_count": 39
        }
      ],
      "source": [
        "model = LinearRegression() # Compare several regression models, select the best. Don't forget to tune hyper params\n",
        "model.fit(X_train, y_train)\n",
        "test['pred'] = model.predict(X_test)\n",
        "\n",
        "test['pred']"
      ]
    },
    {
      "cell_type": "code",
      "execution_count": null,
      "metadata": {
        "id": "mx73QoE8ZlXp"
      },
      "outputs": [],
      "source": [
        "# Train your model here:\n",
        "# model.fit()\n",
        "# test['pred'] = model.predict()"
      ]
    },
    {
      "cell_type": "markdown",
      "metadata": {
        "id": "h2WEw3BNZlXp"
      },
      "source": [
        "Calculate score:"
      ]
    },
    {
      "cell_type": "code",
      "execution_count": 40,
      "metadata": {
        "id": "is8w2BBrZlXp",
        "colab": {
          "base_uri": "https://localhost:8080/"
        },
        "outputId": "e57042bd-b1a3-4b6a-c5e4-2e8610f3f7c6"
      },
      "outputs": [
        {
          "output_type": "execute_result",
          "data": {
            "text/plain": [
              "20.613211282893758"
            ]
          },
          "metadata": {},
          "execution_count": 40
        }
      ],
      "source": [
        "mean_squared_error(test.Pawpularity, test.pred, squared=False)"
      ]
    },
    {
      "cell_type": "markdown",
      "metadata": {
        "id": "4D4-vB0XZlXp"
      },
      "source": [
        "Check params:"
      ]
    },
    {
      "cell_type": "code",
      "execution_count": 41,
      "metadata": {
        "id": "x58CQIoKZlXq",
        "colab": {
          "base_uri": "https://localhost:8080/"
        },
        "outputId": "245c977c-b7e7-4fee-9971-30831b88ce5e"
      },
      "outputs": [
        {
          "output_type": "execute_result",
          "data": {
            "text/plain": [
              "[('Subject Focus', -1.3184191941230021),\n",
              " ('Eyes', -1.9247962162298835),\n",
              " ('Face', 2.107441598807191),\n",
              " ('Near', 0.01681275070249094),\n",
              " ('Action', -0.9241970093571129),\n",
              " ('Accessory', 1.2659010714807621),\n",
              " ('Group', 1.105205350876402),\n",
              " ('Collage', 0.655550804416301),\n",
              " ('Human', 0.21980501892115073),\n",
              " ('Occlusion', -0.2485332017579941),\n",
              " ('Info', -1.453131808612999),\n",
              " ('Blur', -3.9578732160824996)]"
            ]
          },
          "metadata": {},
          "execution_count": 41
        }
      ],
      "source": [
        "list(zip(features, model.coef_)) # model's weights"
      ]
    },
    {
      "cell_type": "code",
      "execution_count": 42,
      "metadata": {
        "id": "-PO8MOwpZlXq",
        "colab": {
          "base_uri": "https://localhost:8080/"
        },
        "outputId": "a2eeb1ef-e6c3-46a3-b662-5c745ea72e5f"
      },
      "outputs": [
        {
          "output_type": "execute_result",
          "data": {
            "text/plain": [
              "37.75776263342286"
            ]
          },
          "metadata": {},
          "execution_count": 42
        }
      ],
      "source": [
        "model.intercept_ # model's bias"
      ]
    },
    {
      "cell_type": "markdown",
      "metadata": {
        "id": "rclceni0ZlXq"
      },
      "source": [
        "Analyze errors:"
      ]
    },
    {
      "cell_type": "code",
      "execution_count": null,
      "metadata": {
        "id": "ecPmA1MfZlXq"
      },
      "outputs": [],
      "source": [
        "## True value / pred value plot:\n",
        "#sns.scatterplot(x=test.pred, y=test.Pawpularity)"
      ]
    },
    {
      "cell_type": "code",
      "source": [
        "# Plot scatter plot\n",
        "# Set plot title and axis labels\n",
        "plt.title('True Value vs. Predicted Value')\n",
        "plt.xlabel('Predicted Value')\n",
        "plt.ylabel('True Value')\n",
        "sns.scatterplot(x=test['pred'], y=test['Pawpularity'])\n",
        "# Add diagonal line\n",
        "plt.plot([test['Pawpularity'].min(), test['Pawpularity'].max()],\n",
        "        [test['Pawpularity'].min(), test['Pawpularity'].max()],\n",
        "        color='red', linestyle='--')\n",
        "plt.show()\n"
      ],
      "metadata": {
        "colab": {
          "base_uri": "https://localhost:8080/",
          "height": 496
        },
        "id": "4mLhKWHjVGVf",
        "outputId": "6129d724-052b-41d8-c81d-661eb0c13d36"
      },
      "execution_count": 48,
      "outputs": [
        {
          "output_type": "display_data",
          "data": {
            "text/plain": [
              "<Figure size 1000x500 with 1 Axes>"
            ],
            "image/png": "[encoded data removed]"
          },
          "metadata": {}
        }
      ]
    },
    {
      "cell_type": "code",
      "execution_count": null,
      "metadata": {
        "id": "T7pbq8UlZlXq"
      },
      "outputs": [],
      "source": [
        "## Errors distribution:\n",
        "#sns.histplot(test.Pawpularity - test.pred)"
      ]
    },
    {
      "cell_type": "code",
      "source": [
        "# Calculate the errors\n",
        "errors = test['Pawpularity'] - test['pred']\n",
        "\n",
        "# Plot the histogram of errors\n",
        "sns.histplot(errors)\n",
        "\n",
        "# Set plot title and axis labels\n",
        "plt.title('Errors Distribution')\n",
        "plt.xlabel('Error')\n",
        "plt.ylabel('Count')\n",
        "\n",
        "# Display the plot\n",
        "plt.show()"
      ],
      "metadata": {
        "colab": {
          "base_uri": "https://localhost:8080/",
          "height": 496
        },
        "id": "AhubyE7TVRQR",
        "outputId": "ea823137-4a8c-45e6-ef82-b31a9a3f6fe1"
      },
      "execution_count": 49,
      "outputs": [
        {
          "output_type": "display_data",
          "data": {
            "text/plain": [
              "<Figure size 1000x500 with 1 Axes>"
            ],
            "image/png": "[encoded data removed]"
          },
          "metadata": {}
        }
      ]
    },
    {
      "cell_type": "markdown",
      "source": [
        "#### Ridge regression L2"
      ],
      "metadata": {
        "id": "rZwsamDmc5xR"
      }
    },
    {
      "cell_type": "code",
      "source": [
        "import time\n",
        "from IPython import display"
      ],
      "metadata": {
        "id": "aBPnny3mdU-N"
      },
      "execution_count": 50,
      "outputs": []
    },
    {
      "cell_type": "code",
      "source": [
        "# init values\n",
        "ridge_alphas = np.arange(0.1,1000,45)\n",
        "best_score = 100\n",
        "best_ridge_alpha = 0\n",
        "\n",
        "\n",
        "for current_ridge_alpha in ridge_alphas:\n",
        "  ridgeReg = Ridge(alpha=current_ridge_alpha)\n",
        "  ridgeReg.fit(X_train, y_train)\n",
        "\n",
        "  test['pred'] = ridgeReg.predict(X_test)\n",
        "  current_score = mean_squared_error(test.Pawpularity, test.pred, squared=False)\n",
        "\n",
        "  # Plot scatter plot\n",
        "  display.clear_output(wait=True)\n",
        "  # Set plot title and axis labels\n",
        "  plt.title('True Value vs. Predicted Value')\n",
        "  plt.xlabel('Predicted Value')\n",
        "  plt.ylabel('True Value')\n",
        "  sns.scatterplot(x=test['pred'], y=test['Pawpularity'])\n",
        "  # Add diagonal line\n",
        "  plt.plot([test['Pawpularity'].min(), test['Pawpularity'].max()],\n",
        "         [test['Pawpularity'].min(), test['Pawpularity'].max()],\n",
        "         color='red', linestyle='--')\n",
        "  plt.show()\n",
        "  #time.sleep(0.5)\n",
        "\n",
        "  print(\"best_score: \" + str(best_score) + \", best_ridge_alpha: \" + str(best_ridge_alpha) + \", current score: \" + str(current_score) + \", current_ridge_alpha: \" + str(current_ridge_alpha))\n",
        "  if current_score < best_score:\n",
        "    best_score = current_score\n",
        "    best_ridge_alpha = current_ridge_alpha\n",
        "\n",
        "\n",
        "\n",
        "#Run the for the best found score\n",
        "ridgeReg = Ridge(alpha=best_ridge_alpha)\n",
        "ridgeReg.fit(X_train, y_train)\n",
        "\n",
        "# Plot scatter plot\n",
        "display.clear_output(wait=True)\n",
        "# Set plot title and axis labels\n",
        "plt.title('True Value vs. Predicted Value')\n",
        "plt.xlabel('Predicted Value')\n",
        "plt.ylabel('True Value')\n",
        "sns.scatterplot(x=test['pred'], y=test['Pawpularity'])\n",
        "# Add diagonal line\n",
        "plt.plot([test['Pawpularity'].min(), test['Pawpularity'].max()],\n",
        "        [test['Pawpularity'].min(), test['Pawpularity'].max()],\n",
        "        color='red', linestyle='--')\n",
        "plt.show()\n",
        "print(\"best_score: \" + str(best_score) + \", best_ridge_alpha: \" + str(best_ridge_alpha))"
      ],
      "metadata": {
        "id": "7dOD6KpldFzH",
        "outputId": "e8ff4f96-1bd5-4970-cdae-5c3eafebc441",
        "colab": {
          "base_uri": "https://localhost:8080/",
          "height": 513
        }
      },
      "execution_count": 57,
      "outputs": [
        {
          "output_type": "display_data",
          "data": {
            "text/plain": [
              "<Figure size 1000x500 with 1 Axes>"
            ],
            "image/png": "[encoded data removed]"
          },
          "metadata": {}
        },
        {
          "output_type": "stream",
          "name": "stdout",
          "text": [
            "best_score: 20.612638666228705, best_ridge_alpha: 45.1\n"
          ]
        }
      ]
    },
    {
      "cell_type": "code",
      "source": [
        "list(zip(features, ridgeReg.coef_)) # model's weights"
      ],
      "metadata": {
        "id": "NvrCDiBFdvhr",
        "outputId": "62f55ba3-7858-4412-9e0d-679dffd5842c",
        "colab": {
          "base_uri": "https://localhost:8080/"
        }
      },
      "execution_count": 58,
      "outputs": [
        {
          "output_type": "execute_result",
          "data": {
            "text/plain": [
              "[('Subject Focus', -1.0857476652434757),\n",
              " ('Eyes', -1.5258860993505912),\n",
              " ('Face', 1.702513187879459),\n",
              " ('Near', -0.013395439184291105),\n",
              " ('Action', -0.5649984466486424),\n",
              " ('Accessory', 1.1496571931512403),\n",
              " ('Group', 1.0430486796683625),\n",
              " ('Collage', 0.4999866715485533),\n",
              " ('Human', 0.20218995359251263),\n",
              " ('Occlusion', -0.236839431845869),\n",
              " ('Info', -1.2484418162819273),\n",
              " ('Blur', -3.366610918065325)]"
            ]
          },
          "metadata": {},
          "execution_count": 58
        }
      ]
    },
    {
      "cell_type": "code",
      "source": [
        "# Calculate the errors\n",
        "errors = test['Pawpularity'] - test['pred']\n",
        "\n",
        "# Plot the histogram of errors\n",
        "sns.histplot(errors)\n",
        "\n",
        "# Set plot title and axis labels\n",
        "plt.title('Errors Distribution')\n",
        "plt.xlabel('Error')\n",
        "plt.ylabel('Count')\n",
        "\n",
        "# Display the plot\n",
        "plt.show()"
      ],
      "metadata": {
        "id": "TxtmpH8zeimd",
        "outputId": "3756eb39-1222-4e04-9445-faef694a4038",
        "colab": {
          "base_uri": "https://localhost:8080/",
          "height": 496
        }
      },
      "execution_count": 59,
      "outputs": [
        {
          "output_type": "display_data",
          "data": {
            "text/plain": [
              "<Figure size 1000x500 with 1 Axes>"
            ],
            "image/png": "[encoded data removed]"
          },
          "metadata": {}
        }
      ]
    },
    {
      "cell_type": "markdown",
      "source": [
        "#### Lasso L1"
      ],
      "metadata": {
        "id": "Ez8VQRBDeySu"
      }
    },
    {
      "cell_type": "code",
      "source": [
        "# init values\n",
        "lasso_alphas = np.arange(0.1,1000,45)\n",
        "best_score = 100\n",
        "best_lasso_alpha = 0\n",
        "\n",
        "\n",
        "for current_lasso_alpha in lasso_alphas:\n",
        "  modelLasso = Lasso(alpha=current_lasso_alpha)\n",
        "  modelLasso.fit(X_train, y_train)\n",
        "\n",
        "  test['pred'] = modelLasso.predict(X_test)\n",
        "  current_score = mean_squared_error(test.Pawpularity, test.pred, squared=False)\n",
        "\n",
        "  # Plot scatter plot\n",
        "  display.clear_output(wait=True)\n",
        "  # Set plot title and axis labels\n",
        "  plt.title('True Value vs. Predicted Value')\n",
        "  plt.xlabel('Predicted Value')\n",
        "  plt.ylabel('True Value')\n",
        "  sns.scatterplot(x=test['pred'], y=test['Pawpularity'])\n",
        "  # Add diagonal line\n",
        "  plt.plot([test['Pawpularity'].min(), test['Pawpularity'].max()],\n",
        "         [test['Pawpularity'].min(), test['Pawpularity'].max()],\n",
        "         color='red', linestyle='--')\n",
        "  plt.show()\n",
        "  #time.sleep(0.5)\n",
        "\n",
        "  print(\"best_score: \" + str(best_score) + \", best_lasso_alpha: \" + str(best_lasso_alpha) + \", current score: \" + str(current_score) + \", current_lasso_alpha: \" + str(current_lasso_alpha))\n",
        "  if current_score < best_score:\n",
        "    best_score = current_score\n",
        "    best_lasso_alpha = current_lasso_alpha\n",
        "\n",
        "\n",
        "\n",
        "#Run the for the best found score\n",
        "modelLasso = Lasso(alpha=best_lasso_alpha)\n",
        "modelLasso.fit(X_train, y_train)\n",
        "\n",
        "# Plot scatter plot\n",
        "display.clear_output(wait=True)\n",
        "# Set plot title and axis labels\n",
        "plt.title('True Value vs. Predicted Value')\n",
        "plt.xlabel('Predicted Value')\n",
        "plt.ylabel('True Value')\n",
        "sns.scatterplot(x=test['pred'], y=test['Pawpularity'])\n",
        "# Add diagonal line\n",
        "plt.plot([test['Pawpularity'].min(), test['Pawpularity'].max()],\n",
        "        [test['Pawpularity'].min(), test['Pawpularity'].max()],\n",
        "        color='red', linestyle='--')\n",
        "plt.show()\n",
        "print(\"best_score: \" + str(best_score) + \", best_lasso_alpha: \" + str(best_lasso_alpha))"
      ],
      "metadata": {
        "id": "T_rfcbBiezTo",
        "outputId": "2a650094-8687-47eb-9378-a7ef4af343f9",
        "colab": {
          "base_uri": "https://localhost:8080/",
          "height": 513
        }
      },
      "execution_count": 62,
      "outputs": [
        {
          "output_type": "display_data",
          "data": {
            "text/plain": [
              "<Figure size 1000x500 with 1 Axes>"
            ],
            "image/png": "[encoded data removed]"
          },
          "metadata": {}
        },
        {
          "output_type": "stream",
          "name": "stdout",
          "text": [
            "best_score: 20.617506165697478, best_lasso_alpha: 45.1\n"
          ]
        }
      ]
    },
    {
      "cell_type": "code",
      "source": [
        "list(zip(features, modelLasso.coef_)) # model's weights"
      ],
      "metadata": {
        "id": "MbAQltn_foQd",
        "outputId": "1464a8b6-1a25-4655-d8ce-15dd20b49931",
        "colab": {
          "base_uri": "https://localhost:8080/"
        }
      },
      "execution_count": 63,
      "outputs": [
        {
          "output_type": "execute_result",
          "data": {
            "text/plain": [
              "[('Subject Focus', -0.0),\n",
              " ('Eyes', 0.0),\n",
              " ('Face', 0.0),\n",
              " ('Near', -0.0),\n",
              " ('Action', -0.0),\n",
              " ('Accessory', 0.0),\n",
              " ('Group', 0.0),\n",
              " ('Collage', 0.0),\n",
              " ('Human', -0.0),\n",
              " ('Occlusion', -0.0),\n",
              " ('Info', -0.0),\n",
              " ('Blur', -0.0)]"
            ]
          },
          "metadata": {},
          "execution_count": 63
        }
      ]
    },
    {
      "cell_type": "code",
      "source": [
        "# Calculate the errors\n",
        "errors = test['Pawpularity'] - test['pred']\n",
        "\n",
        "# Plot the histogram of errors\n",
        "sns.histplot(errors)\n",
        "\n",
        "# Set plot title and axis labels\n",
        "plt.title('Errors Distribution')\n",
        "plt.xlabel('Error')\n",
        "plt.ylabel('Count')\n",
        "\n",
        "# Display the plot\n",
        "plt.show()"
      ],
      "metadata": {
        "id": "OVrQ3y7ffuXW",
        "outputId": "e7edccd4-49cc-40c9-fb54-eae4dee0cb03",
        "colab": {
          "base_uri": "https://localhost:8080/",
          "height": 496
        }
      },
      "execution_count": 64,
      "outputs": [
        {
          "output_type": "display_data",
          "data": {
            "text/plain": [
              "<Figure size 1000x500 with 1 Axes>"
            ],
            "image/png": "[encoded data removed]"
          },
          "metadata": {}
        }
      ]
    },
    {
      "cell_type": "markdown",
      "metadata": {
        "id": "eS6lPTuXZlXr"
      },
      "source": [
        "### Best score\n",
        "**Compare several regression models (L1, L2 regularization), select the best. Don't forget to tune hyperparams**\n",
        "\n",
        "Print your best score and what type of regression you used to achieve it:"
      ]
    },
    {
      "cell_type": "code",
      "execution_count": 65,
      "metadata": {
        "id": "5jZq1x8PZlXr",
        "colab": {
          "base_uri": "https://localhost:8080/"
        },
        "outputId": "7af5e9b8-cb54-468e-cdd7-bbe0cff33584"
      },
      "outputs": [
        {
          "output_type": "stream",
          "name": "stdout",
          "text": [
            "Best score was with Ridge: 20.612638666228705, best_ridge_alpha: 45.1\n"
          ]
        }
      ],
      "source": [
        "print(\"Best score was with Ridge: 20.612638666228705, best_ridge_alpha: 45.1\")"
      ]
    },
    {
      "cell_type": "markdown",
      "metadata": {
        "id": "sucemmfWZlXr"
      },
      "source": [
        "### Polinomial Regression\n",
        "Do polynomial features improve the score?"
      ]
    },
    {
      "cell_type": "code",
      "execution_count": 66,
      "metadata": {
        "id": "d2CPxqFJZlXr"
      },
      "outputs": [],
      "source": [
        "from sklearn.pipeline import make_pipeline\n",
        "from sklearn.preprocessing import PolynomialFeatures"
      ]
    },
    {
      "cell_type": "markdown",
      "metadata": {
        "id": "JPh-Fg3DZlXr"
      },
      "source": [
        "[make_pipeline](https://scikit-learn.org/stable/modules/generated/sklearn.pipeline.make_pipeline.html) helps to combine several steps into one model"
      ]
    },
    {
      "cell_type": "markdown",
      "source": [
        "#### Polinomial Regression with Ridge\n"
      ],
      "metadata": {
        "id": "l4ricssZpa0J"
      }
    },
    {
      "cell_type": "code",
      "source": [
        "# init values\n",
        "polynom_degrees = np.arange(1,5,1)\n",
        "ridge_alphas = np.arange(0.1,300,25)\n",
        "\n",
        "best_degree = 0\n",
        "best_ridge_alpha = 0\n",
        "\n",
        "best_score = 100\n",
        "\n",
        "for current_degree in polynom_degrees:\n",
        "  for current_ridge_alpha in ridge_alphas:\n",
        "    modelPolynom = make_pipeline(\n",
        "      PolynomialFeatures(degree=current_degree),\n",
        "      Ridge(alpha=current_ridge_alpha)\n",
        "    )\n",
        "\n",
        "    modelPolynom.fit(X_train, y_train)\n",
        "\n",
        "    test['pred'] = modelPolynom.predict(X_test)\n",
        "    current_score = mean_squared_error(test.Pawpularity, test.pred, squared=False)\n",
        "\n",
        "    # Plot scatter plot\n",
        "    display.clear_output(wait=True)\n",
        "    # Set plot title and axis labels\n",
        "    plt.title('True Value vs. Predicted Value')\n",
        "    plt.xlabel('Predicted Value')\n",
        "    plt.ylabel('True Value')\n",
        "    sns.scatterplot(x=test['pred'], y=test['Pawpularity'])\n",
        "    # Add diagonal line\n",
        "    plt.plot([test['Pawpularity'].min(), test['Pawpularity'].max()],\n",
        "          [test['Pawpularity'].min(), test['Pawpularity'].max()],\n",
        "          color='red', linestyle='--')\n",
        "    plt.show()\n",
        "    #time.sleep(2)\n",
        "\n",
        "    print(\"best_score: \" + str(best_score) + \", best_ridge_alpha: \" + str(best_ridge_alpha) +\", best_degree: \" + str(best_degree) + \", current score: \" + str(current_score) + \", current_ridge_alpha: \" + str(current_ridge_alpha)+\", current_degree: \" + str(current_degree))\n",
        "    if current_score < best_score:\n",
        "      best_score = current_score\n",
        "      best_degree = current_degree\n",
        "      best_ridge_alpha = current_ridge_alpha\n",
        "\n",
        "\n",
        "\n",
        "#Run the for the best found score\n",
        "modelPolynom = make_pipeline(\n",
        "  PolynomialFeatures(degree=best_degree),\n",
        "  Ridge(alpha=best_ridge_alpha)\n",
        ")\n",
        "\n",
        "modelPolynom.fit(X_train, y_train)\n",
        "\n",
        "test['pred'] = modelPolynom.predict(X_test)\n",
        "\n",
        "# Plot scatter plot\n",
        "display.clear_output(wait=True)\n",
        "# Set plot title and axis labels\n",
        "plt.title('True Value vs. Predicted Value')\n",
        "plt.xlabel('Predicted Value')\n",
        "plt.ylabel('True Value')\n",
        "sns.scatterplot(x=test['pred'], y=test['Pawpularity'])\n",
        "# Add diagonal line\n",
        "plt.plot([test['Pawpularity'].min(), test['Pawpularity'].max()],\n",
        "        [test['Pawpularity'].min(), test['Pawpularity'].max()],\n",
        "        color='red', linestyle='--')\n",
        "plt.show()\n",
        "print(\"best_score: \" + str(best_score) + \", best_ridge_alpha: \" + str(best_ridge_alpha) +\", best_degree: \" + str(best_degree))"
      ],
      "metadata": {
        "id": "HEKhgTNQivV0",
        "outputId": "73894b4d-4fff-41f9-9bcb-9846f3c070f1",
        "colab": {
          "base_uri": "https://localhost:8080/",
          "height": 513
        }
      },
      "execution_count": null,
      "outputs": [
        {
          "output_type": "display_data",
          "data": {
            "text/plain": [
              "<Figure size 1000x500 with 1 Axes>"
            ],
            "image/png": "[encoded data removed]"
          },
          "metadata": {}
        },
        {
          "output_type": "stream",
          "name": "stdout",
          "text": [
            "best_score: 20.612641342069338, best_ridge_alpha: 50.1, best_degree: 1, current score: 20.567960973457875, current_ridge_alpha: 25.1, current_degree: 2\n"
          ]
        }
      ]
    },
    {
      "cell_type": "code",
      "source": [
        "print(\"best_score: 20.567959011832407, best_ridge_alpha: 25.519999999999996, best_degree: 2\")"
      ],
      "metadata": {
        "id": "rmFg7uudqECN",
        "outputId": "2be6002c-7eb6-4e47-a75d-719a98c2603f",
        "colab": {
          "base_uri": "https://localhost:8080/"
        }
      },
      "execution_count": 82,
      "outputs": [
        {
          "output_type": "stream",
          "name": "stdout",
          "text": [
            "best_score: 20.567959011832407, best_ridge_alpha: 25.519999999999996, best_degree: 2\n"
          ]
        }
      ]
    },
    {
      "cell_type": "code",
      "execution_count": null,
      "metadata": {
        "scrolled": true,
        "id": "hffuHlhNZlXs"
      },
      "outputs": [],
      "source": [
        "# Hint: to check wieght use:\n",
        "# list(zip(t.get_feature_names(input_features=features), model.steps[1][1].coef_)) # model's weights"
      ]
    },
    {
      "cell_type": "code",
      "source": [
        "list(zip(features, modelPolynom.steps[1][1].coef_)) # model's weights"
      ],
      "metadata": {
        "id": "uv8T_tGwpyWe"
      },
      "execution_count": null,
      "outputs": []
    },
    {
      "cell_type": "code",
      "source": [
        "# Calculate the errors\n",
        "errors = test['Pawpularity'] - test['pred']\n",
        "\n",
        "# Plot the histogram of errors\n",
        "sns.histplot(errors)\n",
        "\n",
        "# Set plot title and axis labels\n",
        "plt.title('Errors Distribution')\n",
        "plt.xlabel('Error')\n",
        "plt.ylabel('Count')\n",
        "\n",
        "# Display the plot\n",
        "plt.show()"
      ],
      "metadata": {
        "id": "Ijkjjsq4qAHn"
      },
      "execution_count": null,
      "outputs": []
    },
    {
      "cell_type": "markdown",
      "source": [
        "#### Polinomial Regression with Lasso\n"
      ],
      "metadata": {
        "id": "PnYq3FLaptyJ"
      }
    },
    {
      "cell_type": "code",
      "source": [
        "# init values\n",
        "polynom_degrees = np.arange(1,5,1)\n",
        "alphas = np.arange(0.1,500,25)\n",
        "\n",
        "best_degree = 0\n",
        "best_alpha = 0\n",
        "\n",
        "best_score = 100\n",
        "\n",
        "for current_degree in polynom_degrees:\n",
        "  for current_alpha in alphas:\n",
        "    modelPolynom = make_pipeline(\n",
        "      PolynomialFeatures(degree=current_degree),\n",
        "      Lasso(alpha=current_alpha)\n",
        "    )\n",
        "\n",
        "    modelPolynom.fit(X_train, y_train)\n",
        "\n",
        "    test['pred'] = modelPolynom.predict(X_test)\n",
        "    current_score = mean_squared_error(test.Pawpularity, test.pred, squared=False)\n",
        "\n",
        "    # Plot scatter plot\n",
        "    display.clear_output(wait=True)\n",
        "    # Set plot title and axis labels\n",
        "    plt.title('True Value vs. Predicted Value')\n",
        "    plt.xlabel('Predicted Value')\n",
        "    plt.ylabel('True Value')\n",
        "    sns.scatterplot(x=test['pred'], y=test['Pawpularity'])\n",
        "    # Add diagonal line\n",
        "    plt.plot([test['Pawpularity'].min(), test['Pawpularity'].max()],\n",
        "          [test['Pawpularity'].min(), test['Pawpularity'].max()],\n",
        "          color='red', linestyle='--')\n",
        "    plt.show()\n",
        "    #time.sleep(2)\n",
        "\n",
        "    print(\"best_score: \" + str(best_score) + \", best_alpha: \" + str(best_alpha) +\", best_degree: \" + str(best_degree) + \", current score: \" + str(current_score) + \", current_alpha: \" + str(current_alpha)+\", current_degree: \" + str(current_degree))\n",
        "    if current_score < best_score:\n",
        "      best_score = current_score\n",
        "      best_degree = current_degree\n",
        "      best_alpha = current_alpha\n",
        "\n",
        "\n",
        "\n",
        "#Run the for the best found score\n",
        "modelPolynom = make_pipeline(\n",
        "  PolynomialFeatures(degree=current_degree),\n",
        "  Lasso(alpha=current_alpha)\n",
        ")\n",
        "\n",
        "modelPolynom.fit(X_train, y_train)\n",
        "\n",
        "test['pred'] = modelPolynom.predict(X_test)\n",
        "current_score = mean_squared_error(test.Pawpularity, test.pred, squared=False)\n",
        "\n",
        "# Plot scatter plot\n",
        "display.clear_output(wait=True)\n",
        "# Set plot title and axis labels\n",
        "plt.title('True Value vs. Predicted Value')\n",
        "plt.xlabel('Predicted Value')\n",
        "plt.ylabel('True Value')\n",
        "sns.scatterplot(x=test['pred'], y=test['Pawpularity'])\n",
        "# Add diagonal line\n",
        "plt.plot([test['Pawpularity'].min(), test['Pawpularity'].max()],\n",
        "      [test['Pawpularity'].min(), test['Pawpularity'].max()],\n",
        "      color='red', linestyle='--')\n",
        "plt.show()\n",
        "print(\"Polynom+Lasso best_score: \" + str(best_score) + \", best_alpha: \" + str(best_alpha) +\", best_degree: \" + str(best_degree))"
      ],
      "metadata": {
        "id": "r5qdSeIlpvwZ",
        "outputId": "7c0c9a1f-2a3e-424d-d38e-bc31934b1fa9",
        "colab": {
          "base_uri": "https://localhost:8080/",
          "height": 513
        }
      },
      "execution_count": 85,
      "outputs": [
        {
          "output_type": "display_data",
          "data": {
            "text/plain": [
              "<Figure size 1000x500 with 1 Axes>"
            ],
            "image/png": "[encoded data removed]"
          },
          "metadata": {}
        },
        {
          "output_type": "stream",
          "name": "stdout",
          "text": [
            "Polynom+Lasso best_score: 20.617506165697478, best_alpha: 25.1, best_degree: 1\n"
          ]
        }
      ]
    },
    {
      "cell_type": "code",
      "source": [
        "print(\"Polynom+Lasso best_score: 20.617506165697478, best_alpha: 25.1, best_degree: 1\")"
      ],
      "metadata": {
        "id": "Fu0vt1fEr0Rh",
        "outputId": "b8118eae-8fe8-4293-b113-e208392b4bbf",
        "colab": {
          "base_uri": "https://localhost:8080/"
        }
      },
      "execution_count": 86,
      "outputs": [
        {
          "output_type": "stream",
          "name": "stdout",
          "text": [
            "Polynom+Lasso best_score: 20.617506165697478, best_alpha: 25.1, best_degree: 1\n"
          ]
        }
      ]
    },
    {
      "cell_type": "code",
      "source": [
        "list(zip(features, modelPolynom.steps[1][1].coef_)) # model's weights"
      ],
      "metadata": {
        "id": "VrmxpBa8rGtt",
        "outputId": "f395a176-5c9d-4d73-f9da-5a5113fc67a7",
        "colab": {
          "base_uri": "https://localhost:8080/"
        }
      },
      "execution_count": 87,
      "outputs": [
        {
          "output_type": "execute_result",
          "data": {
            "text/plain": [
              "[('Subject Focus', 0.0),\n",
              " ('Eyes', -0.0),\n",
              " ('Face', 0.0),\n",
              " ('Near', 0.0),\n",
              " ('Action', -0.0),\n",
              " ('Accessory', -0.0),\n",
              " ('Group', 0.0),\n",
              " ('Collage', 0.0),\n",
              " ('Human', 0.0),\n",
              " ('Occlusion', -0.0),\n",
              " ('Info', -0.0),\n",
              " ('Blur', -0.0)]"
            ]
          },
          "metadata": {},
          "execution_count": 87
        }
      ]
    },
    {
      "cell_type": "code",
      "source": [
        "# Calculate the errors\n",
        "errors = test['Pawpularity'] - test['pred']\n",
        "\n",
        "# Plot the histogram of errors\n",
        "sns.histplot(errors)\n",
        "\n",
        "# Set plot title and axis labels\n",
        "plt.title('Errors Distribution')\n",
        "plt.xlabel('Error')\n",
        "plt.ylabel('Count')\n",
        "\n",
        "# Display the plot\n",
        "plt.show()"
      ],
      "metadata": {
        "id": "eRS6vsxZrJaH",
        "outputId": "ace9e5a5-0874-479a-9d56-bd42187ef504",
        "colab": {
          "base_uri": "https://localhost:8080/",
          "height": 496
        }
      },
      "execution_count": 88,
      "outputs": [
        {
          "output_type": "display_data",
          "data": {
            "text/plain": [
              "<Figure size 1000x500 with 1 Axes>"
            ],
            "image/png": "[encoded data removed]"
          },
          "metadata": {}
        }
      ]
    },
    {
      "cell_type": "markdown",
      "source": [
        "#### Polinomial Regression with Logistic\n"
      ],
      "metadata": {
        "id": "LkiFIF2RrNnR"
      }
    },
    {
      "cell_type": "code",
      "source": [
        "# init values\n",
        "polynom_degrees = np.arange(1,5,1)\n",
        "\n",
        "best_degree = 0\n",
        "best_alpha = 0\n",
        "\n",
        "best_score = 100\n",
        "\n",
        "for current_degree in polynom_degrees:\n",
        "  modelPolynom = make_pipeline(\n",
        "    PolynomialFeatures(degree=current_degree),\n",
        "    LinearRegression()\n",
        "  )\n",
        "\n",
        "  modelPolynom.fit(X_train, y_train)\n",
        "\n",
        "  test['pred'] = modelPolynom.predict(X_test)\n",
        "  current_score = mean_squared_error(test.Pawpularity, test.pred, squared=False)\n",
        "\n",
        "  # Plot scatter plot\n",
        "  display.clear_output(wait=True)\n",
        "  # Set plot title and axis labels\n",
        "  plt.title('True Value vs. Predicted Value')\n",
        "  plt.xlabel('Predicted Value')\n",
        "  plt.ylabel('True Value')\n",
        "  sns.scatterplot(x=test['pred'], y=test['Pawpularity'])\n",
        "  # Add diagonal line\n",
        "  plt.plot([test['Pawpularity'].min(), test['Pawpularity'].max()],\n",
        "        [test['Pawpularity'].min(), test['Pawpularity'].max()],\n",
        "        color='red', linestyle='--')\n",
        "  plt.show()\n",
        "  #time.sleep(2)\n",
        "\n",
        "  print(\"best_score: \" + str(best_score) + \", best_degree: \" + str(best_degree) + \", current score: \" + str(current_score) + \", current_degree: \" + str(current_degree))\n",
        "  if current_score < best_score:\n",
        "    best_score = current_score\n",
        "    best_degree = current_degree\n",
        "    best_alpha = current_alpha\n",
        "\n",
        "\n",
        "\n",
        "#Run the for the best found score\n",
        "modelPolynom = make_pipeline(\n",
        "  PolynomialFeatures(degree=current_degree),\n",
        "  Lasso(alpha=current_alpha)\n",
        ")\n",
        "\n",
        "modelPolynom.fit(X_train, y_train)\n",
        "\n",
        "test['pred'] = modelPolynom.predict(X_test)\n",
        "current_score = mean_squared_error(test.Pawpularity, test.pred, squared=False)\n",
        "\n",
        "# Plot scatter plot\n",
        "display.clear_output(wait=True)\n",
        "# Set plot title and axis labels\n",
        "plt.title('True Value vs. Predicted Value')\n",
        "plt.xlabel('Predicted Value')\n",
        "plt.ylabel('True Value')\n",
        "sns.scatterplot(x=test['pred'], y=test['Pawpularity'])\n",
        "# Add diagonal line\n",
        "plt.plot([test['Pawpularity'].min(), test['Pawpularity'].max()],\n",
        "      [test['Pawpularity'].min(), test['Pawpularity'].max()],\n",
        "      color='red', linestyle='--')\n",
        "plt.show()\n",
        "print(\"Polynom+Linear best_score: \" + str(best_score) + \", best_degree: \" + str(best_degree))"
      ],
      "metadata": {
        "id": "4t3ReQbRrU44"
      },
      "execution_count": null,
      "outputs": []
    },
    {
      "cell_type": "code",
      "source": [
        "list(zip(features, modelPolynom.steps[1][1].coef_)) # model's weights"
      ],
      "metadata": {
        "id": "xwqgaLY7r_FF"
      },
      "execution_count": null,
      "outputs": []
    },
    {
      "cell_type": "code",
      "source": [
        "# Calculate the errors\n",
        "errors = test['Pawpularity'] - test['pred']\n",
        "\n",
        "# Plot the histogram of errors\n",
        "sns.histplot(errors)\n",
        "\n",
        "# Set plot title and axis labels\n",
        "plt.title('Errors Distribution')\n",
        "plt.xlabel('Error')\n",
        "plt.ylabel('Count')\n",
        "\n",
        "# Display the plot\n",
        "plt.show()"
      ],
      "metadata": {
        "id": "jk6p0ByGsEph"
      },
      "execution_count": null,
      "outputs": []
    },
    {
      "cell_type": "markdown",
      "metadata": {
        "id": "9pTyL3KAZlXs"
      },
      "source": [
        "Print your best score with pollinomial reggresion:"
      ]
    },
    {
      "cell_type": "code",
      "execution_count": null,
      "metadata": {
        "id": "xiXvr0y2ZlXs"
      },
      "outputs": [],
      "source": []
    },
    {
      "cell_type": "markdown",
      "metadata": {
        "id": "n3J0bqP_ZlXt"
      },
      "source": [
        "### Feature selection"
      ]
    },
    {
      "cell_type": "markdown",
      "metadata": {
        "id": "gEsWOIscZlXt"
      },
      "source": [
        "Let's use Lasso for feature selection. Sklearn's [SelectFromModel](https://scikit-learn.org/stable/modules/feature_selection.html#feature-selection-using-selectfrommodel) will help"
      ]
    },
    {
      "cell_type": "code",
      "execution_count": null,
      "metadata": {
        "id": "qnmywaCtZlXx"
      },
      "outputs": [],
      "source": [
        "from sklearn.feature_selection import SelectFromModel ##"
      ]
    },
    {
      "cell_type": "code",
      "execution_count": null,
      "metadata": {
        "id": "g-m1rSdIZlXx"
      },
      "outputs": [],
      "source": [
        "model = make_pipeline(\n",
        "    ...\n",
        ")"
      ]
    },
    {
      "cell_type": "markdown",
      "metadata": {
        "id": "nqHyxodwZlXx"
      },
      "source": [
        "Print your best score with feature selection:"
      ]
    },
    {
      "cell_type": "code",
      "execution_count": null,
      "metadata": {
        "id": "qAzif2FNZlXy"
      },
      "outputs": [],
      "source": []
    }
  ],
  "metadata": {
    "kernelspec": {
      "display_name": "Python 3",
      "language": "python",
      "name": "python3"
    },
    "language_info": {
      "codemirror_mode": {
        "name": "ipython",
        "version": 3
      },
      "file_extension": ".py",
      "mimetype": "text/x-python",
      "name": "python",
      "nbconvert_exporter": "python",
      "pygments_lexer": "ipython3",
      "version": "3.7.9"
    },
    "colab": {
      "provenance": [],
      "include_colab_link": true
    }
  },
  "nbformat": 4,
  "nbformat_minor": 0
}