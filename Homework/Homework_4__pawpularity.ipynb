{
  "cells": [
    {
      "cell_type": "markdown",
      "metadata": {
        "id": "view-in-github",
        "colab_type": "text"
      },
      "source": [
        "<a href=\"https://colab.research.google.com/github/reesha-rsh/MLb4/blob/main/Homework/Homework_4__pawpularity.ipynb\" target=\"_parent\"><img src=\"https://colab.research.google.com/assets/colab-badge.svg\" alt=\"Open In Colab\"/></a>"
      ]
    },
    {
      "cell_type": "markdown",
      "metadata": {
        "id": "pHZHYxSZZlXa"
      },
      "source": [
        "# Homework 4 - Pawpularity\n",
        "\n",
        "It's time to train your first model on ~cats~ real data. The dataset of cute pets is avaialble here -  [Pawpularity Contest - Predict the popularity of shelter pet photos](https://www.kaggle.com/c/petfinder-pawpularity-score/data)\n",
        "\n",
        "\n",
        "Your task is to predict engagement with a pet's profile based on the photograph for that profile. You are also provided with hand-labelled metadata for each photo. The dataset for this competition therefore comprises both images and tabular data.\n",
        "\n",
        "In this homework we'll only use tabular meta data. Our goal is to fit linear reggresion on binary features. Let's see if we can do it better than predicting a constant.\n",
        "![PetFinder.my - Pawpularity Contest](https://www.petfinder.my/images/cuteness_meter-showcase.jpg)"
      ]
    },
    {
      "cell_type": "code",
      "execution_count": 1,
      "metadata": {
        "id": "N2bFunnAZlXf"
      },
      "outputs": [],
      "source": [
        "import pandas as pd\n",
        "import numpy as np\n",
        "\n",
        "import matplotlib.pyplot as plt\n",
        "import seaborn as sns\n",
        "sns.set(rc={'figure.figsize':(14,9)})\n",
        "%matplotlib inline"
      ]
    },
    {
      "cell_type": "code",
      "execution_count": null,
      "metadata": {
        "id": "vTT_5xo5ZlXh"
      },
      "outputs": [],
      "source": [
        "data = pd.read_csv(\"/content/drive/MyDrive/MLb4/Homework/Homework_4__pawpularity/train.csv\") # you can downloand only train.csv from https://www.kaggle.com/c/petfinder-pawpularity-score/data"
      ]
    },
    {
      "cell_type": "code",
      "execution_count": null,
      "metadata": {
        "id": "p0_TaGVzZlXi"
      },
      "outputs": [],
      "source": [
        "data"
      ]
    },
    {
      "cell_type": "markdown",
      "metadata": {
        "id": "fCYW7LrCZlXj"
      },
      "source": [
        "Let's create train/test split. We keep 20% of data for testing model performance"
      ]
    },
    {
      "cell_type": "code",
      "execution_count": null,
      "metadata": {
        "id": "hoNXNmnmZlXj"
      },
      "outputs": [],
      "source": [
        "from sklearn.model_selection import train_test_split\n",
        "train, test = train_test_split(data, test_size=0.2, random_state=42, stratify=data.Pawpularity)\n",
        "train.shape, test.shape"
      ]
    },
    {
      "cell_type": "code",
      "execution_count": null,
      "metadata": {
        "id": "tOFBANUJZlXj"
      },
      "outputs": [],
      "source": [
        "# Check that you have the same train/test split as othersф\n",
        "assert(train.iloc[5].Pawpularity == 13)\n",
        "assert(train.iloc[-5].Face == 1)\n",
        "assert(test.iloc[5].Group == 1)\n",
        "assert(test.iloc[-5].Pawpularity == 39)"
      ]
    },
    {
      "cell_type": "markdown",
      "metadata": {
        "id": "XIgavsVgZlXk"
      },
      "source": [
        "### Baseline"
      ]
    },
    {
      "cell_type": "code",
      "execution_count": null,
      "metadata": {
        "id": "ZyafRwfRZlXl"
      },
      "outputs": [],
      "source": [
        "from sklearn.metrics import mean_squared_error"
      ]
    },
    {
      "cell_type": "markdown",
      "metadata": {
        "id": "9OXuprKMZlXl"
      },
      "source": [
        "Create a copy for test dataset:"
      ]
    },
    {
      "cell_type": "code",
      "execution_count": null,
      "metadata": {
        "id": "fU0oWqKOZlXm"
      },
      "outputs": [],
      "source": [
        "test = test.copy()"
      ]
    },
    {
      "cell_type": "markdown",
      "metadata": {
        "id": "TqqzCLVjZlXm"
      },
      "source": [
        "Set baseline based on mean/median/mode:"
      ]
    },
    {
      "cell_type": "code",
      "execution_count": null,
      "metadata": {
        "id": "MP-x3ZBwZlXn"
      },
      "outputs": [],
      "source": [
        "test['baseline'] = 0 # try to use mean/median/mode as baseline"
      ]
    },
    {
      "cell_type": "code",
      "execution_count": null,
      "metadata": {
        "scrolled": true,
        "id": "R0Zp37vjZlXn"
      },
      "outputs": [],
      "source": [
        "mean_squared_error(test.Pawpularity, test.baseline, squared=False)"
      ]
    },
    {
      "cell_type": "markdown",
      "metadata": {
        "id": "S8_sFrqPZlXn"
      },
      "source": [
        "### Regression"
      ]
    },
    {
      "cell_type": "markdown",
      "metadata": {
        "id": "3KM9WczoZlXn"
      },
      "source": [
        "Let's try to train linear regression on binary features"
      ]
    },
    {
      "cell_type": "code",
      "execution_count": null,
      "metadata": {
        "id": "y3raVTHJZlXo"
      },
      "outputs": [],
      "source": [
        "features = data.columns[1:-1]\n",
        "features"
      ]
    },
    {
      "cell_type": "code",
      "execution_count": null,
      "metadata": {
        "id": "ysdHKJMiZlXo"
      },
      "outputs": [],
      "source": [
        "from sklearn.linear_model import LinearRegression, Ridge, Lasso"
      ]
    },
    {
      "cell_type": "code",
      "execution_count": null,
      "metadata": {
        "id": "762xLyGTZlXo"
      },
      "outputs": [],
      "source": [
        "model = LinearRegression() # Compare several regression models, select the best. Don't forget to tune hyper params"
      ]
    },
    {
      "cell_type": "code",
      "execution_count": null,
      "metadata": {
        "id": "mx73QoE8ZlXp"
      },
      "outputs": [],
      "source": [
        "# Train your model here:\n",
        "# model.fit()\n",
        "# test['pred'] = model.predict()"
      ]
    },
    {
      "cell_type": "markdown",
      "metadata": {
        "id": "h2WEw3BNZlXp"
      },
      "source": [
        "Calculate score:"
      ]
    },
    {
      "cell_type": "code",
      "execution_count": null,
      "metadata": {
        "id": "is8w2BBrZlXp"
      },
      "outputs": [],
      "source": [
        "mean_squared_error(test.Pawpularity, test.pred, squared=False)"
      ]
    },
    {
      "cell_type": "markdown",
      "metadata": {
        "id": "4D4-vB0XZlXp"
      },
      "source": [
        "Check params:"
      ]
    },
    {
      "cell_type": "code",
      "execution_count": null,
      "metadata": {
        "id": "x58CQIoKZlXq"
      },
      "outputs": [],
      "source": [
        "list(zip(features, model.coef_)) # model's weights"
      ]
    },
    {
      "cell_type": "code",
      "execution_count": null,
      "metadata": {
        "id": "-PO8MOwpZlXq"
      },
      "outputs": [],
      "source": [
        "model.intercept_ # model's bias"
      ]
    },
    {
      "cell_type": "markdown",
      "metadata": {
        "id": "rclceni0ZlXq"
      },
      "source": [
        "Analyze errors:"
      ]
    },
    {
      "cell_type": "code",
      "execution_count": null,
      "metadata": {
        "id": "ecPmA1MfZlXq"
      },
      "outputs": [],
      "source": [
        "## True value / pred value plot:\n",
        "#sns.scatterplot(x=test.pred, y=test.Pawpularity)"
      ]
    },
    {
      "cell_type": "code",
      "execution_count": null,
      "metadata": {
        "id": "T7pbq8UlZlXq"
      },
      "outputs": [],
      "source": [
        "## Errors distribution:\n",
        "#sns.histplot(test.Pawpularity - test.pred)"
      ]
    },
    {
      "cell_type": "markdown",
      "metadata": {
        "id": "eS6lPTuXZlXr"
      },
      "source": [
        "**Compare several regression models (L1, L2 regularization), select the best. Don't forget to tune hyperparams**\n",
        "\n",
        "Print your best score and what type of regression you used to achieve it:"
      ]
    },
    {
      "cell_type": "code",
      "execution_count": null,
      "metadata": {
        "id": "5jZq1x8PZlXr"
      },
      "outputs": [],
      "source": []
    },
    {
      "cell_type": "markdown",
      "metadata": {
        "id": "sucemmfWZlXr"
      },
      "source": [
        "### Polinomial Regression\n",
        "Do polynomial features improve the score?"
      ]
    },
    {
      "cell_type": "code",
      "execution_count": null,
      "metadata": {
        "id": "d2CPxqFJZlXr"
      },
      "outputs": [],
      "source": [
        "from sklearn.pipeline import make_pipeline\n",
        "from sklearn.preprocessing import PolynomialFeatures"
      ]
    },
    {
      "cell_type": "markdown",
      "metadata": {
        "id": "JPh-Fg3DZlXr"
      },
      "source": [
        "[make_pipeline](https://scikit-learn.org/stable/modules/generated/sklearn.pipeline.make_pipeline.html) helps to combine several steps into one model"
      ]
    },
    {
      "cell_type": "code",
      "execution_count": null,
      "metadata": {
        "id": "PJ-vwajyZlXs"
      },
      "outputs": [],
      "source": [
        "model = make_pipeline(\n",
        "    ...\n",
        ")"
      ]
    },
    {
      "cell_type": "code",
      "execution_count": null,
      "metadata": {
        "scrolled": true,
        "id": "hffuHlhNZlXs"
      },
      "outputs": [],
      "source": [
        "# Hint: to check wieght use:\n",
        "# list(zip(t.get_feature_names(input_features=features), model.steps[1][1].coef_)) # model's weights"
      ]
    },
    {
      "cell_type": "markdown",
      "metadata": {
        "id": "9pTyL3KAZlXs"
      },
      "source": [
        "Print your best score with pollinomial reggresion:"
      ]
    },
    {
      "cell_type": "code",
      "execution_count": null,
      "metadata": {
        "id": "xiXvr0y2ZlXs"
      },
      "outputs": [],
      "source": []
    },
    {
      "cell_type": "markdown",
      "metadata": {
        "id": "n3J0bqP_ZlXt"
      },
      "source": [
        "### Feature selection"
      ]
    },
    {
      "cell_type": "markdown",
      "metadata": {
        "id": "gEsWOIscZlXt"
      },
      "source": [
        "Let's use Lasso for feature selection. Sklearn's [SelectFromModel](https://scikit-learn.org/stable/modules/feature_selection.html#feature-selection-using-selectfrommodel) will help"
      ]
    },
    {
      "cell_type": "code",
      "execution_count": null,
      "metadata": {
        "id": "qnmywaCtZlXx"
      },
      "outputs": [],
      "source": [
        "from sklearn.feature_selection import SelectFromModel ##"
      ]
    },
    {
      "cell_type": "code",
      "execution_count": null,
      "metadata": {
        "id": "g-m1rSdIZlXx"
      },
      "outputs": [],
      "source": [
        "model = make_pipeline(\n",
        "    ...\n",
        ")"
      ]
    },
    {
      "cell_type": "markdown",
      "metadata": {
        "id": "nqHyxodwZlXx"
      },
      "source": [
        "Print your best score with feature selection:"
      ]
    },
    {
      "cell_type": "code",
      "execution_count": null,
      "metadata": {
        "id": "qAzif2FNZlXy"
      },
      "outputs": [],
      "source": []
    }
  ],
  "metadata": {
    "kernelspec": {
      "display_name": "Python 3",
      "language": "python",
      "name": "python3"
    },
    "language_info": {
      "codemirror_mode": {
        "name": "ipython",
        "version": 3
      },
      "file_extension": ".py",
      "mimetype": "text/x-python",
      "name": "python",
      "nbconvert_exporter": "python",
      "pygments_lexer": "ipython3",
      "version": "3.7.9"
    },
    "colab": {
      "provenance": [],
      "include_colab_link": true
    }
  },
  "nbformat": 4,
  "nbformat_minor": 0
}