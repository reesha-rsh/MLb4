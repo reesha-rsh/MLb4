{
  "nbformat": 4,
  "nbformat_minor": 0,
  "metadata": {
    "colab": {
      "name": "Bagging homework.ipynb",
      "provenance": [],
      "include_colab_link": true
    },
    "kernelspec": {
      "name": "python3",
      "display_name": "Python 3"
    },
    "language_info": {
      "name": "python"
    }
  },
  "cells": [
    {
      "cell_type": "markdown",
      "metadata": {
        "id": "view-in-github",
        "colab_type": "text"
      },
      "source": [
        "<a href=\"https://colab.research.google.com/github/reesha-rsh/MLb4/blob/main/Homework/HW8.%20Bagging_Random%20Forest.ipynb\" target=\"_parent\"><img src=\"https://colab.research.google.com/assets/colab-badge.svg\" alt=\"Open In Colab\"/></a>"
      ]
    },
    {
      "cell_type": "markdown",
      "source": [
        "\n",
        "# 1. Use any binary classification dataset\n",
        "2. Define validation strategy and use it for all next steps without changes\n",
        "3. Train decision tree model and estimate performance on validation"
      ],
      "metadata": {
        "id": "prVttCvhr4j_"
      }
    },
    {
      "cell_type": "markdown",
      "source": [
        "*   Validation approach: We have a small amount of data so I will use a **K Fold** method\n",
        "*   Metric: I plan to optimize **fbeta score** with beta 0.5 to give more weight for precision, thus minimizing false positives - reducing the prediction that a passenger survived when he actually did not.\n",
        "\n"
      ],
      "metadata": {
        "id": "9-nzJAuFsUk-"
      }
    },
    {
      "cell_type": "code",
      "source": [
        "from sklearn.model_selection import train_test_split\n",
        "import pandas as pd\n",
        "import numpy as np\n",
        "\n",
        "\n",
        "from google.colab import drive\n",
        "drive.mount('/content/drive')\n",
        "\n",
        "train_full = pd.read_csv(\"/content/drive/MyDrive/MLb4/EDA Titanic/train.csv\")\n",
        "test_full = pd.read_csv(\"/content/drive/MyDrive/MLb4/EDA Titanic/test.csv\")"
      ],
      "metadata": {
        "colab": {
          "base_uri": "https://localhost:8080/"
        },
        "id": "4J_TyHYFr5mz",
        "outputId": "a906c9de-cb31-41e2-c222-51f95b082d7d"
      },
      "execution_count": 37,
      "outputs": [
        {
          "output_type": "stream",
          "name": "stdout",
          "text": [
            "Drive already mounted at /content/drive; to attempt to forcibly remount, call drive.mount(\"/content/drive\", force_remount=True).\n"
          ]
        }
      ]
    },
    {
      "cell_type": "code",
      "source": [
        "def generate(df,age_median,fare_median):\n",
        "  useless_features = ['Name','Ticket','Cabin']\n",
        "  data_cleaned = df\n",
        "  data_cleaned = data_cleaned.drop(columns = useless_features)\n",
        "\n",
        "  # generate binary values using get_dummies\n",
        "  data_cleaned = pd.get_dummies(data_cleaned, columns=['Sex'],prefix=[\"Sex\"])\n",
        "  data_cleaned = pd.get_dummies(data_cleaned, columns=['Embarked'],prefix=[\"Embarked\"])\n",
        "\n",
        "  # Check for NaN values in the DataFrame\n",
        "  nan_mask = data_cleaned.isnull()\n",
        "  # Count the number of NaN values in each column\n",
        "  nan_count_per_column = data_cleaned.isnull().sum()\n",
        "\n",
        "  data_cleaned['Age'] = data_cleaned['Age'].fillna(age_median)\n",
        "  data_cleaned['Fare'] = data_cleaned['Fare'].fillna(fare_median)\n",
        "\n",
        "  return data_cleaned\n"
      ],
      "metadata": {
        "id": "0ffTCrWwsHXY"
      },
      "execution_count": 38,
      "outputs": []
    },
    {
      "cell_type": "code",
      "source": [
        "features_columns = ['Pclass',\t'Age',\t'SibSp',\t'Parch',\t'Fare',\t'Sex_female',\t'Sex_male',\t'Embarked_C',\t'Embarked_Q',\t'Embarked_S']"
      ],
      "metadata": {
        "id": "5kw_X7rzsJSW"
      },
      "execution_count": 39,
      "outputs": []
    },
    {
      "cell_type": "code",
      "source": [
        "# get medians that will fill NaNs in generate func\n",
        "age_median = train_full['Age'].median()\n",
        "fare_median = train_full['Fare'].median()"
      ],
      "metadata": {
        "id": "OWmmUDuOsKx5"
      },
      "execution_count": 40,
      "outputs": []
    },
    {
      "cell_type": "code",
      "source": [
        "train = generate(train_full,age_median=age_median,fare_median=fare_median)\n",
        "train"
      ],
      "metadata": {
        "colab": {
          "base_uri": "https://localhost:8080/",
          "height": 423
        },
        "id": "UA9XIOaqsL9u",
        "outputId": "3c748524-8541-4595-9e53-82b7f6211501"
      },
      "execution_count": 41,
      "outputs": [
        {
          "output_type": "execute_result",
          "data": {
            "text/plain": [
              "     PassengerId  Survived  Pclass   Age  SibSp  Parch     Fare  Sex_female  \\\n",
              "0              1         0       3  22.0      1      0   7.2500           0   \n",
              "1              2         1       1  38.0      1      0  71.2833           1   \n",
              "2              3         1       3  26.0      0      0   7.9250           1   \n",
              "3              4         1       1  35.0      1      0  53.1000           1   \n",
              "4              5         0       3  35.0      0      0   8.0500           0   \n",
              "..           ...       ...     ...   ...    ...    ...      ...         ...   \n",
              "886          887         0       2  27.0      0      0  13.0000           0   \n",
              "887          888         1       1  19.0      0      0  30.0000           1   \n",
              "888          889         0       3  28.0      1      2  23.4500           1   \n",
              "889          890         1       1  26.0      0      0  30.0000           0   \n",
              "890          891         0       3  32.0      0      0   7.7500           0   \n",
              "\n",
              "     Sex_male  Embarked_C  Embarked_Q  Embarked_S  \n",
              "0           1           0           0           1  \n",
              "1           0           1           0           0  \n",
              "2           0           0           0           1  \n",
              "3           0           0           0           1  \n",
              "4           1           0           0           1  \n",
              "..        ...         ...         ...         ...  \n",
              "886         1           0           0           1  \n",
              "887         0           0           0           1  \n",
              "888         0           0           0           1  \n",
              "889         1           1           0           0  \n",
              "890         1           0           1           0  \n",
              "\n",
              "[891 rows x 12 columns]"
            ],
            "text/html": [
              "\n",
              "\n",
              "  <div id=\"df-35cbb340-d21a-47e5-9041-ff332d3a7a1f\">\n",
              "    <div class=\"colab-df-container\">\n",
              "      <div>\n",
              "<style scoped>\n",
              "    .dataframe tbody tr th:only-of-type {\n",
              "        vertical-align: middle;\n",
              "    }\n",
              "\n",
              "    .dataframe tbody tr th {\n",
              "        vertical-align: top;\n",
              "    }\n",
              "\n",
              "    .dataframe thead th {\n",
              "        text-align: right;\n",
              "    }\n",
              "</style>\n",
              "<table border=\"1\" class=\"dataframe\">\n",
              "  <thead>\n",
              "    <tr style=\"text-align: right;\">\n",
              "      <th></th>\n",
              "      <th>PassengerId</th>\n",
              "      <th>Survived</th>\n",
              "      <th>Pclass</th>\n",
              "      <th>Age</th>\n",
              "      <th>SibSp</th>\n",
              "      <th>Parch</th>\n",
              "      <th>Fare</th>\n",
              "      <th>Sex_female</th>\n",
              "      <th>Sex_male</th>\n",
              "      <th>Embarked_C</th>\n",
              "      <th>Embarked_Q</th>\n",
              "      <th>Embarked_S</th>\n",
              "    </tr>\n",
              "  </thead>\n",
              "  <tbody>\n",
              "    <tr>\n",
              "      <th>0</th>\n",
              "      <td>1</td>\n",
              "      <td>0</td>\n",
              "      <td>3</td>\n",
              "      <td>22.0</td>\n",
              "      <td>1</td>\n",
              "      <td>0</td>\n",
              "      <td>7.2500</td>\n",
              "      <td>0</td>\n",
              "      <td>1</td>\n",
              "      <td>0</td>\n",
              "      <td>0</td>\n",
              "      <td>1</td>\n",
              "    </tr>\n",
              "    <tr>\n",
              "      <th>1</th>\n",
              "      <td>2</td>\n",
              "      <td>1</td>\n",
              "      <td>1</td>\n",
              "      <td>38.0</td>\n",
              "      <td>1</td>\n",
              "      <td>0</td>\n",
              "      <td>71.2833</td>\n",
              "      <td>1</td>\n",
              "      <td>0</td>\n",
              "      <td>1</td>\n",
              "      <td>0</td>\n",
              "      <td>0</td>\n",
              "    </tr>\n",
              "    <tr>\n",
              "      <th>2</th>\n",
              "      <td>3</td>\n",
              "      <td>1</td>\n",
              "      <td>3</td>\n",
              "      <td>26.0</td>\n",
              "      <td>0</td>\n",
              "      <td>0</td>\n",
              "      <td>7.9250</td>\n",
              "      <td>1</td>\n",
              "      <td>0</td>\n",
              "      <td>0</td>\n",
              "      <td>0</td>\n",
              "      <td>1</td>\n",
              "    </tr>\n",
              "    <tr>\n",
              "      <th>3</th>\n",
              "      <td>4</td>\n",
              "      <td>1</td>\n",
              "      <td>1</td>\n",
              "      <td>35.0</td>\n",
              "      <td>1</td>\n",
              "      <td>0</td>\n",
              "      <td>53.1000</td>\n",
              "      <td>1</td>\n",
              "      <td>0</td>\n",
              "      <td>0</td>\n",
              "      <td>0</td>\n",
              "      <td>1</td>\n",
              "    </tr>\n",
              "    <tr>\n",
              "      <th>4</th>\n",
              "      <td>5</td>\n",
              "      <td>0</td>\n",
              "      <td>3</td>\n",
              "      <td>35.0</td>\n",
              "      <td>0</td>\n",
              "      <td>0</td>\n",
              "      <td>8.0500</td>\n",
              "      <td>0</td>\n",
              "      <td>1</td>\n",
              "      <td>0</td>\n",
              "      <td>0</td>\n",
              "      <td>1</td>\n",
              "    </tr>\n",
              "    <tr>\n",
              "      <th>...</th>\n",
              "      <td>...</td>\n",
              "      <td>...</td>\n",
              "      <td>...</td>\n",
              "      <td>...</td>\n",
              "      <td>...</td>\n",
              "      <td>...</td>\n",
              "      <td>...</td>\n",
              "      <td>...</td>\n",
              "      <td>...</td>\n",
              "      <td>...</td>\n",
              "      <td>...</td>\n",
              "      <td>...</td>\n",
              "    </tr>\n",
              "    <tr>\n",
              "      <th>886</th>\n",
              "      <td>887</td>\n",
              "      <td>0</td>\n",
              "      <td>2</td>\n",
              "      <td>27.0</td>\n",
              "      <td>0</td>\n",
              "      <td>0</td>\n",
              "      <td>13.0000</td>\n",
              "      <td>0</td>\n",
              "      <td>1</td>\n",
              "      <td>0</td>\n",
              "      <td>0</td>\n",
              "      <td>1</td>\n",
              "    </tr>\n",
              "    <tr>\n",
              "      <th>887</th>\n",
              "      <td>888</td>\n",
              "      <td>1</td>\n",
              "      <td>1</td>\n",
              "      <td>19.0</td>\n",
              "      <td>0</td>\n",
              "      <td>0</td>\n",
              "      <td>30.0000</td>\n",
              "      <td>1</td>\n",
              "      <td>0</td>\n",
              "      <td>0</td>\n",
              "      <td>0</td>\n",
              "      <td>1</td>\n",
              "    </tr>\n",
              "    <tr>\n",
              "      <th>888</th>\n",
              "      <td>889</td>\n",
              "      <td>0</td>\n",
              "      <td>3</td>\n",
              "      <td>28.0</td>\n",
              "      <td>1</td>\n",
              "      <td>2</td>\n",
              "      <td>23.4500</td>\n",
              "      <td>1</td>\n",
              "      <td>0</td>\n",
              "      <td>0</td>\n",
              "      <td>0</td>\n",
              "      <td>1</td>\n",
              "    </tr>\n",
              "    <tr>\n",
              "      <th>889</th>\n",
              "      <td>890</td>\n",
              "      <td>1</td>\n",
              "      <td>1</td>\n",
              "      <td>26.0</td>\n",
              "      <td>0</td>\n",
              "      <td>0</td>\n",
              "      <td>30.0000</td>\n",
              "      <td>0</td>\n",
              "      <td>1</td>\n",
              "      <td>1</td>\n",
              "      <td>0</td>\n",
              "      <td>0</td>\n",
              "    </tr>\n",
              "    <tr>\n",
              "      <th>890</th>\n",
              "      <td>891</td>\n",
              "      <td>0</td>\n",
              "      <td>3</td>\n",
              "      <td>32.0</td>\n",
              "      <td>0</td>\n",
              "      <td>0</td>\n",
              "      <td>7.7500</td>\n",
              "      <td>0</td>\n",
              "      <td>1</td>\n",
              "      <td>0</td>\n",
              "      <td>1</td>\n",
              "      <td>0</td>\n",
              "    </tr>\n",
              "  </tbody>\n",
              "</table>\n",
              "<p>891 rows × 12 columns</p>\n",
              "</div>\n",
              "      <button class=\"colab-df-convert\" onclick=\"convertToInteractive('df-35cbb340-d21a-47e5-9041-ff332d3a7a1f')\"\n",
              "              title=\"Convert this dataframe to an interactive table.\"\n",
              "              style=\"display:none;\">\n",
              "\n",
              "  <svg xmlns=\"http://www.w3.org/2000/svg\" height=\"24px\"viewBox=\"0 0 24 24\"\n",
              "       width=\"24px\">\n",
              "    <path d=\"M0 0h24v24H0V0z\" fill=\"none\"/>\n",
              "    <path d=\"M18.56 5.44l.94 2.06.94-2.06 2.06-.94-2.06-.94-.94-2.06-.94 2.06-2.06.94zm-11 1L8.5 8.5l.94-2.06 2.06-.94-2.06-.94L8.5 2.5l-.94 2.06-2.06.94zm10 10l.94 2.06.94-2.06 2.06-.94-2.06-.94-.94-2.06-.94 2.06-2.06.94z\"/><path d=\"M17.41 7.96l-1.37-1.37c-.4-.4-.92-.59-1.43-.59-.52 0-1.04.2-1.43.59L10.3 9.45l-7.72 7.72c-.78.78-.78 2.05 0 2.83L4 21.41c.39.39.9.59 1.41.59.51 0 1.02-.2 1.41-.59l7.78-7.78 2.81-2.81c.8-.78.8-2.07 0-2.86zM5.41 20L4 18.59l7.72-7.72 1.47 1.35L5.41 20z\"/>\n",
              "  </svg>\n",
              "      </button>\n",
              "\n",
              "\n",
              "\n",
              "    <div id=\"df-65f51c29-3471-4cb3-9a65-a3c797a406b8\">\n",
              "      <button class=\"colab-df-quickchart\" onclick=\"quickchart('df-65f51c29-3471-4cb3-9a65-a3c797a406b8')\"\n",
              "              title=\"Suggest charts.\"\n",
              "              style=\"display:none;\">\n",
              "\n",
              "<svg xmlns=\"http://www.w3.org/2000/svg\" height=\"24px\"viewBox=\"0 0 24 24\"\n",
              "     width=\"24px\">\n",
              "    <g>\n",
              "        <path d=\"M19 3H5c-1.1 0-2 .9-2 2v14c0 1.1.9 2 2 2h14c1.1 0 2-.9 2-2V5c0-1.1-.9-2-2-2zM9 17H7v-7h2v7zm4 0h-2V7h2v10zm4 0h-2v-4h2v4z\"/>\n",
              "    </g>\n",
              "</svg>\n",
              "      </button>\n",
              "    </div>\n",
              "\n",
              "<style>\n",
              "  .colab-df-quickchart {\n",
              "    background-color: #E8F0FE;\n",
              "    border: none;\n",
              "    border-radius: 50%;\n",
              "    cursor: pointer;\n",
              "    display: none;\n",
              "    fill: #1967D2;\n",
              "    height: 32px;\n",
              "    padding: 0 0 0 0;\n",
              "    width: 32px;\n",
              "  }\n",
              "\n",
              "  .colab-df-quickchart:hover {\n",
              "    background-color: #E2EBFA;\n",
              "    box-shadow: 0px 1px 2px rgba(60, 64, 67, 0.3), 0px 1px 3px 1px rgba(60, 64, 67, 0.15);\n",
              "    fill: #174EA6;\n",
              "  }\n",
              "\n",
              "  [theme=dark] .colab-df-quickchart {\n",
              "    background-color: #3B4455;\n",
              "    fill: #D2E3FC;\n",
              "  }\n",
              "\n",
              "  [theme=dark] .colab-df-quickchart:hover {\n",
              "    background-color: #434B5C;\n",
              "    box-shadow: 0px 1px 3px 1px rgba(0, 0, 0, 0.15);\n",
              "    filter: drop-shadow(0px 1px 2px rgba(0, 0, 0, 0.3));\n",
              "    fill: #FFFFFF;\n",
              "  }\n",
              "</style>\n",
              "\n",
              "    <script>\n",
              "      async function quickchart(key) {\n",
              "        const containerElement = document.querySelector('#' + key);\n",
              "        const charts = await google.colab.kernel.invokeFunction(\n",
              "            'suggestCharts', [key], {});\n",
              "      }\n",
              "    </script>\n",
              "\n",
              "      <script>\n",
              "\n",
              "function displayQuickchartButton(domScope) {\n",
              "  let quickchartButtonEl =\n",
              "    domScope.querySelector('#df-65f51c29-3471-4cb3-9a65-a3c797a406b8 button.colab-df-quickchart');\n",
              "  quickchartButtonEl.style.display =\n",
              "    google.colab.kernel.accessAllowed ? 'block' : 'none';\n",
              "}\n",
              "\n",
              "        displayQuickchartButton(document);\n",
              "      </script>\n",
              "      <style>\n",
              "    .colab-df-container {\n",
              "      display:flex;\n",
              "      flex-wrap:wrap;\n",
              "      gap: 12px;\n",
              "    }\n",
              "\n",
              "    .colab-df-convert {\n",
              "      background-color: #E8F0FE;\n",
              "      border: none;\n",
              "      border-radius: 50%;\n",
              "      cursor: pointer;\n",
              "      display: none;\n",
              "      fill: #1967D2;\n",
              "      height: 32px;\n",
              "      padding: 0 0 0 0;\n",
              "      width: 32px;\n",
              "    }\n",
              "\n",
              "    .colab-df-convert:hover {\n",
              "      background-color: #E2EBFA;\n",
              "      box-shadow: 0px 1px 2px rgba(60, 64, 67, 0.3), 0px 1px 3px 1px rgba(60, 64, 67, 0.15);\n",
              "      fill: #174EA6;\n",
              "    }\n",
              "\n",
              "    [theme=dark] .colab-df-convert {\n",
              "      background-color: #3B4455;\n",
              "      fill: #D2E3FC;\n",
              "    }\n",
              "\n",
              "    [theme=dark] .colab-df-convert:hover {\n",
              "      background-color: #434B5C;\n",
              "      box-shadow: 0px 1px 3px 1px rgba(0, 0, 0, 0.15);\n",
              "      filter: drop-shadow(0px 1px 2px rgba(0, 0, 0, 0.3));\n",
              "      fill: #FFFFFF;\n",
              "    }\n",
              "  </style>\n",
              "\n",
              "      <script>\n",
              "        const buttonEl =\n",
              "          document.querySelector('#df-35cbb340-d21a-47e5-9041-ff332d3a7a1f button.colab-df-convert');\n",
              "        buttonEl.style.display =\n",
              "          google.colab.kernel.accessAllowed ? 'block' : 'none';\n",
              "\n",
              "        async function convertToInteractive(key) {\n",
              "          const element = document.querySelector('#df-35cbb340-d21a-47e5-9041-ff332d3a7a1f');\n",
              "          const dataTable =\n",
              "            await google.colab.kernel.invokeFunction('convertToInteractive',\n",
              "                                                     [key], {});\n",
              "          if (!dataTable) return;\n",
              "\n",
              "          const docLinkHtml = 'Like what you see? Visit the ' +\n",
              "            '<a target=\"_blank\" href=https://colab.research.google.com/notebooks/data_table.ipynb>data table notebook</a>'\n",
              "            + ' to learn more about interactive tables.';\n",
              "          element.innerHTML = '';\n",
              "          dataTable['output_type'] = 'display_data';\n",
              "          await google.colab.output.renderOutput(dataTable, element);\n",
              "          const docLink = document.createElement('div');\n",
              "          docLink.innerHTML = docLinkHtml;\n",
              "          element.appendChild(docLink);\n",
              "        }\n",
              "      </script>\n",
              "    </div>\n",
              "  </div>\n"
            ]
          },
          "metadata": {},
          "execution_count": 41
        }
      ]
    },
    {
      "cell_type": "code",
      "source": [
        "titanic_features = train[features_columns]\n",
        "titanic_label = train['Survived']"
      ],
      "metadata": {
        "id": "yp_2dCMMuqe-"
      },
      "execution_count": 42,
      "outputs": []
    },
    {
      "cell_type": "code",
      "source": [
        "from sklearn.model_selection import StratifiedKFold, GridSearchCV\n",
        "from sklearn.linear_model import LogisticRegression\n",
        "from sklearn.metrics import make_scorer, fbeta_score, classification_report, accuracy_score\n",
        "from sklearn import metrics\n"
      ],
      "metadata": {
        "id": "5ln5QTEhseo2"
      },
      "execution_count": 43,
      "outputs": []
    },
    {
      "cell_type": "code",
      "source": [
        "random_state = 42"
      ],
      "metadata": {
        "id": "sex7kbQwsTi-"
      },
      "execution_count": 44,
      "outputs": []
    },
    {
      "cell_type": "code",
      "source": [
        "# Initialize the StratifiedKFold object\n",
        "skf = StratifiedKFold(n_splits=5, shuffle=True, random_state=random_state)"
      ],
      "metadata": {
        "id": "ISAPU70CscfS"
      },
      "execution_count": 45,
      "outputs": []
    },
    {
      "cell_type": "code",
      "source": [
        "# Define the custom scoring function with the desired beta value\n",
        "beta = 0.5\n",
        "custom_scorer = make_scorer(fbeta_score, beta=beta)"
      ],
      "metadata": {
        "id": "OssvR8VFsaCL"
      },
      "execution_count": 46,
      "outputs": []
    },
    {
      "cell_type": "code",
      "source": [
        "from sklearn.model_selection import StratifiedKFold, GridSearchCV\n",
        "from sklearn.tree import DecisionTreeClassifier\n",
        "from sklearn.metrics import make_scorer, fbeta_score\n",
        "\n",
        "\n",
        "\n",
        "# Define the DecisionTreeClassifier model\n",
        "classifier = DecisionTreeClassifier(random_state=random_state)\n",
        "\n",
        "# Define the hyperparameter grid to search over\n",
        "param_grid = {\n",
        "    'criterion': ['gini'],\n",
        "    'splitter': ['random'],\n",
        "    'max_depth': [None, 3, 5, 7, 9, 11],\n",
        "    'min_samples_leaf': [1,  3,  5,  7,  9,  11],\n",
        "    'max_features': [ 1,  3,  5,  7,  9,  10],\n",
        "    'class_weight': ['balanced']\n",
        "}\n",
        "\n",
        "\n",
        "# Initialize the GridSearchCV object with the DecisionTreeClassifier, hyperparameter grid, and custom scorer\n",
        "grid_search = GridSearchCV(classifier, param_grid, scoring=custom_scorer, cv=skf)\n",
        "\n",
        "# Perform grid search to find the best hyperparameters\n",
        "grid_search.fit(titanic_features, titanic_label)\n",
        "\n",
        "# Get the best hyperparameters and the corresponding model\n",
        "best_params = grid_search.best_params_\n",
        "best_model = grid_search.best_estimator_\n",
        "\n",
        "\n",
        "# Print the best hyperparameters\n",
        "print(\"Best Hyperparameters:\", best_params)\n",
        "\n",
        "# Optionally, you can evaluate the model on the full data using the F-beta score with beta=0.1\n",
        "y_pred = best_model.predict(titanic_features)\n",
        "\n",
        "fbeta = fbeta_score(titanic_label, y_pred, beta=beta)\n",
        "accuracy = accuracy_score(titanic_label, y_pred)\n",
        "\n",
        "print(\"F-beta Score (beta={}): {:.4f}\".format(beta, fbeta))\n",
        "print(\"Accuracy: {:.4f}\".format(accuracy))\n",
        "print(metrics.classification_report(titanic_label, y_pred))\n",
        "print(metrics.confusion_matrix(titanic_label, y_pred))\n"
      ],
      "metadata": {
        "colab": {
          "base_uri": "https://localhost:8080/"
        },
        "id": "zhjMorzGsjBd",
        "outputId": "0e1b4c1f-e403-4fe7-f12a-6b87a50566f2"
      },
      "execution_count": 47,
      "outputs": [
        {
          "output_type": "stream",
          "name": "stdout",
          "text": [
            "Best Hyperparameters: {'class_weight': 'balanced', 'criterion': 'gini', 'max_depth': 5, 'max_features': 3, 'min_samples_leaf': 3, 'splitter': 'random'}\n",
            "F-beta Score (beta=0.5): 0.7950\n",
            "Accuracy: 0.8249\n",
            "              precision    recall  f1-score   support\n",
            "\n",
            "           0       0.82      0.91      0.87       549\n",
            "           1       0.83      0.69      0.75       342\n",
            "\n",
            "    accuracy                           0.82       891\n",
            "   macro avg       0.83      0.80      0.81       891\n",
            "weighted avg       0.83      0.82      0.82       891\n",
            "\n",
            "[[500  49]\n",
            " [107 235]]\n"
          ]
        }
      ]
    },
    {
      "cell_type": "markdown",
      "source": [
        "# 4. Train bagging model with decision tree as a base model and estimate performance on validation"
      ],
      "metadata": {
        "id": "zlt_4XlqviTY"
      }
    },
    {
      "cell_type": "code",
      "source": [
        "from sklearn.ensemble import BaggingClassifier\n"
      ],
      "metadata": {
        "id": "UcyBLQj0wd2L"
      },
      "execution_count": 48,
      "outputs": []
    },
    {
      "cell_type": "code",
      "source": [
        "parameters = {\n",
        "    \"max_features\": [1,  3,  5,  7,  9,  10],\n",
        "    \"max_samples\": [0.7, 0.8, 0.9],\n",
        "    \"estimator__max_depth\": [None, 3, 5, 7, 9, 11],\n",
        "    \"estimator__min_samples_leaf\": [1,  3,  5,  7,  9,  11],\n",
        "    'estimator__criterion': ['gini'],\n",
        "    'estimator__splitter': ['random'],\n",
        "    'estimator__class_weight': ['balanced']\n",
        "}\n",
        "\n",
        "dt = DecisionTreeClassifier(random_state=random_state)\n",
        "bg = BaggingClassifier(dt, random_state=random_state, n_estimators=25)\n",
        "\n",
        "bag_grid_search = GridSearchCV(bg, parameters, scoring=custom_scorer, cv=skf)\n",
        "\n",
        "\n",
        "# Perform grid search to find the best hyperparameters\n",
        "bag_grid_search.fit(titanic_features, titanic_label)\n",
        "\n",
        "# Get the best hyperparameters and the corresponding model\n",
        "best_params = bag_grid_search.best_params_\n",
        "best_model = bag_grid_search.best_estimator_\n",
        "\n",
        "\n",
        "# Print the best hyperparameters\n",
        "print(\"Best Hyperparameters:\", best_params)\n",
        "\n",
        "# Optionally, you can evaluate the model on the full data using the F-beta score with beta=0.1\n",
        "y_pred = best_model.predict(titanic_features)\n",
        "\n",
        "fbeta = fbeta_score(titanic_label, y_pred, beta=beta)\n",
        "accuracy = accuracy_score(titanic_label, y_pred)\n",
        "\n",
        "print(\"F-beta Score (beta={}): {:.4f}\".format(beta, fbeta))\n",
        "print(\"Accuracy: {:.4f}\".format(accuracy))\n",
        "print(metrics.classification_report(titanic_label, y_pred))\n",
        "print(metrics.confusion_matrix(titanic_label, y_pred))\n"
      ],
      "metadata": {
        "colab": {
          "base_uri": "https://localhost:8080/"
        },
        "id": "ok_Zjsn-vjmR",
        "outputId": "ee97d9f3-2222-4522-dd50-548f744a8622"
      },
      "execution_count": 49,
      "outputs": [
        {
          "output_type": "stream",
          "name": "stdout",
          "text": [
            "Best Hyperparameters: {'estimator__class_weight': 'balanced', 'estimator__criterion': 'gini', 'estimator__max_depth': None, 'estimator__min_samples_leaf': 1, 'estimator__splitter': 'random', 'max_features': 5, 'max_samples': 0.7}\n",
            "F-beta Score (beta=0.5): 0.9102\n",
            "Accuracy: 0.9147\n",
            "              precision    recall  f1-score   support\n",
            "\n",
            "           0       0.91      0.96      0.93       549\n",
            "           1       0.93      0.84      0.88       342\n",
            "\n",
            "    accuracy                           0.91       891\n",
            "   macro avg       0.92      0.90      0.91       891\n",
            "weighted avg       0.92      0.91      0.91       891\n",
            "\n",
            "[[527  22]\n",
            " [ 54 288]]\n"
          ]
        }
      ]
    },
    {
      "cell_type": "markdown",
      "source": [
        "# RANDOM FOREST"
      ],
      "metadata": {
        "id": "bZjVu-6e3SCT"
      }
    },
    {
      "cell_type": "code",
      "source": [
        "from sklearn.ensemble import RandomForestClassifier"
      ],
      "metadata": {
        "id": "xtIj2iqX41Ma"
      },
      "execution_count": 50,
      "outputs": []
    },
    {
      "cell_type": "code",
      "source": [
        "parameters = {\n",
        "    \"max_features\": [1,  3,  5,  7,  9,  10],\n",
        "    \"max_samples\": [0.7, 0.8, 0.9],\n",
        "    \"max_depth\": [None, 3, 5, 7, 9, 11],\n",
        "    \"min_samples_leaf\": [1,  3,  5,  7,  9,  11],\n",
        "    'criterion': ['gini'],\n",
        "    'class_weight': ['balanced']\n",
        "}\n",
        "\n",
        "rfc = RandomForestClassifier(n_estimators=25, random_state=random_state, n_jobs=-1, oob_score=True)\n",
        "forest_grid_search = GridSearchCV(rfc, parameters, scoring=custom_scorer, cv=skf)\n",
        "\n",
        "# Perform grid search to find the best hyperparameters\n",
        "forest_grid_search.fit(titanic_features, titanic_label)\n",
        "\n",
        "# Get the best hyperparameters and the corresponding model\n",
        "best_params = forest_grid_search.best_params_\n",
        "best_model = forest_grid_search.best_estimator_\n",
        "\n",
        "\n",
        "# Print the best hyperparameters\n",
        "print(\"Best Hyperparameters:\", best_params)\n",
        "\n",
        "# Optionally, you can evaluate the model on the full data using the F-beta score with beta=0.1\n",
        "y_pred = best_model.predict(titanic_features)\n",
        "\n",
        "fbeta = fbeta_score(titanic_label, y_pred, beta=beta)\n",
        "accuracy = accuracy_score(titanic_label, y_pred)\n",
        "\n",
        "print(\"F-beta Score (beta={}): {:.4f}\".format(beta, fbeta))\n",
        "print(\"Accuracy: {:.4f}\".format(accuracy))\n",
        "print(metrics.classification_report(titanic_label, y_pred))\n",
        "print(metrics.confusion_matrix(titanic_label, y_pred))\n"
      ],
      "metadata": {
        "colab": {
          "base_uri": "https://localhost:8080/"
        },
        "id": "qxzd9DVI4IO6",
        "outputId": "5810dbd7-b964-4177-b568-2d0c8d12d1d8"
      },
      "execution_count": 51,
      "outputs": [
        {
          "output_type": "stream",
          "name": "stdout",
          "text": [
            "Best Hyperparameters: {'class_weight': 'balanced', 'criterion': 'gini', 'max_depth': 9, 'max_features': 7, 'max_samples': 0.7, 'min_samples_leaf': 1}\n",
            "F-beta Score (beta=0.5): 0.9105\n",
            "Accuracy: 0.9169\n",
            "              precision    recall  f1-score   support\n",
            "\n",
            "           0       0.91      0.96      0.93       549\n",
            "           1       0.93      0.85      0.89       342\n",
            "\n",
            "    accuracy                           0.92       891\n",
            "   macro avg       0.92      0.90      0.91       891\n",
            "weighted avg       0.92      0.92      0.92       891\n",
            "\n",
            "[[526  23]\n",
            " [ 51 291]]\n"
          ]
        }
      ]
    },
    {
      "cell_type": "markdown",
      "metadata": {
        "id": "UMms33J4jeDZ"
      },
      "source": [
        "\n",
        "# 5. Write your own bagging implementation:\n",
        "  <br>5.1. Define init for our CustomBaggingClassifier\n",
        "  <br>5.2. Write fit as described in lecture: divide train data on n parts (`n_estimators` in CustomBaggingClassifier), train `base_estimator` on each part and save these models inside class\n",
        "  <br>5.3. For predictions we should use all saved models and combine their predictions (as voting)\n"
      ]
    },
    {
      "cell_type": "code",
      "source": [
        "class CustomBaggingClassifier:\n",
        "    def __init__(self, base_estimator, n_estimators, max_samples=1.0, max_features=1.0, random_state=None):\n",
        "        self.base_estimator = base_estimator\n",
        "        self.n_estimators = n_estimators\n",
        "        self.max_samples = max_samples\n",
        "        self.max_features = max_features\n",
        "        self.random_state = random_state\n",
        "        self.estimators = {}\n",
        "\n",
        "    def bootstrap_sampling(self, X, y):\n",
        "        # Implement bootstrap sampling to randomly select subsets of data\n",
        "        num_samples = X.shape[0]\n",
        "        if isinstance(self.max_samples, int):\n",
        "            sample_size = self.max_samples\n",
        "        elif isinstance(self.max_samples, float):\n",
        "            sample_size = int(self.max_samples * num_samples)\n",
        "        else:\n",
        "            raise ValueError(\"Invalid type for max_samples. It must be int or float.\")\n",
        "\n",
        "        n_features = X.shape[1]\n",
        "        if isinstance(self.max_features, int):\n",
        "            max_features = self.max_features\n",
        "        elif isinstance(self.max_features, float):\n",
        "            max_features = max(1, int(self.max_features * n_features))\n",
        "        else:\n",
        "            raise ValueError(\"Invalid type for max_features. It must be int or float.\")\n",
        "\n",
        "        np.random.seed(self.random_state)\n",
        "        sample_indices = np.random.choice(num_samples, size=sample_size, replace=True)\n",
        "        sample_features = np.random.choice(n_features, size=max_features, replace=True)\n",
        "\n",
        "        X_sampled = X.iloc[sample_indices,sample_features]\n",
        "        y_sampled = y.iloc[sample_indices]\n",
        "        return X_sampled, y_sampled, sample_features\n",
        "\n",
        "    def fit(self, X, y):\n",
        "\n",
        "\n",
        "        for _ in range(self.n_estimators):\n",
        "            # Get a random subset of the data using bootstrap sampling\n",
        "            X_sampled, y_sampled, sample_features = self.bootstrap_sampling(X, y)\n",
        "\n",
        "            # Train a new base estimator and store it in the list\n",
        "            estimator = self.base_estimator.fit(X_sampled, y_sampled)\n",
        "            self.estimators[estimator] = sample_features\n",
        "\n",
        "\n",
        "    def predict(self, X):\n",
        "        # Make predictions using majority voting for classification\n",
        "        predictions = np.zeros((X.shape[0], len(self.estimators)))\n",
        "\n",
        "        for index, (estimator,sample_features ) in enumerate(self.estimators.items()):\n",
        "\n",
        "            predictions[:, index] = estimator.predict(X.iloc[:,sample_features])\n",
        "\n",
        "        # Take the majority vote to make the final prediction\n",
        "        final_predictions = np.apply_along_axis(lambda x: np.bincount(x.astype('int')).argmax(), axis=1, arr=predictions)\n",
        "\n",
        "        return final_predictions\n",
        "\n",
        "    def get_params(self, deep=True):\n",
        "        return {\n",
        "            'base_estimator': self.base_estimator,\n",
        "            'n_estimators': self.n_estimators,\n",
        "            'max_samples': self.max_samples,\n",
        "            'max_features': self.max_features,\n",
        "            'random_state': self.random_state\n",
        "        }\n",
        "\n",
        "    def set_params(self, **params):\n",
        "        for param, value in params.items():\n",
        "            setattr(self, param, value)\n",
        "        return self\n"
      ],
      "metadata": {
        "id": "4dFu1IPnG7T7"
      },
      "execution_count": 52,
      "outputs": []
    },
    {
      "cell_type": "code",
      "source": [
        "parameters = {\n",
        "    \"max_features\": [1,  3,  5,  7,  9,  10],\n",
        "    \"max_samples\": [0.7, 0.8, 0.9],\n",
        "    \"base_estimator__max_depth\": [None, 3, 5, 7, 9, 11],\n",
        "    \"base_estimator__min_samples_leaf\": [1,  3,  5,  7,  9,  11],\n",
        "    'base_estimator__criterion': ['gini'],\n",
        "    'base_estimator__splitter': ['random'],\n",
        "    'base_estimatorr__class_weight': ['balanced']\n",
        "}\n",
        "\n",
        "\n",
        "dt = DecisionTreeClassifier(random_state=random_state)\n",
        "cbg = CustomBaggingClassifier(dt, random_state=random_state, n_estimators=100)\n",
        "\n",
        "cbag_grid_search = GridSearchCV(cbg, parameters, scoring=custom_scorer, cv=skf)\n",
        "\n",
        "\n",
        "# Perform grid search to find the best hyperparameters\n",
        "cbag_grid_search.fit(titanic_features, titanic_label)\n",
        "\n",
        "# Get the best hyperparameters and the corresponding model\n",
        "best_params = cbag_grid_search.best_params_\n",
        "best_model = cbag_grid_search.best_estimator_\n",
        "\n",
        "\n",
        "# Print the best hyperparameters\n",
        "print(\"Best Hyperparameters:\", best_params)\n",
        "\n",
        "# Optionally, you can evaluate the model on the full data using the F-beta score with beta=0.1\n",
        "y_pred = best_model.predict(titanic_features)\n",
        "\n",
        "fbeta = fbeta_score(titanic_label, y_pred, beta=beta)\n",
        "accuracy = accuracy_score(titanic_label, y_pred)\n",
        "\n",
        "print(\"F-beta Score (beta={}): {:.4f}\".format(beta, fbeta))\n",
        "print(\"Accuracy: {:.4f}\".format(accuracy))\n",
        "print(metrics.classification_report(titanic_label, y_pred))\n",
        "print(metrics.confusion_matrix(titanic_label, y_pred))\n"
      ],
      "metadata": {
        "id": "jOXXiZT4LrlU",
        "outputId": "185239e1-fdfa-4b7a-c9b3-e27f6ef0b52b",
        "colab": {
          "base_uri": "https://localhost:8080/"
        }
      },
      "execution_count": 56,
      "outputs": [
        {
          "output_type": "stream",
          "name": "stdout",
          "text": [
            "Best Hyperparameters: {'base_estimator__criterion': 'gini', 'base_estimator__max_depth': None, 'base_estimator__min_samples_leaf': 1, 'base_estimator__splitter': 'random', 'base_estimatorr__class_weight': 'balanced', 'max_features': 5, 'max_samples': 0.9}\n",
            "F-beta Score (beta=0.5): 0.7935\n",
            "Accuracy: 0.8103\n",
            "              precision    recall  f1-score   support\n",
            "\n",
            "           0       0.79      0.94      0.86       549\n",
            "           1       0.86      0.60      0.71       342\n",
            "\n",
            "    accuracy                           0.81       891\n",
            "   macro avg       0.83      0.77      0.78       891\n",
            "weighted avg       0.82      0.81      0.80       891\n",
            "\n",
            "[[516  33]\n",
            " [136 206]]\n"
          ]
        }
      ]
    },
    {
      "cell_type": "markdown",
      "source": [
        "# 6. Compare performance of sklearn bagging model with your own implementation"
      ],
      "metadata": {
        "id": "fsNWrra-_van"
      }
    },
    {
      "cell_type": "markdown",
      "source": [
        "**CustomBaggingClassifier**\n",
        "\n",
        "Best Hyperparameters: {'base_estimator__criterion': 'gini', 'base_estimator__max_depth': None, 'base_estimator__min_samples_leaf': 1, 'base_estimator__splitter': 'random', 'base_estimatorr__class_weight': 'balanced', 'max_features': 5, 'max_samples': 0.9}\n",
        "F-beta Score (beta=0.5): 0.7935\n",
        "Accuracy: 0.8103\n",
        "              precision    recall  f1-score   support\n",
        "\n",
        "           0       0.79      0.94      0.86       549\n",
        "           1       0.86      0.60      0.71       342\n",
        "\n",
        "    accuracy                           0.81       891\n",
        "   macro avg       0.83      0.77      0.78       891\n",
        "weighted avg       0.82      0.81      0.80       891\n",
        "\n",
        "[[516  33]\n",
        " [136 206]]"
      ],
      "metadata": {
        "id": "S35q6cG8T_5d"
      }
    },
    {
      "cell_type": "markdown",
      "source": [
        "BaggingClassifier\n",
        "\n",
        "Best Hyperparameters: {'estimator__class_weight': 'balanced', 'estimator__criterion': 'gini', 'estimator__max_depth': None, 'estimator__min_samples_leaf': 1, 'estimator__splitter': 'random', 'max_features': 5, 'max_samples': 0.7}\n",
        "F-beta Score (beta=0.5): 0.9102\n",
        "Accuracy: 0.9147\n",
        "              precision    recall  f1-score   support\n",
        "\n",
        "           0       0.91      0.96      0.93       549\n",
        "           1       0.93      0.84      0.88       342\n",
        "\n",
        "    accuracy                           0.91       891\n",
        "   macro avg       0.92      0.90      0.91       891\n",
        "weighted avg       0.92      0.91      0.91       891\n",
        "\n",
        "[[527  22]\n",
        " [ 54 288]]"
      ],
      "metadata": {
        "id": "_90_xHDiUM7V"
      }
    },
    {
      "cell_type": "markdown",
      "source": [
        "I have a really big gap between Custom and sklearn bagging classifiers. I don't understand what I am missing in my custom implementation"
      ],
      "metadata": {
        "id": "xar_E9P6TVT_"
      }
    }
  ]
}