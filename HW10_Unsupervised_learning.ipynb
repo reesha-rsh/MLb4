{
  "nbformat": 4,
  "nbformat_minor": 0,
  "metadata": {
    "colab": {
      "provenance": [],
      "authorship_tag": "ABX9TyP9DzqU0oT/kzWzeulHg+jA",
      "include_colab_link": true
    },
    "kernelspec": {
      "name": "python3",
      "display_name": "Python 3"
    },
    "language_info": {
      "name": "python"
    }
  },
  "cells": [
    {
      "cell_type": "markdown",
      "metadata": {
        "id": "view-in-github",
        "colab_type": "text"
      },
      "source": [
        "<a href=\"https://colab.research.google.com/github/reesha-rsh/MLb4/blob/main/HW10_Unsupervised_learning.ipynb\" target=\"_parent\"><img src=\"https://colab.research.google.com/assets/colab-badge.svg\" alt=\"Open In Colab\"/></a>"
      ]
    },
    {
      "cell_type": "code",
      "execution_count": 8,
      "metadata": {
        "colab": {
          "base_uri": "https://localhost:8080/"
        },
        "id": "TC5fE7oIJyiw",
        "outputId": "1c8e6c93-4a01-4c00-b2ee-8b6ef77ac2cc"
      },
      "outputs": [
        {
          "output_type": "stream",
          "name": "stdout",
          "text": [
            "Drive already mounted at /content/drive; to attempt to forcibly remount, call drive.mount(\"/content/drive\", force_remount=True).\n"
          ]
        }
      ],
      "source": [
        "from google.colab import drive\n",
        "drive.mount('/content/drive')\n"
      ]
    },
    {
      "cell_type": "code",
      "source": [
        "import pandas as pd\n",
        "import numpy as np\n",
        "from sklearn.model_selection import StratifiedKFold"
      ],
      "metadata": {
        "id": "bxBWmM69LnNc"
      },
      "execution_count": 9,
      "outputs": []
    },
    {
      "cell_type": "code",
      "source": [
        "from sklearn import datasets\n",
        "\n",
        "digits = datasets.load_digits()"
      ],
      "metadata": {
        "id": "L1MaESfxLxJL"
      },
      "execution_count": 10,
      "outputs": []
    },
    {
      "cell_type": "markdown",
      "source": [
        "# 1. Do clustering on the digits dataset from sklearn using at least three different approaches (k-means, hierarchical, birch)\n"
      ],
      "metadata": {
        "id": "ygFRwZ7YMX5C"
      }
    },
    {
      "cell_type": "markdown",
      "source": [
        "## K-means"
      ],
      "metadata": {
        "id": "wLOUzYfyL6A5"
      }
    },
    {
      "cell_type": "code",
      "source": [
        "from sklearn.cluster import KMeans\n",
        "from scipy.spatial.distance import cdist"
      ],
      "metadata": {
        "id": "1_s8BGAYL1eM"
      },
      "execution_count": 11,
      "outputs": []
    },
    {
      "cell_type": "code",
      "source": [
        "model_kmeans = KMeans(n_clusters=10)\n",
        "model_kmeans.fit(digits.data)\n",
        "data_clusters_kmeans = model_kmeans.predict(digits.data)"
      ],
      "metadata": {
        "colab": {
          "base_uri": "https://localhost:8080/"
        },
        "id": "hxTUq8IbMA3E",
        "outputId": "2dd7681e-47c4-48ee-c5f9-792a3e229d22"
      },
      "execution_count": 12,
      "outputs": [
        {
          "output_type": "stream",
          "name": "stderr",
          "text": [
            "/usr/local/lib/python3.10/dist-packages/sklearn/cluster/_kmeans.py:870: FutureWarning: The default value of `n_init` will change from 10 to 'auto' in 1.4. Set the value of `n_init` explicitly to suppress the warning\n",
            "  warnings.warn(\n"
          ]
        }
      ]
    },
    {
      "cell_type": "markdown",
      "source": [
        "## Hierarchical clustering"
      ],
      "metadata": {
        "id": "Q3UgnFgVM9lG"
      }
    },
    {
      "cell_type": "code",
      "source": [
        "from sklearn.cluster import AgglomerativeClustering\n"
      ],
      "metadata": {
        "id": "f9Tp_3CdM_QA"
      },
      "execution_count": 13,
      "outputs": []
    },
    {
      "cell_type": "code",
      "source": [
        "model_agglom = AgglomerativeClustering(n_clusters=10)\n",
        "data_clusters_agglom = model_agglom.fit_predict(digits.data)"
      ],
      "metadata": {
        "id": "7U9OR-x5NCxG"
      },
      "execution_count": 14,
      "outputs": []
    },
    {
      "cell_type": "markdown",
      "source": [
        "## Birch"
      ],
      "metadata": {
        "id": "50RewsKJPluS"
      }
    },
    {
      "cell_type": "code",
      "source": [
        "from sklearn.cluster import Birch"
      ],
      "metadata": {
        "id": "s3fR04tqPnyt"
      },
      "execution_count": 15,
      "outputs": []
    },
    {
      "cell_type": "code",
      "source": [
        "birch = Birch(n_clusters=10)\n",
        "data_clusters_birch = birch.fit_predict(digits.data)"
      ],
      "metadata": {
        "id": "4PKAgePZPkRj"
      },
      "execution_count": 16,
      "outputs": []
    },
    {
      "cell_type": "markdown",
      "source": [
        "# 2. Evaluate the quality of clustering using three metrics from the lecture"
      ],
      "metadata": {
        "id": "VCuTOBPaP2E0"
      }
    },
    {
      "cell_type": "code",
      "source": [
        "X_data = digits.data\n",
        "y = digits.target"
      ],
      "metadata": {
        "id": "TiGGjEK_Q9jB"
      },
      "execution_count": 17,
      "outputs": []
    },
    {
      "cell_type": "code",
      "source": [
        "from sklearn.metrics import adjusted_rand_score, adjusted_mutual_info_score, silhouette_score\n",
        "\n",
        "# Calculate ARI, AMI, and Silhouette Score for K-Means clustering\n",
        "kmeans_ari = adjusted_rand_score(y, data_clusters_kmeans)\n",
        "kmeans_ami = adjusted_mutual_info_score(y, data_clusters_kmeans)\n",
        "kmeans_silhouette = silhouette_score(X_data, data_clusters_kmeans)\n",
        "\n",
        "# Calculate ARI, AMI, and Silhouette Score for Hierarchical clustering\n",
        "hierarchical_ari = adjusted_rand_score(y, data_clusters_agglom)\n",
        "hierarchical_ami = adjusted_mutual_info_score(y, data_clusters_agglom)\n",
        "hierarchical_silhouette = silhouette_score(X_data, data_clusters_agglom)\n",
        "\n",
        "# Calculate ARI, AMI, and Silhouette Score for BIRCH clustering\n",
        "birch_ari = adjusted_rand_score(y, data_clusters_birch)\n",
        "birch_ami = adjusted_mutual_info_score(y, data_clusters_birch)\n",
        "birch_silhouette = silhouette_score(X_data, data_clusters_birch)\n",
        "\n",
        "# Print the evaluation metrics\n",
        "print(\"K-Means Clustering Metrics:\")\n",
        "print(f\"Adjusted Rand Index: {kmeans_ari:.4f}\")\n",
        "print(f\"Adjusted Mutual Information: {kmeans_ami:.4f}\")\n",
        "print(f\"Silhouette Score: {kmeans_silhouette:.4f}\")\n",
        "print(\"\\n\")\n",
        "\n",
        "print(\"Hierarchical Clustering Metrics:\")\n",
        "print(f\"Adjusted Rand Index: {hierarchical_ari:.4f}\")\n",
        "print(f\"Adjusted Mutual Information: {hierarchical_ami:.4f}\")\n",
        "print(f\"Silhouette Score: {hierarchical_silhouette:.4f}\")\n",
        "print(\"\\n\")\n",
        "\n",
        "print(\"BIRCH Clustering Metrics:\")\n",
        "print(f\"Adjusted Rand Index: {birch_ari:.4f}\")\n",
        "print(f\"Adjusted Mutual Information: {birch_ami:.4f}\")\n",
        "print(f\"Silhouette Score: {birch_silhouette:.4f}\")\n"
      ],
      "metadata": {
        "colab": {
          "base_uri": "https://localhost:8080/"
        },
        "id": "Qk8DYP0UQ7qp",
        "outputId": "3a299130-d898-439b-dc2d-e1f56a630b0a"
      },
      "execution_count": 18,
      "outputs": [
        {
          "output_type": "stream",
          "name": "stdout",
          "text": [
            "K-Means Clustering Metrics:\n",
            "Adjusted Rand Index: 0.6649\n",
            "Adjusted Mutual Information: 0.7414\n",
            "Silhouette Score: 0.1825\n",
            "\n",
            "\n",
            "Hierarchical Clustering Metrics:\n",
            "Adjusted Rand Index: 0.7940\n",
            "Adjusted Mutual Information: 0.8668\n",
            "Silhouette Score: 0.1785\n",
            "\n",
            "\n",
            "BIRCH Clustering Metrics:\n",
            "Adjusted Rand Index: 0.7940\n",
            "Adjusted Mutual Information: 0.8668\n",
            "Silhouette Score: 0.1785\n"
          ]
        }
      ]
    },
    {
      "cell_type": "markdown",
      "source": [
        "# 3. Apply dimensionality reduction, then do clustering and calculate metrics."
      ],
      "metadata": {
        "id": "o6OGD3yMV1HS"
      }
    },
    {
      "cell_type": "code",
      "source": [
        "!pip install umap-learn\n"
      ],
      "metadata": {
        "colab": {
          "base_uri": "https://localhost:8080/"
        },
        "id": "0WnOz30zWLZI",
        "outputId": "5488c2c1-a9b9-440a-869d-8954772970a7"
      },
      "execution_count": 5,
      "outputs": [
        {
          "output_type": "stream",
          "name": "stdout",
          "text": [
            "Collecting umap-learn\n",
            "  Downloading umap-learn-0.5.3.tar.gz (88 kB)\n",
            "\u001b[2K     \u001b[90m━━━━━━━━━━━━━━━━━━━━━━━━━━━━━━━━━━━━━━━━\u001b[0m \u001b[32m88.2/88.2 kB\u001b[0m \u001b[31m3.5 MB/s\u001b[0m eta \u001b[36m0:00:00\u001b[0m\n",
            "\u001b[?25h  Preparing metadata (setup.py) ... \u001b[?25l\u001b[?25hdone\n",
            "Requirement already satisfied: numpy>=1.17 in /usr/local/lib/python3.10/dist-packages (from umap-learn) (1.23.5)\n",
            "Requirement already satisfied: scikit-learn>=0.22 in /usr/local/lib/python3.10/dist-packages (from umap-learn) (1.2.2)\n",
            "Requirement already satisfied: scipy>=1.0 in /usr/local/lib/python3.10/dist-packages (from umap-learn) (1.10.1)\n",
            "Requirement already satisfied: numba>=0.49 in /usr/local/lib/python3.10/dist-packages (from umap-learn) (0.56.4)\n",
            "Collecting pynndescent>=0.5 (from umap-learn)\n",
            "  Downloading pynndescent-0.5.10.tar.gz (1.1 MB)\n",
            "\u001b[2K     \u001b[90m━━━━━━━━━━━━━━━━━━━━━━━━━━━━━━━━━━━━━━━━\u001b[0m \u001b[32m1.1/1.1 MB\u001b[0m \u001b[31m59.8 MB/s\u001b[0m eta \u001b[36m0:00:00\u001b[0m\n",
            "\u001b[?25h  Preparing metadata (setup.py) ... \u001b[?25l\u001b[?25hdone\n",
            "Requirement already satisfied: tqdm in /usr/local/lib/python3.10/dist-packages (from umap-learn) (4.66.1)\n",
            "Requirement already satisfied: llvmlite<0.40,>=0.39.0dev0 in /usr/local/lib/python3.10/dist-packages (from numba>=0.49->umap-learn) (0.39.1)\n",
            "Requirement already satisfied: setuptools in /usr/local/lib/python3.10/dist-packages (from numba>=0.49->umap-learn) (67.7.2)\n",
            "Requirement already satisfied: joblib>=0.11 in /usr/local/lib/python3.10/dist-packages (from pynndescent>=0.5->umap-learn) (1.3.2)\n",
            "Requirement already satisfied: threadpoolctl>=2.0.0 in /usr/local/lib/python3.10/dist-packages (from scikit-learn>=0.22->umap-learn) (3.2.0)\n",
            "Building wheels for collected packages: umap-learn, pynndescent\n",
            "  Building wheel for umap-learn (setup.py) ... \u001b[?25l\u001b[?25hdone\n",
            "  Created wheel for umap-learn: filename=umap_learn-0.5.3-py3-none-any.whl size=82807 sha256=59a6ecf44c6a7f294bd729d19cfa4a69f1c1a7ee11acd9a9b993f262a7289357\n",
            "  Stored in directory: /root/.cache/pip/wheels/a0/e8/c6/a37ea663620bd5200ea1ba0907ab3c217042c1d035ef606acc\n",
            "  Building wheel for pynndescent (setup.py) ... \u001b[?25l\u001b[?25hdone\n",
            "  Created wheel for pynndescent: filename=pynndescent-0.5.10-py3-none-any.whl size=55615 sha256=1453dde0ecc47fa4e75a91a2d1c234bfddea27b524187c77a152ead7e39025a0\n",
            "  Stored in directory: /root/.cache/pip/wheels/4a/38/5d/f60a40a66a9512b7e5e83517ebc2d1b42d857be97d135f1096\n",
            "Successfully built umap-learn pynndescent\n",
            "Installing collected packages: pynndescent, umap-learn\n",
            "Successfully installed pynndescent-0.5.10 umap-learn-0.5.3\n"
          ]
        }
      ]
    },
    {
      "cell_type": "code",
      "source": [
        "import matplotlib.pyplot as plt\n",
        "from sklearn.datasets import load_digits\n",
        "from sklearn.decomposition import PCA\n",
        "from sklearn.manifold import TSNE\n",
        "import umap\n",
        "from sklearn.cluster import KMeans, AgglomerativeClustering, Birch\n",
        "from sklearn.metrics import adjusted_rand_score, adjusted_mutual_info_score, silhouette_score\n",
        "\n",
        "# Load the digits dataset\n",
        "digits = load_digits()\n",
        "X = digits.data\n",
        "y = digits.target\n",
        "\n",
        "# Dimensionality reduction using PCA\n",
        "pca = PCA(n_components=2)\n",
        "X_pca = pca.fit_transform(X)\n",
        "\n",
        "# Dimensionality reduction using t-SNE\n",
        "tsne = TSNE(n_components=2, random_state=42)\n",
        "X_tsne = tsne.fit_transform(X)\n",
        "\n",
        "# Dimensionality reduction using UMAP\n",
        "umap_model = umap.UMAP(n_components=2, random_state=42,n_neighbors=5, min_dist = 0.1)\n",
        "X_umap = umap_model.fit_transform(X)\n",
        "\n",
        "# Define clustering algorithms\n",
        "clustering_algorithms = {\n",
        "    \"K-Means\": KMeans(n_clusters=10, random_state=42),\n",
        "    \"Agglomerative Clustering\": AgglomerativeClustering(n_clusters=10),\n",
        "    \"BIRCH\": Birch(n_clusters=10),\n",
        "}\n",
        "\n",
        "# Perform clustering and calculate metrics for each combination\n",
        "for method_name, clustering_algorithm in clustering_algorithms.items():\n",
        "    # Fit the clustering algorithm on PCA-reduced data\n",
        "    labels_pca = clustering_algorithm.fit_predict(X_pca)\n",
        "\n",
        "    # Fit the clustering algorithm on t-SNE-reduced data\n",
        "    labels_tsne = clustering_algorithm.fit_predict(X_tsne)\n",
        "\n",
        "    # Fit the clustering algorithm on UMAP-reduced data\n",
        "    labels_umap = clustering_algorithm.fit_predict(X_umap)\n",
        "\n",
        "    # Calculate metrics for PCA-reduced data\n",
        "    ari_pca = adjusted_rand_score(y, labels_pca)\n",
        "    ami_pca = adjusted_mutual_info_score(y, labels_pca)\n",
        "    silhouette_pca = silhouette_score(X_pca, labels_pca)\n",
        "\n",
        "    # Calculate metrics for t-SNE-reduced data\n",
        "    ari_tsne = adjusted_rand_score(y, labels_tsne)\n",
        "    ami_tsne = adjusted_mutual_info_score(y, labels_tsne)\n",
        "    silhouette_tsne = silhouette_score(X_tsne, labels_tsne)\n",
        "\n",
        "    # Calculate metrics for UMAP-reduced data\n",
        "    ari_umap = adjusted_rand_score(y, labels_umap)\n",
        "    ami_umap = adjusted_mutual_info_score(y, labels_umap)\n",
        "    silhouette_umap = silhouette_score(X_umap, labels_umap)\n",
        "\n",
        "    # Print the evaluation metrics for each combination\n",
        "    print(f\"Metrics for {method_name} Clustering (PCA):\")\n",
        "    print(f\"Adjusted Rand Index: {ari_pca:.4f}\")\n",
        "    print(f\"Adjusted Mutual Information: {ami_pca:.4f}\")\n",
        "    print(f\"Silhouette Score: {silhouette_pca:.4f}\")\n",
        "    print(\"\\n\")\n",
        "\n",
        "    print(f\"Metrics for {method_name} Clustering (t-SNE):\")\n",
        "    print(f\"Adjusted Rand Index: {ari_tsne:.4f}\")\n",
        "    print(f\"Adjusted Mutual Information: {ami_tsne:.4f}\")\n",
        "    print(f\"Silhouette Score: {silhouette_tsne:.4f}\")\n",
        "    print(\"\\n\")\n",
        "\n",
        "    print(f\"Metrics for {method_name} Clustering (UMAP):\")\n",
        "    print(f\"Adjusted Rand Index: {ari_umap:.4f}\")\n",
        "    print(f\"Adjusted Mutual Information: {ami_umap:.4f}\")\n",
        "    print(f\"Silhouette Score: {silhouette_umap:.4f}\")\n",
        "    print(\"\\n\")\n",
        "\n",
        "plt.figure(figsize=(12,10))\n",
        "plt.scatter(X_umap[:, 0], X_umap[:, 1], c=digits.target,\n",
        "            edgecolor='none', alpha=0.7, s=40,\n",
        "            cmap=plt.cm.get_cmap('nipy_spectral', 10))\n",
        "plt.colorbar()\n",
        "plt.title('MNIST. UMAP projection');"
      ],
      "metadata": {
        "colab": {
          "base_uri": "https://localhost:8080/",
          "height": 1000
        },
        "id": "MoUomUlD4YuR",
        "outputId": "bb4b4858-27d3-462a-810f-c824a2035a43"
      },
      "execution_count": 32,
      "outputs": [
        {
          "output_type": "stream",
          "name": "stderr",
          "text": [
            "/usr/local/lib/python3.10/dist-packages/sklearn/cluster/_kmeans.py:870: FutureWarning: The default value of `n_init` will change from 10 to 'auto' in 1.4. Set the value of `n_init` explicitly to suppress the warning\n",
            "  warnings.warn(\n",
            "/usr/local/lib/python3.10/dist-packages/sklearn/cluster/_kmeans.py:870: FutureWarning: The default value of `n_init` will change from 10 to 'auto' in 1.4. Set the value of `n_init` explicitly to suppress the warning\n",
            "  warnings.warn(\n",
            "/usr/local/lib/python3.10/dist-packages/sklearn/cluster/_kmeans.py:870: FutureWarning: The default value of `n_init` will change from 10 to 'auto' in 1.4. Set the value of `n_init` explicitly to suppress the warning\n",
            "  warnings.warn(\n"
          ]
        },
        {
          "output_type": "stream",
          "name": "stdout",
          "text": [
            "Metrics for K-Means Clustering (PCA):\n",
            "Adjusted Rand Index: 0.3892\n",
            "Adjusted Mutual Information: 0.5216\n",
            "Silhouette Score: 0.3926\n",
            "\n",
            "\n",
            "Metrics for K-Means Clustering (t-SNE):\n",
            "Adjusted Rand Index: 0.8891\n",
            "Adjusted Mutual Information: 0.9107\n",
            "Silhouette Score: 0.6420\n",
            "\n",
            "\n",
            "Metrics for K-Means Clustering (UMAP):\n",
            "Adjusted Rand Index: 0.9133\n",
            "Adjusted Mutual Information: 0.9321\n",
            "Silhouette Score: 0.7248\n",
            "\n",
            "\n",
            "Metrics for Agglomerative Clustering Clustering (PCA):\n",
            "Adjusted Rand Index: 0.3428\n",
            "Adjusted Mutual Information: 0.4972\n",
            "Silhouette Score: 0.3525\n",
            "\n",
            "\n",
            "Metrics for Agglomerative Clustering Clustering (t-SNE):\n",
            "Adjusted Rand Index: 0.8873\n",
            "Adjusted Mutual Information: 0.9102\n",
            "Silhouette Score: 0.6389\n",
            "\n",
            "\n",
            "Metrics for Agglomerative Clustering Clustering (UMAP):\n",
            "Adjusted Rand Index: 0.9144\n",
            "Adjusted Mutual Information: 0.9354\n",
            "Silhouette Score: 0.7215\n",
            "\n",
            "\n",
            "Metrics for BIRCH Clustering (PCA):\n",
            "Adjusted Rand Index: 0.3700\n",
            "Adjusted Mutual Information: 0.4934\n",
            "Silhouette Score: 0.3168\n",
            "\n",
            "\n",
            "Metrics for BIRCH Clustering (t-SNE):\n",
            "Adjusted Rand Index: 0.8859\n",
            "Adjusted Mutual Information: 0.9108\n",
            "Silhouette Score: 0.6407\n",
            "\n",
            "\n",
            "Metrics for BIRCH Clustering (UMAP):\n",
            "Adjusted Rand Index: 0.9133\n",
            "Adjusted Mutual Information: 0.9321\n",
            "Silhouette Score: 0.7248\n",
            "\n",
            "\n"
          ]
        },
        {
          "output_type": "stream",
          "name": "stderr",
          "text": [
            "<ipython-input-32-1b8b1627a4ac>:81: MatplotlibDeprecationWarning: The get_cmap function was deprecated in Matplotlib 3.7 and will be removed two minor releases later. Use ``matplotlib.colormaps[name]`` or ``matplotlib.colormaps.get_cmap(obj)`` instead.\n",
            "  cmap=plt.cm.get_cmap('nipy_spectral', 10))\n"
          ]
        },
        {
          "output_type": "display_data",
          "data": {
            "text/plain": [
              "<Figure size 1200x1000 with 2 Axes>"
            ],
            "image/png": "[encoded data removed]"
          },
          "metadata": {}
        }
      ]
    },
    {
      "cell_type": "markdown",
      "source": [
        "# 4. Make a comparison table of different clustering approaches with and without dimensionality reduction."
      ],
      "metadata": {
        "id": "N6fnGAij1mlu"
      }
    },
    {
      "cell_type": "code",
      "source": [
        "from sklearn.datasets import load_digits\n",
        "from sklearn.decomposition import PCA\n",
        "from sklearn.manifold import TSNE\n",
        "import umap\n",
        "from sklearn.cluster import KMeans, AgglomerativeClustering, Birch\n",
        "from sklearn.metrics import adjusted_rand_score, adjusted_mutual_info_score, silhouette_score\n",
        "from prettytable import PrettyTable\n",
        "\n",
        "# Load the digits dataset\n",
        "digits = load_digits()\n",
        "X = digits.data\n",
        "y = digits.target\n",
        "\n",
        "# Create a PrettyTable\n",
        "table = PrettyTable()\n",
        "table.field_names = [\"Dimensionality Reduction\", \"Clustering Algorithm\", \"ARI\", \"AMI\", \"Silhouette Score\"]\n",
        "\n",
        "# Define dimensionality reduction techniques\n",
        "dimensionality_reduction_methods = [\n",
        "    (\"No Reduction\", None),\n",
        "    (\"PCA\", PCA(n_components=2)),\n",
        "    (\"t-SNE\", TSNE(n_components=2, random_state=42)),\n",
        "    (\"UMAP\", umap.UMAP(n_components=2, random_state=42)),\n",
        "]\n",
        "\n",
        "# Define clustering algorithms\n",
        "clustering_algorithms = [\n",
        "    (\"K-Means\", KMeans(n_clusters=10, random_state=42)),\n",
        "    (\"Agglomerative Clustering\", AgglomerativeClustering(n_clusters=10)),\n",
        "    (\"Birch\", Birch(n_clusters=10)),\n",
        "]\n",
        "\n",
        "# Iterate through dimensionality reduction methods and clustering algorithms\n",
        "for reduction_method_name, reduction_method in dimensionality_reduction_methods:\n",
        "    for clustering_name, clustering_algorithm in clustering_algorithms:\n",
        "        # Apply dimensionality reduction\n",
        "        if reduction_method is not None:\n",
        "            X_reduced = reduction_method.fit_transform(X)\n",
        "        else:\n",
        "            X_reduced = X\n",
        "\n",
        "        # Cluster the data\n",
        "        labels = clustering_algorithm.fit_predict(X_reduced)\n",
        "\n",
        "        # Calculate metrics\n",
        "        ari = adjusted_rand_score(y, labels)\n",
        "        ami = adjusted_mutual_info_score(y, labels)\n",
        "        silhouette = silhouette_score(X_reduced, labels)\n",
        "\n",
        "        # Add row to the table\n",
        "        table.add_row([reduction_method_name, clustering_name, f\"{ari:.4f}\", f\"{ami:.4f}\", f\"{silhouette:.4f}\"])\n",
        "\n",
        "# Print the table\n",
        "print(table)\n"
      ],
      "metadata": {
        "colab": {
          "base_uri": "https://localhost:8080/"
        },
        "id": "FDwwClNM1XAU",
        "outputId": "da218640-97dc-4e86-95ba-3c171b748618"
      },
      "execution_count": 6,
      "outputs": [
        {
          "output_type": "stream",
          "name": "stderr",
          "text": [
            "/usr/local/lib/python3.10/dist-packages/sklearn/cluster/_kmeans.py:870: FutureWarning: The default value of `n_init` will change from 10 to 'auto' in 1.4. Set the value of `n_init` explicitly to suppress the warning\n",
            "  warnings.warn(\n",
            "/usr/local/lib/python3.10/dist-packages/sklearn/cluster/_kmeans.py:870: FutureWarning: The default value of `n_init` will change from 10 to 'auto' in 1.4. Set the value of `n_init` explicitly to suppress the warning\n",
            "  warnings.warn(\n",
            "/usr/local/lib/python3.10/dist-packages/sklearn/cluster/_kmeans.py:870: FutureWarning: The default value of `n_init` will change from 10 to 'auto' in 1.4. Set the value of `n_init` explicitly to suppress the warning\n",
            "  warnings.warn(\n",
            "/usr/local/lib/python3.10/dist-packages/sklearn/cluster/_kmeans.py:870: FutureWarning: The default value of `n_init` will change from 10 to 'auto' in 1.4. Set the value of `n_init` explicitly to suppress the warning\n",
            "  warnings.warn(\n"
          ]
        },
        {
          "output_type": "stream",
          "name": "stdout",
          "text": [
            "+--------------------------+--------------------------+--------+--------+------------------+\n",
            "| Dimensionality Reduction |   Clustering Algorithm   |  ARI   |  AMI   | Silhouette Score |\n",
            "+--------------------------+--------------------------+--------+--------+------------------+\n",
            "|       No Reduction       |         K-Means          | 0.6650 | 0.7389 |      0.1824      |\n",
            "|       No Reduction       | Agglomerative Clustering | 0.7940 | 0.8668 |      0.1785      |\n",
            "|       No Reduction       |          Birch           | 0.7940 | 0.8668 |      0.1785      |\n",
            "|           PCA            |         K-Means          | 0.3892 | 0.5216 |      0.3926      |\n",
            "|           PCA            | Agglomerative Clustering | 0.3428 | 0.4972 |      0.3525      |\n",
            "|           PCA            |          Birch           | 0.3700 | 0.4934 |      0.3168      |\n",
            "|          t-SNE           |         K-Means          | 0.8891 | 0.9107 |      0.6420      |\n",
            "|          t-SNE           | Agglomerative Clustering | 0.8873 | 0.9102 |      0.6389      |\n",
            "|          t-SNE           |          Birch           | 0.8859 | 0.9108 |      0.6407      |\n",
            "|           UMAP           |         K-Means          | 0.8970 | 0.9176 |      0.7690      |\n",
            "|           UMAP           | Agglomerative Clustering | 0.8970 | 0.9176 |      0.7691      |\n",
            "|           UMAP           |          Birch           | 0.7728 | 0.8707 |      0.7312      |\n",
            "+--------------------------+--------------------------+--------+--------+------------------+\n"
          ]
        }
      ]
    },
    {
      "cell_type": "markdown",
      "source": [
        "\n",
        "# 5. Make a conclusion about how to perform validation and what metrics to use in a real-life task\n"
      ],
      "metadata": {
        "id": "bOsRfBvxLRas"
      }
    },
    {
      "cell_type": "markdown",
      "source": [
        "As discussed on Q & A session - Silhouette is not a reliable metric so it's better to try to transofrm our problem from Unsupervised to Supervised by providing some labels to some part of dataset."
      ],
      "metadata": {
        "id": "Yj-b9d1d7luW"
      }
    }
  ]
}