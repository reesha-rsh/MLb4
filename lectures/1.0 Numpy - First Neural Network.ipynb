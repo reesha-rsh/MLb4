{
  "cells": [
    {
      "cell_type": "markdown",
      "metadata": {
        "id": "view-in-github",
        "colab_type": "text"
      },
      "source": [
        "<a href=\"https://colab.research.google.com/github/reesha-rsh/MLb4/blob/main/lectures/1.0%20Numpy%20-%20First%20Neural%20Network.ipynb\" target=\"_parent\"><img src=\"https://colab.research.google.com/assets/colab-badge.svg\" alt=\"Open In Colab\"/></a>"
      ]
    },
    {
      "cell_type": "markdown",
      "metadata": {
        "id": "avz73mRBtOtN"
      },
      "source": [
        "# Numpy - First Neural Network"
      ]
    },
    {
      "cell_type": "code",
      "execution_count": null,
      "metadata": {
        "id": "ljiOP0vUtOtQ"
      },
      "outputs": [],
      "source": [
        "# Package imports\n",
        "import numpy as np"
      ]
    },
    {
      "cell_type": "code",
      "execution_count": null,
      "metadata": {
        "id": "fgnFeW8itOtS"
      },
      "outputs": [],
      "source": [
        "import matplotlib\n",
        "import matplotlib.pyplot as plt"
      ]
    },
    {
      "cell_type": "code",
      "execution_count": null,
      "metadata": {
        "id": "dvtXCoIjtOtS"
      },
      "outputs": [],
      "source": [
        "# Display plots inline and change default figure size\n",
        "%matplotlib inline\n",
        "matplotlib.rcParams['figure.figsize'] = (10.0, 8.0)"
      ]
    },
    {
      "cell_type": "markdown",
      "metadata": {
        "id": "kjXTQuAqtOtT"
      },
      "source": [
        "## Numpy basics"
      ]
    },
    {
      "cell_type": "markdown",
      "metadata": {
        "id": "skZHoEsxtOtT"
      },
      "source": [
        "1-dimension"
      ]
    },
    {
      "cell_type": "code",
      "execution_count": null,
      "metadata": {
        "id": "fyO4Zsj8tOtT"
      },
      "outputs": [],
      "source": [
        "a = np.array([1,2,3])\n",
        "print(type(a), a)"
      ]
    },
    {
      "cell_type": "code",
      "execution_count": null,
      "metadata": {
        "id": "rLdZpPk8tOtU"
      },
      "outputs": [],
      "source": [
        "b = np.arange(1, 5, .5)\n",
        "print(b)"
      ]
    },
    {
      "cell_type": "code",
      "execution_count": null,
      "metadata": {
        "id": "qYvAwsO-tOtU"
      },
      "outputs": [],
      "source": [
        "b.shape"
      ]
    },
    {
      "cell_type": "markdown",
      "metadata": {
        "id": "W6e1n1kPtOtV"
      },
      "source": [
        "2-dimensions"
      ]
    },
    {
      "cell_type": "code",
      "execution_count": null,
      "metadata": {
        "id": "21BDEJqetOtV"
      },
      "outputs": [],
      "source": [
        "b = np.array([[1,2,3],[4,5,6]])"
      ]
    },
    {
      "cell_type": "code",
      "execution_count": null,
      "metadata": {
        "id": "93rXqHWptOtV"
      },
      "outputs": [],
      "source": [
        "b"
      ]
    },
    {
      "cell_type": "code",
      "execution_count": null,
      "metadata": {
        "id": "YFBDSWRFtOtW"
      },
      "outputs": [],
      "source": [
        "b.shape"
      ]
    },
    {
      "cell_type": "code",
      "execution_count": null,
      "metadata": {
        "id": "GWLokbBctOtW"
      },
      "outputs": [],
      "source": [
        "b[0][1]"
      ]
    },
    {
      "cell_type": "code",
      "execution_count": null,
      "metadata": {
        "id": "TlLMDe1btOtW"
      },
      "outputs": [],
      "source": [
        "b.reshape((3,2))"
      ]
    },
    {
      "cell_type": "code",
      "execution_count": null,
      "metadata": {
        "id": "9c_ePvj0tOtW"
      },
      "outputs": [],
      "source": [
        "b[:2, 1:3]"
      ]
    },
    {
      "cell_type": "code",
      "execution_count": null,
      "metadata": {
        "id": "0bNY3DzutOtW"
      },
      "outputs": [],
      "source": [
        "b>5"
      ]
    },
    {
      "cell_type": "code",
      "execution_count": null,
      "metadata": {
        "id": "vggxoV2JtOtW"
      },
      "outputs": [],
      "source": [
        "b[b>5]"
      ]
    },
    {
      "cell_type": "code",
      "execution_count": null,
      "metadata": {
        "id": "n23w0w4ptOtX"
      },
      "outputs": [],
      "source": [
        "a, b"
      ]
    },
    {
      "cell_type": "code",
      "execution_count": null,
      "metadata": {
        "id": "9W5FKDATtOtX"
      },
      "outputs": [],
      "source": [
        "a.shape, b.shape"
      ]
    },
    {
      "cell_type": "code",
      "execution_count": null,
      "metadata": {
        "id": "iPNcs5KLtOtX"
      },
      "outputs": [],
      "source": [
        "a[np.newaxis, :]"
      ]
    },
    {
      "cell_type": "code",
      "execution_count": null,
      "metadata": {
        "id": "t7pwLqcdtOtX"
      },
      "outputs": [],
      "source": [
        "np.expand_dims(a, axis=0)"
      ]
    },
    {
      "cell_type": "code",
      "execution_count": null,
      "metadata": {
        "id": "9jeMV1tUtOtX"
      },
      "outputs": [],
      "source": [
        "np.concatenate((a[np.newaxis, :],b), axis=0)"
      ]
    },
    {
      "cell_type": "code",
      "execution_count": null,
      "metadata": {
        "id": "2EROaeHLtOtX"
      },
      "outputs": [],
      "source": [
        "np.vstack((a,b))"
      ]
    },
    {
      "cell_type": "code",
      "execution_count": null,
      "metadata": {
        "scrolled": true,
        "id": "8By5oD5KtOtY"
      },
      "outputs": [],
      "source": [
        "np.hstack((a[:, np.newaxis],b.T))"
      ]
    },
    {
      "cell_type": "markdown",
      "metadata": {
        "id": "isWOLu9ftOtY"
      },
      "source": [
        "## Generating a dataset"
      ]
    },
    {
      "cell_type": "code",
      "execution_count": null,
      "metadata": {
        "id": "MpjKFkxjtOtY"
      },
      "outputs": [],
      "source": [
        "import sklearn.datasets"
      ]
    },
    {
      "cell_type": "code",
      "execution_count": null,
      "metadata": {
        "id": "2zNoV7lKtOtY",
        "outputId": "19a7fc4a-4c46-4527-8973-e48b3b5f5418"
      },
      "outputs": [
        {
          "data": {
            "text/plain": [
              "<matplotlib.collections.PathCollection at 0x7f804ece4fd0>"
            ]
          },
          "execution_count": 23,
          "metadata": {},
          "output_type": "execute_result"
        },
        {
          "data": {
            "image/png": "[encoded data removed]",
            "text/plain": [
              "<Figure size 720x576 with 1 Axes>"
            ]
          },
          "metadata": {
            "needs_background": "light"
          },
          "output_type": "display_data"
        }
      ],
      "source": [
        "# Generate a dataset and plot it\n",
        "np.random.seed(0)\n",
        "# X, y = sklearn.datasets.make_moons(200, noise=0.20)\n",
        "X, y = sklearn.datasets.make_blobs(200, centers=2, cluster_std=0.9)\n",
        "plt.scatter(X[:,0], X[:,1], s=40, c=y, cmap=plt.cm.Spectral)"
      ]
    },
    {
      "cell_type": "code",
      "execution_count": null,
      "metadata": {
        "id": "4AZMid6WtOtZ",
        "outputId": "18f3bc32-731a-4042-d293-099a1acbd52c"
      },
      "outputs": [
        {
          "data": {
            "text/plain": [
              "((200, 2), (200,))"
            ]
          },
          "execution_count": 24,
          "metadata": {},
          "output_type": "execute_result"
        }
      ],
      "source": [
        "X.shape, y.shape"
      ]
    },
    {
      "cell_type": "markdown",
      "metadata": {
        "id": "_Yz2JwNetOtZ"
      },
      "source": [
        "## Sigmoid function"
      ]
    },
    {
      "cell_type": "markdown",
      "metadata": {
        "id": "bJyhK1Z2tOta"
      },
      "source": [
        "$\\displaystyle \\sigma(x)=\\frac{1}{1+e^{-x}}$"
      ]
    },
    {
      "cell_type": "code",
      "execution_count": null,
      "metadata": {
        "id": "vBnQzl01tOta"
      },
      "outputs": [],
      "source": [
        "def sigmoid(x):\n",
        "    return 1 / (1 + np.exp(-x))"
      ]
    },
    {
      "cell_type": "code",
      "execution_count": null,
      "metadata": {
        "id": "3A86HvF5tOta"
      },
      "outputs": [],
      "source": [
        "sigmoid(1)"
      ]
    },
    {
      "cell_type": "code",
      "execution_count": null,
      "metadata": {
        "id": "dV1hFvO3tOta"
      },
      "outputs": [],
      "source": [
        "np.ones((1, 2))"
      ]
    },
    {
      "cell_type": "code",
      "execution_count": null,
      "metadata": {
        "id": "zwbFVsQNtOta"
      },
      "outputs": [],
      "source": [
        "sigmoid(np.ones((1, 2)))"
      ]
    },
    {
      "cell_type": "code",
      "execution_count": null,
      "metadata": {
        "id": "QjZ-s369tOta"
      },
      "outputs": [],
      "source": [
        "x = np.linspace(-5, 5)\n",
        "x.shape"
      ]
    },
    {
      "cell_type": "code",
      "execution_count": null,
      "metadata": {
        "scrolled": true,
        "id": "rpRI5M-btOta"
      },
      "outputs": [],
      "source": [
        "plt.plot(x, sigmoid(x))"
      ]
    },
    {
      "cell_type": "markdown",
      "metadata": {
        "id": "NRWgaf20tOtb"
      },
      "source": [
        "$\\displaystyle \\sigma'(x)=\\frac{d}{dx}\\sigma(x)=\\sigma(x)(1-\\sigma(x))$\n",
        "\n",
        "*Exercise: try to proof it!*"
      ]
    },
    {
      "cell_type": "code",
      "execution_count": null,
      "metadata": {
        "id": "vDkp_KzotOtb"
      },
      "outputs": [],
      "source": [
        "def dsigmoid(x):\n",
        "    return x * (1 - x)"
      ]
    },
    {
      "cell_type": "markdown",
      "metadata": {
        "id": "GCHMgETltOtg"
      },
      "source": [
        "## Perceptron"
      ]
    },
    {
      "cell_type": "markdown",
      "metadata": {
        "id": "kIy9CR2etOtg"
      },
      "source": [
        "https://en.wikipedia.org/wiki/Perceptron\n",
        "\n",
        "![perceptron](https://miro.medium.com/max/1400/1*xcEOFhZLyyo3uxzAt6KndQ.png)\n",
        "\n",
        "\n",
        "\n",
        "**Model:**\n",
        "\n",
        "In the modern sense, the perceptron is an algorithm for learning a binary classifier called a threshold function: a function that maps its input $ \\mathbf {x}$  (a real-valued vector) to an output value $ f(\\mathbf {x} )$ (a single binary value):\n",
        "\n",
        "$ f(\\mathbf {x} )={\\begin{cases}1&{\\text{if }}\\ \\mathbf {w} \\cdot \\mathbf {x} +b>0,\\\\0&{\\text{otherwise}}\\end{cases}} $\n",
        "\n",
        "\n",
        "where $ \\mathbf {w} $  is a vector of real-valued weights, $ \\mathbf {w} \\cdot \\mathbf {x} $ is the dot product ${\\displaystyle \\sum _{i=1}^{m}w_{i}x_{i}} $, where m is the number of inputs to the perceptron, and b is the bias.\n",
        "\n",
        "\n",
        "\n",
        "**Learning algorithm:**\n",
        "\n",
        "1. Initialize the weights. Weights may be initialized to 0 or to a small random value\n",
        "2. For each example *j* in our training set *D*, perform the following steps over the input $ \\mathbf {x} _{j}$ and desired output $ d_{j}$\n",
        "\n",
        "    a. Calculate the actual output:\n",
        "\n",
        "$\\begin{aligned}y_{j}(t)&=f[\\mathbf {w} (t)\\cdot \\mathbf {x} _{j}]\\\\&=f[w_{0}(t)x_{j,0}+w_{1}(t)x_{j,1}+w_{2}(t)x_{j,2}+\\dotsb +w_{n}(t)x_{j,n}]\\end{aligned}$\n",
        "\n",
        "    b. Update the weights:\n",
        "${\\displaystyle w_{i}(t+1)=w_{i}(t)\\;{\\boldsymbol {+}}\\;r\\cdot (d_{j}-y_{j}(t))x_{j,i}}$, for all features ${\\displaystyle 0\\leq i\\leq n}$, $\\displaystyle r$ is the learning rate.\n",
        "\n"
      ]
    },
    {
      "cell_type": "code",
      "execution_count": null,
      "metadata": {
        "id": "rj-YAZ1itOtg"
      },
      "outputs": [],
      "source": [
        "def activation(x):\n",
        "    return np.where( x > 0 , 1, 0)"
      ]
    },
    {
      "cell_type": "code",
      "execution_count": null,
      "metadata": {
        "id": "qA1EgS_9tOth"
      },
      "outputs": [],
      "source": [
        "x = np.linspace(-5, 5)"
      ]
    },
    {
      "cell_type": "code",
      "execution_count": null,
      "metadata": {
        "id": "gkV0mdTftOth"
      },
      "outputs": [],
      "source": [
        "plt.plot(x, activation(x))"
      ]
    },
    {
      "cell_type": "code",
      "execution_count": null,
      "metadata": {
        "id": "M0QFm9mLtOth"
      },
      "outputs": [],
      "source": [
        "def perceptron(w, x):\n",
        "    return activation(np.dot(x, w))"
      ]
    },
    {
      "cell_type": "code",
      "execution_count": null,
      "metadata": {
        "id": "jKC2hp3otOth"
      },
      "outputs": [],
      "source": [
        "import time\n",
        "from IPython import display"
      ]
    },
    {
      "cell_type": "code",
      "execution_count": null,
      "metadata": {
        "id": "huO4Sx9ztOth"
      },
      "outputs": [],
      "source": [
        "def plot_decision_boundary(pred_func):\n",
        "    # Set min and max values and give it some padding\n",
        "    x_min, x_max = X[:, 0].min() - .5, X[:, 0].max() + .5\n",
        "    y_min, y_max = X[:, 1].min() - .5, X[:, 1].max() + .5\n",
        "    h = 0.01\n",
        "    # Generate a grid of points with distance h between them\n",
        "    xx, yy = np.meshgrid(np.arange(x_min, x_max, h), np.arange(y_min, y_max, h))\n",
        "    # Predict the function value for the whole gid\n",
        "    Z = pred_func(np.c_[xx.ravel(), yy.ravel()])\n",
        "    Z = Z.reshape(xx.shape)\n",
        "    # Plot the contour and training examples\n",
        "    plt.contourf(xx, yy, Z, cmap=plt.cm.Spectral)\n",
        "    plt.scatter(X[:, 0], X[:, 1], c=y, cmap=plt.cm.Spectral)\n",
        "    plt.show()"
      ]
    },
    {
      "cell_type": "markdown",
      "metadata": {
        "id": "kt-nu-7ctOti"
      },
      "source": [
        "### Train model"
      ]
    },
    {
      "cell_type": "code",
      "execution_count": null,
      "metadata": {
        "id": "DVH4OIKAtOti"
      },
      "outputs": [],
      "source": [
        "# initialize weights randomly with mean 0 - [-1; 1]\n",
        "w = 2*np.random.random((2,)) - 1"
      ]
    },
    {
      "cell_type": "code",
      "execution_count": null,
      "metadata": {
        "id": "zk9jJb82tOti"
      },
      "outputs": [],
      "source": [
        "plot_decision_boundary(lambda x: perceptron(w, x))"
      ]
    },
    {
      "cell_type": "code",
      "execution_count": null,
      "metadata": {
        "id": "XzIXcnGotOti"
      },
      "outputs": [],
      "source": [
        "y"
      ]
    },
    {
      "cell_type": "code",
      "execution_count": null,
      "metadata": {
        "id": "3bB1kTRjtOtj"
      },
      "outputs": [],
      "source": [
        "perceptron(w, X)"
      ]
    },
    {
      "cell_type": "code",
      "execution_count": null,
      "metadata": {
        "scrolled": true,
        "id": "zNpgu5WStOtj"
      },
      "outputs": [],
      "source": [
        "y - perceptron(w, X)"
      ]
    },
    {
      "cell_type": "code",
      "execution_count": null,
      "metadata": {
        "id": "in4G3RWdtOtj"
      },
      "outputs": [],
      "source": [
        "# initialize weights randomly with mean 0 - [-1; 1]\n",
        "w = 2*np.random.random((2,)) - 1"
      ]
    },
    {
      "cell_type": "code",
      "execution_count": null,
      "metadata": {
        "id": "2UQoCG7stOtk"
      },
      "outputs": [],
      "source": [
        "LR = 1\n",
        "for j in range(5):\n",
        "    # get preds\n",
        "    pred = perceptron(w, X)\n",
        "\n",
        "    # how much did we miss?\n",
        "    diff = y - pred\n",
        "    error = np.mean(np.abs(diff))\n",
        "\n",
        "\n",
        "    # draw result\n",
        "    display.clear_output(wait=True)\n",
        "    plot_decision_boundary(lambda x: perceptron(w, x))\n",
        "    display.display(\"Error:\" + str(error))\n",
        "    time.sleep(0.5)\n",
        "\n",
        "    # update weights\n",
        "    w = w + LR * np.dot(X.T, diff)"
      ]
    },
    {
      "cell_type": "markdown",
      "metadata": {
        "id": "0iSyP6c9tOtk"
      },
      "source": [
        "---\n",
        "\n",
        "## Homework\n",
        "\n",
        "\n",
        "Can you make a perfect classifier? Let's consider the next dataset:"
      ]
    },
    {
      "cell_type": "code",
      "execution_count": null,
      "metadata": {
        "id": "nMoJIOtmtOtk",
        "outputId": "fe48d6ad-9f74-428e-f3ba-8de7dae68de6"
      },
      "outputs": [
        {
          "data": {
            "text/plain": [
              "<matplotlib.collections.PathCollection at 0x7f804f3e8310>"
            ]
          },
          "execution_count": 50,
          "metadata": {},
          "output_type": "execute_result"
        },
        {
          "data": {
            "image/png": "[encoded data removed]",
            "text/plain": [
              "<Figure size 720x576 with 1 Axes>"
            ]
          },
          "metadata": {
            "needs_background": "light"
          },
          "output_type": "display_data"
        }
      ],
      "source": [
        "np.random.seed(0)\n",
        "# X, y = sklearn.datasets.make_moons(200, noise=0.20)\n",
        "X, y = sklearn.datasets.make_blobs(200, centers=2, cluster_std=0.9)\n",
        "X[0] += 1.5\n",
        "plt.scatter(X[:,0], X[:,1], s=40, c=y, cmap=plt.cm.Spectral)"
      ]
    },
    {
      "cell_type": "markdown",
      "metadata": {
        "id": "sp22IxtTtOtk"
      },
      "source": [
        "#### 1. Try to tune learning rate and number of iterations\n",
        "* What is the lowest error with current approach?*"
      ]
    },
    {
      "cell_type": "code",
      "execution_count": null,
      "metadata": {
        "id": "cSQQ0z6ttOtl"
      },
      "outputs": [],
      "source": []
    },
    {
      "cell_type": "markdown",
      "metadata": {
        "id": "21XMHZjktOtl"
      },
      "source": [
        "#### 2. It's time to add learnable bias\n",
        "* What is the lowest error now?*"
      ]
    },
    {
      "cell_type": "code",
      "execution_count": null,
      "metadata": {
        "id": "9-j4a2g0tOtl"
      },
      "outputs": [],
      "source": []
    },
    {
      "cell_type": "markdown",
      "metadata": {
        "id": "z1Lj65RMtOtl"
      },
      "source": [
        "#### 3*. Let's expand it for three classes"
      ]
    },
    {
      "cell_type": "code",
      "execution_count": null,
      "metadata": {
        "id": "wkpaUogXtOtm",
        "outputId": "7fd451ba-0aa3-471a-9b9e-c5975c7acc99"
      },
      "outputs": [
        {
          "data": {
            "text/plain": [
              "<matplotlib.collections.PathCollection at 0x7f8051463b10>"
            ]
          },
          "execution_count": 46,
          "metadata": {},
          "output_type": "execute_result"
        },
        {
          "data": {
            "image/png": "[encoded data removed]",
            "text/plain": [
              "<Figure size 720x576 with 1 Axes>"
            ]
          },
          "metadata": {
            "needs_background": "light"
          },
          "output_type": "display_data"
        }
      ],
      "source": [
        "np.random.seed(0)\n",
        "# X, y = sklearn.datasets.make_moons(200, noise=0.20)\n",
        "X, y = sklearn.datasets.make_blobs(200)\n",
        "plt.scatter(X[:,0], X[:,1], s=40, c=y, cmap=plt.cm.Spectral)"
      ]
    },
    {
      "cell_type": "markdown",
      "metadata": {
        "id": "0eYq8R80tOtm"
      },
      "source": [
        "**Idea:** we need to train weights for each class"
      ]
    },
    {
      "cell_type": "markdown",
      "metadata": {
        "id": "L7qRUWu5tOtm"
      },
      "source": [
        "\\begin{equation}\n",
        "y_p =   \\underset{c \\,=\\, 0,...,C-1}{\\text{argmax}} \\,\\,\\,\\mathring{\\mathbf{x}}_{p}^T \\mathbf{w}_c^{\\,}.\n",
        "\\end{equation}\n"
      ]
    },
    {
      "cell_type": "code",
      "execution_count": null,
      "metadata": {
        "id": "T0gqZhGStOtm"
      },
      "outputs": [],
      "source": []
    }
  ],
  "metadata": {
    "kernelspec": {
      "display_name": "ml-course",
      "language": "python",
      "name": "ml-course"
    },
    "language_info": {
      "codemirror_mode": {
        "name": "ipython",
        "version": 3
      },
      "file_extension": ".py",
      "mimetype": "text/x-python",
      "name": "python",
      "nbconvert_exporter": "python",
      "pygments_lexer": "ipython3",
      "version": "3.7.9"
    },
    "colab": {
      "provenance": [],
      "include_colab_link": true
    }
  },
  "nbformat": 4,
  "nbformat_minor": 0
}